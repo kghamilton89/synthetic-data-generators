{
 "cells": [
  {
   "cell_type": "code",
   "execution_count": 1,
   "id": "e5f95331",
   "metadata": {},
   "outputs": [
    {
     "name": "stdout",
     "output_type": "stream",
     "text": [
      "Note: you may need to restart the kernel to use updated packages.\n"
     ]
    }
   ],
   "source": [
    "%pip install selenium webdriver-manager -qqq"
   ]
  },
  {
   "cell_type": "code",
   "execution_count": 2,
   "id": "b7d24e0d",
   "metadata": {},
   "outputs": [],
   "source": [
    "from selenium import webdriver\n",
    "from selenium.webdriver.chrome.service import Service\n",
    "from selenium.webdriver.common.by import By\n",
    "from webdriver_manager.chrome import ChromeDriverManager\n",
    "import time\n",
    "import requests\n",
    "import os\n",
    "\n",
    "# Set up Chrome options\n",
    "options = webdriver.ChromeOptions()\n",
    "# options.add_argument('--headless')\n",
    "options.add_argument('--no-sandbox')\n",
    "options.add_argument('--disable-dev-shm-usage')\n",
    "\n",
    "# Launch browser\n",
    "driver = webdriver.Chrome(service=Service(ChromeDriverManager().install()), options=options)"
   ]
  },
  {
   "cell_type": "code",
   "execution_count": 3,
   "id": "f8780f2a",
   "metadata": {},
   "outputs": [],
   "source": [
    "NUM_ITEMS_TO_DOWNLOAD = 5\n",
    "BASE_URL = \"https://www.courtlistener.com/?type=oa&q=&type=oa&order_by=score%20desc\"\n",
    "OUTPUT_DIR = \"courtlistener_mp3s\"\n",
    "os.makedirs(OUTPUT_DIR, exist_ok=True)\n",
    "\n",
    "driver.get(BASE_URL)\n",
    "time.sleep(3)"
   ]
  },
  {
   "cell_type": "code",
   "execution_count": 4,
   "id": "e97d2e91",
   "metadata": {},
   "outputs": [
    {
     "name": "stdout",
     "output_type": "stream",
     "text": [
      "Found 5 case pages.\n"
     ]
    },
    {
     "data": {
      "text/plain": [
       "['https://www.courtlistener.com/audio/98513/united-states-v-gregory/?type=oa&type=oa&q=&order_by=score+desc',\n",
       " 'https://www.courtlistener.com/audio/98515/united-states-v-arturs-spila/?type=oa&type=oa&q=&order_by=score+desc',\n",
       " 'https://www.courtlistener.com/audio/98521/united-states-v-roger-snake/?type=oa&type=oa&q=&order_by=score+desc',\n",
       " 'https://www.courtlistener.com/audio/98523/united-states-v-evelio-santana/?type=oa&type=oa&q=&order_by=score+desc',\n",
       " 'https://www.courtlistener.com/audio/98522/united-states-v-paul-williams-anti/?type=oa&type=oa&q=&order_by=score+desc']"
      ]
     },
     "execution_count": 4,
     "metadata": {},
     "output_type": "execute_result"
    }
   ],
   "source": [
    "case_links = []\n",
    "case_elements = driver.find_elements(By.CSS_SELECTOR, \"h3.bottom.serif a\")\n",
    "\n",
    "for case in case_elements:\n",
    "    href = case.get_attribute(\"href\")\n",
    "    if href and \"/audio/\" in href:\n",
    "        case_links.append(href)\n",
    "\n",
    "# Trim to how many we want\n",
    "case_links = case_links[:NUM_ITEMS_TO_DOWNLOAD]\n",
    "\n",
    "print(f\"Found {len(case_links)} case pages.\")\n",
    "case_links\n"
   ]
  },
  {
   "cell_type": "code",
   "execution_count": null,
   "id": "4208d33f",
   "metadata": {},
   "outputs": [
    {
     "name": "stdout",
     "output_type": "stream",
     "text": [
      "❌ Failed to download from https://www.courtlistener.com/audio/98513/united-states-v-gregory/?type=oa&type=oa&q=&order_by=score+desc: Could not find case title on page\n",
      "❌ Failed to download from https://www.courtlistener.com/audio/98515/united-states-v-arturs-spila/?type=oa&type=oa&q=&order_by=score+desc: Could not find case title on page\n",
      "❌ Failed to download from https://www.courtlistener.com/audio/98521/united-states-v-roger-snake/?type=oa&type=oa&q=&order_by=score+desc: Could not find case title on page\n",
      "❌ Failed to download from https://www.courtlistener.com/audio/98523/united-states-v-evelio-santana/?type=oa&type=oa&q=&order_by=score+desc: Could not find case title on page\n",
      "❌ Failed to download from https://www.courtlistener.com/audio/98522/united-states-v-paul-williams-anti/?type=oa&type=oa&q=&order_by=score+desc: Could not find case title on page\n"
     ]
    }
   ],
   "source": [
    "from urllib.parse import urlparse\n",
    "import re\n",
    "import time\n",
    "\n",
    "for i, case_url in enumerate(case_links):\n",
    "    driver.get(case_url)\n",
    "    time.sleep(2)  # Wait for the case page to load\n",
    "\n",
    "    try:\n",
    "        # Extract case name from the URL\n",
    "        path_parts = urlparse(case_url).path.strip('/').split('/')\n",
    "        case_slug = path_parts[-1]  # e.g., \"united-states-v-gregory\"\n",
    "        filename_base = re.sub(r'[^\\w\\-]', '', case_slug)\n",
    "        filename = f\"{filename_base}.mp3\"\n",
    "        filepath = os.path.join(OUTPUT_DIR, filename)\n",
    "\n",
    "        # Find and download the MP3\n",
    "        mp3_button = driver.find_element(By.LINK_TEXT, \"Download MP3\")\n",
    "        mp3_url = mp3_button.get_attribute(\"href\")\n",
    "        mp3_data = requests.get(mp3_url).content\n",
    "\n",
    "        with open(filepath, \"wb\") as f:\n",
    "            f.write(mp3_data)\n",
    "\n",
    "        print(f\"✅ Downloaded {filename}\")\n",
    "    except Exception as e:\n",
    "        print(f\"❌ Failed to download from {case_url}: {e}\")\n"
   ]
  },
  {
   "cell_type": "code",
   "execution_count": 6,
   "id": "6ba53063",
   "metadata": {},
   "outputs": [],
   "source": [
    "driver.quit()"
   ]
  }
 ],
 "metadata": {
  "kernelspec": {
   "display_name": "gen",
   "language": "python",
   "name": "python3"
  },
  "language_info": {
   "codemirror_mode": {
    "name": "ipython",
    "version": 3
   },
   "file_extension": ".py",
   "mimetype": "text/x-python",
   "name": "python",
   "nbconvert_exporter": "python",
   "pygments_lexer": "ipython3",
   "version": "3.13.3"
  }
 },
 "nbformat": 4,
 "nbformat_minor": 5
}
