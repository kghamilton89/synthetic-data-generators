{
 "cells": [
  {
   "cell_type": "code",
   "execution_count": null,
   "id": "e5f95331",
   "metadata": {},
   "outputs": [],
   "source": [
    "%pip install selenium webdriver-manager -qqq"
   ]
  },
  {
   "cell_type": "code",
   "execution_count": null,
   "id": "b7d24e0d",
   "metadata": {},
   "outputs": [],
   "source": [
    "from selenium import webdriver\n",
    "from selenium.webdriver.chrome.service import Service\n",
    "from selenium.webdriver.common.by import By\n",
    "from webdriver_manager.chrome import ChromeDriverManager\n",
    "import os\n",
    "\n",
    "options = webdriver.ChromeOptions()\n",
    "options.add_argument('--no-sandbox')\n",
    "options.add_argument('--disable-dev-shm-usage')\n",
    "\n",
    "driver = webdriver.Chrome(service=Service(ChromeDriverManager().install()), options=options)"
   ]
  },
  {
   "cell_type": "code",
   "execution_count": null,
   "id": "f8780f2a",
   "metadata": {},
   "outputs": [],
   "source": [
    "from tqdm import tqdm\n",
    "\n",
    "NUM_ITEMS_TO_DOWNLOAD = 150\n",
    "OUTPUT_DIR = \"courtlistener_mp3s\"\n",
    "os.makedirs(OUTPUT_DIR, exist_ok=True)\n",
    "\n",
    "BASE_URL = \"https://www.courtlistener.com/?type=oa&q=&type=oa&order_by=score%20desc\"\n"
   ]
  },
  {
   "cell_type": "code",
   "execution_count": null,
   "id": "e97d2e91",
   "metadata": {},
   "outputs": [],
   "source": [
    "case_links = []\n",
    "page = 1\n",
    "\n",
    "while len(case_links) < NUM_ITEMS_TO_DOWNLOAD:\n",
    "    paged_url = f\"{BASE_URL}&page={page}\"\n",
    "    driver.get(paged_url)\n",
    "    \n",
    "    driver.implicitly_wait(5)  # Wait for elements to load\n",
    "\n",
    "    links_on_page = driver.find_elements(By.CSS_SELECTOR, \"h3.bottom.serif a\")\n",
    "    new_links = [link.get_attribute(\"href\") for link in links_on_page if link.get_attribute(\"href\")]\n",
    "\n",
    "    if not new_links:\n",
    "        print(f\"No more results found on page {page}.\")\n",
    "        break\n",
    "\n",
    "    for link in new_links:\n",
    "        if link not in case_links:\n",
    "            case_links.append(link)\n",
    "        if len(case_links) >= NUM_ITEMS_TO_DOWNLOAD:\n",
    "            break\n",
    "\n",
    "    page += 1\n",
    "\n",
    "print(f\"Collected {len(case_links)} case URLs.\")\n"
   ]
  },
  {
   "cell_type": "code",
   "execution_count": null,
   "id": "5e989cc0",
   "metadata": {},
   "outputs": [],
   "source": [
    "import pandas as pd\n",
    "\n",
    "metadata = []"
   ]
  },
  {
   "cell_type": "code",
   "execution_count": null,
   "id": "4208d33f",
   "metadata": {},
   "outputs": [],
   "source": [
    "from urllib.parse import urlparse\n",
    "import re\n",
    "import requests\n",
    "import time\n",
    "\n",
    "from selenium.webdriver.support.ui import WebDriverWait\n",
    "from selenium.webdriver.support import expected_conditions as EC\n",
    "from selenium.webdriver.common.by import By\n",
    "\n",
    "for case_url in tqdm(case_links[:NUM_ITEMS_TO_DOWNLOAD], desc=\"Downloading MP3s\", unit=\"file\"):\n",
    "    try:\n",
    "        driver.get(case_url)\n",
    "        WebDriverWait(driver, 10).until(EC.presence_of_element_located((By.LINK_TEXT, \"Download MP3\")))\n",
    "\n",
    "        # --- Extract MP3 URL first ---\n",
    "        mp3_button = driver.find_element(By.LINK_TEXT, \"Download MP3\")\n",
    "        mp3_url = mp3_button.get_attribute(\"href\")\n",
    "        mp3_data = requests.get(mp3_url).content\n",
    "\n",
    "        # --- Build filename from URL ---\n",
    "        path_parts = urlparse(case_url).path.strip('/').split('/')\n",
    "        case_slug = path_parts[-1]\n",
    "        filename_base = re.sub(r'[^\\w\\-]', '', case_slug)\n",
    "        filename = f\"{filename_base}.mp3\"\n",
    "        filepath = os.path.join(OUTPUT_DIR, filename)\n",
    "\n",
    "        # --- Save MP3 ---\n",
    "        with open(filepath, \"wb\") as f:\n",
    "            f.write(mp3_data)\n",
    "\n",
    "        # --- Extract metadata ---\n",
    "        # Court Case Name from slug\n",
    "        court_case_name = case_slug.replace('-', ' ').title()\n",
    "\n",
    "        # Court name\n",
    "        # Find the h3 element *above* the \"Date Argued\" span\n",
    "        date_argued_label = driver.find_element(By.XPATH, \"//span[contains(text(), 'Date Argued:')]\")\n",
    "        court_name = date_argued_label.find_element(By.XPATH, \"./ancestor::p/preceding-sibling::h3[1]\").text.strip()\n",
    "\n",
    "\n",
    "        # Date Argued\n",
    "        date_text = driver.find_element(By.XPATH, \"//span[contains(text(), 'Date Argued:')]/following-sibling::span\").text.strip()\n",
    "\n",
    "        # Duration\n",
    "        duration = driver.find_element(By.XPATH, \"//span[contains(text(), 'Duration:')]/following-sibling::span\").text.strip()\n",
    "\n",
    "        # Docket Number\n",
    "        docket_number = driver.find_element(By.XPATH, \"//span[contains(text(), 'Docket Number:')]/following-sibling::a\").text.strip()\n",
    "\n",
    "        metadata.append({\n",
    "            \"Court Case Name\": court_case_name,\n",
    "            \"Court\": court_name,\n",
    "            \"Date Argued\": date_text,\n",
    "            \"Duration\": duration,\n",
    "            \"Docket Number\": docket_number,\n",
    "            \"MP3 URL\": mp3_url\n",
    "        })\n",
    "\n",
    "    except Exception as e:\n",
    "        tqdm.write(f\"Failed to process {case_url}: {e}\")\n"
   ]
  },
  {
   "cell_type": "code",
   "execution_count": null,
   "id": "61a3a48b",
   "metadata": {},
   "outputs": [],
   "source": [
    "driver.quit()\n",
    "\n",
    "df = pd.DataFrame(metadata)\n",
    "df.head(100)\n"
   ]
  }
 ],
 "metadata": {
  "kernelspec": {
   "display_name": "gen",
   "language": "python",
   "name": "python3"
  },
  "language_info": {
   "codemirror_mode": {
    "name": "ipython",
    "version": 3
   },
   "file_extension": ".py",
   "mimetype": "text/x-python",
   "name": "python",
   "nbconvert_exporter": "python",
   "pygments_lexer": "ipython3",
   "version": "3.13.3"
  }
 },
 "nbformat": 4,
 "nbformat_minor": 5
}
