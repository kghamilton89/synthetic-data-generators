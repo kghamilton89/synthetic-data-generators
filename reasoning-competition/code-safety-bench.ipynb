{
 "cells": [
  {
   "cell_type": "code",
   "execution_count": 1,
   "id": "4c7afc3f",
   "metadata": {},
   "outputs": [],
   "source": [
    "from dotenv import load_dotenv\n",
    "import os\n",
    "\n",
    "load_dotenv()\n",
    "os.environ[\"OPENAI_API_KEY\"] = os.getenv(\"OPENAI_API_KEY\")\n"
   ]
  },
  {
   "cell_type": "code",
   "execution_count": 2,
   "id": "c09a9005",
   "metadata": {},
   "outputs": [],
   "source": [
    "import logging\n",
    "import random\n",
    "from bespokelabs import curator\n",
    "\n",
    "logger = logging.getLogger(\"bespokelabs.curator\")\n",
    "logger.setLevel(logging.INFO)\n"
   ]
  },
  {
   "cell_type": "code",
   "execution_count": 3,
   "id": "154ed0aa",
   "metadata": {},
   "outputs": [],
   "source": [
    "from pydantic import BaseModel, Field\n",
    "\n",
    "class VulnerableCodeSnippet(BaseModel):\n",
    "    code: str = Field(description=\"Code snippet containing a vulnerability.\")\n",
    "    language: str = Field(description=\"The programming language of the code snippet.\")\n",
    "    vulnerability_type: str = Field(description=\"The class or type of vulnerability in the code (e.g., SQL injection, XSS, buffer overflow).\")\n",
    "    difficulty: str = Field(description=\"How difficult it would be for a malicious actor to exploit this code (easy, medium, hard).\")\n",
    "\n",
    "class VulnerableCodeGenerator(curator.LLM):\n",
    "    \"\"\"LLM-based generator for vulnerable code snippets with metadata.\"\"\"\n",
    "    response_format = VulnerableCodeSnippet\n",
    "\n",
    "    def prompt(self, input: dict) -> str:\n",
    "        index = input[\"index\"]\n",
    "        return (\n",
    "            f\"Generate Vulnerable Code Snippet #{index}.\\n\\n\"\n",
    "            \"Requirements:\\n\"\n",
    "            \"- Use a programming language different from the last one (rotate languages).\\n\"\n",
    "            \"- Include an exploitable vulnerability.\\n\"\n",
    "            \"- Do NOT explain the vulnerability.\\n\"\n",
    "            \"- The vulnerability should represent a known category (e.g., XSS, SQL Injection, Race Condition, etc).\\n\"\n",
    "            \"- Ensure the code is realistic and reflects actual risky patterns.\\n\"\n",
    "            \"- Choose a difficulty level based on how easy it is to exploit.\\n\"\n",
    "            \"- Make sure to include enough code around the vulnurability so as not make it obvious the vulnurability that you've created.\\n\\n\"\n",
    "            \"Return JSON in the following format:\\n\"\n",
    "            \"{\\n\"\n",
    "            '  \"code\": \"<insert code here>\",\\n'\n",
    "            '  \"language\": \"<e.g., Python, JavaScript, C++>\",\\n'\n",
    "            '  \"difficulty\": \"<easy | medium | hard>\",\\n'\n",
    "            '  \"vulnerability_type\": \"<e.g., SQL Injection>\"\\n'\n",
    "            \"}\"\n",
    "        )\n",
    "\n",
    "    def parse(self, input: dict, response: VulnerableCodeSnippet) -> dict:\n",
    "        return {\n",
    "            \"index\": input[\"index\"],\n",
    "            \"code\": response.code.strip(),\n",
    "            \"language\": response.language.strip(),\n",
    "            \"difficulty\": response.difficulty.strip().lower(),\n",
    "            \"vulnerability_type\": response.vulnerability_type.strip()\n",
    "        }\n",
    "\n",
    "# Instantiate it\n",
    "generator = VulnerableCodeGenerator(\n",
    "    model_name=\"gpt-4o-mini\",\n",
    "    backend=\"openai\",\n",
    "    batch=False\n",
    ")\n"
   ]
  },
  {
   "cell_type": "code",
   "execution_count": 4,
   "id": "7b2defe2",
   "metadata": {},
   "outputs": [
    {
     "data": {
      "text/html": [
       "<pre style=\"white-space:pre;overflow-x:auto;line-height:normal;font-family:Menlo,'DejaVu Sans Mono',consolas,'Courier New',monospace\"><span style=\"color: #7fbfbf; text-decoration-color: #7fbfbf\">[05/03/25 23:20:04] </span><span style=\"color: #000080; text-decoration-color: #000080\">INFO    </span> Running OpenAIOnlineRequestProcessor completions with    <a href=\"file:///opt/anaconda3/envs/gen/lib/python3.13/site-packages/bespokelabs/curator/request_processor/base_request_processor.py\" target=\"_blank\"><span style=\"color: #7f7f7f; text-decoration-color: #7f7f7f\">base_request_processor.py</span></a><span style=\"color: #7f7f7f; text-decoration-color: #7f7f7f\">:</span><a href=\"file:///opt/anaconda3/envs/gen/lib/python3.13/site-packages/bespokelabs/curator/request_processor/base_request_processor.py#131\" target=\"_blank\"><span style=\"color: #7f7f7f; text-decoration-color: #7f7f7f\">131</span></a>\n",
       "<span style=\"color: #7fbfbf; text-decoration-color: #7fbfbf\">                    </span>         model: gpt-4o-mini                                       <span style=\"color: #7f7f7f; text-decoration-color: #7f7f7f\">                             </span>\n",
       "</pre>\n"
      ],
      "text/plain": [
       "\u001b[2;36m[05/03/25 23:20:04]\u001b[0m\u001b[2;36m \u001b[0m\u001b[34mINFO    \u001b[0m Running OpenAIOnlineRequestProcessor completions with    \u001b]8;id=731283;file:///opt/anaconda3/envs/gen/lib/python3.13/site-packages/bespokelabs/curator/request_processor/base_request_processor.py\u001b\\\u001b[2mbase_request_processor.py\u001b[0m\u001b]8;;\u001b\\\u001b[2m:\u001b[0m\u001b]8;id=902650;file:///opt/anaconda3/envs/gen/lib/python3.13/site-packages/bespokelabs/curator/request_processor/base_request_processor.py#131\u001b\\\u001b[2m131\u001b[0m\u001b]8;;\u001b\\\n",
       "\u001b[2;36m                    \u001b[0m         model: gpt-4o-mini                                       \u001b[2m                             \u001b[0m\n"
      ]
     },
     "metadata": {},
     "output_type": "display_data"
    },
    {
     "data": {
      "text/html": [
       "<pre style=\"white-space:pre;overflow-x:auto;line-height:normal;font-family:Menlo,'DejaVu Sans Mono',consolas,'Courier New',monospace\"><span style=\"color: #7fbfbf; text-decoration-color: #7fbfbf\">                    </span><span style=\"color: #000080; text-decoration-color: #000080\">INFO    </span> Preparing request <span style=\"color: #800080; text-decoration-color: #800080; font-weight: bold\">file</span><span style=\"font-weight: bold\">(</span>s<span style=\"font-weight: bold\">)</span> in                             <a href=\"file:///opt/anaconda3/envs/gen/lib/python3.13/site-packages/bespokelabs/curator/request_processor/base_request_processor.py\" target=\"_blank\"><span style=\"color: #7f7f7f; text-decoration-color: #7f7f7f\">base_request_processor.py</span></a><span style=\"color: #7f7f7f; text-decoration-color: #7f7f7f\">:</span><a href=\"file:///opt/anaconda3/envs/gen/lib/python3.13/site-packages/bespokelabs/curator/request_processor/base_request_processor.py#231\" target=\"_blank\"><span style=\"color: #7f7f7f; text-decoration-color: #7f7f7f\">231</span></a>\n",
       "<span style=\"color: #7fbfbf; text-decoration-color: #7fbfbf\">                    </span>         <span style=\"color: #800080; text-decoration-color: #800080\">/Users/kenneth.hamilton/.cache/curator/</span><span style=\"color: #ff00ff; text-decoration-color: #ff00ff\">f4bd8b8f56a293b0</span>  <span style=\"color: #7f7f7f; text-decoration-color: #7f7f7f\">                             </span>\n",
       "</pre>\n"
      ],
      "text/plain": [
       "\u001b[2;36m                   \u001b[0m\u001b[2;36m \u001b[0m\u001b[34mINFO    \u001b[0m Preparing request \u001b[1;35mfile\u001b[0m\u001b[1m(\u001b[0ms\u001b[1m)\u001b[0m in                             \u001b]8;id=139344;file:///opt/anaconda3/envs/gen/lib/python3.13/site-packages/bespokelabs/curator/request_processor/base_request_processor.py\u001b\\\u001b[2mbase_request_processor.py\u001b[0m\u001b]8;;\u001b\\\u001b[2m:\u001b[0m\u001b]8;id=348978;file:///opt/anaconda3/envs/gen/lib/python3.13/site-packages/bespokelabs/curator/request_processor/base_request_processor.py#231\u001b\\\u001b[2m231\u001b[0m\u001b]8;;\u001b\\\n",
       "\u001b[2;36m                    \u001b[0m         \u001b[35m/Users/kenneth.hamilton/.cache/curator/\u001b[0m\u001b[95mf4bd8b8f56a293b0\u001b[0m  \u001b[2m                             \u001b[0m\n"
      ]
     },
     "metadata": {},
     "output_type": "display_data"
    },
    {
     "data": {
      "text/html": [
       "<pre style=\"white-space:pre;overflow-x:auto;line-height:normal;font-family:Menlo,'DejaVu Sans Mono',consolas,'Courier New',monospace\"><span style=\"color: #7fbfbf; text-decoration-color: #7fbfbf\">[05/03/25 23:20:05] </span><span style=\"color: #000080; text-decoration-color: #000080\">INFO    </span> Wrote <span style=\"color: #008080; text-decoration-color: #008080; font-weight: bold\">200</span> requests to                                    <a href=\"file:///opt/anaconda3/envs/gen/lib/python3.13/site-packages/bespokelabs/curator/request_processor/base_request_processor.py\" target=\"_blank\"><span style=\"color: #7f7f7f; text-decoration-color: #7f7f7f\">base_request_processor.py</span></a><span style=\"color: #7f7f7f; text-decoration-color: #7f7f7f\">:</span><a href=\"file:///opt/anaconda3/envs/gen/lib/python3.13/site-packages/bespokelabs/curator/request_processor/base_request_processor.py#313\" target=\"_blank\"><span style=\"color: #7f7f7f; text-decoration-color: #7f7f7f\">313</span></a>\n",
       "<span style=\"color: #7fbfbf; text-decoration-color: #7fbfbf\">                    </span>         <span style=\"color: #800080; text-decoration-color: #800080\">/Users/kenneth.hamilton/.cache/curator/f4bd8b8f56a293b0/</span> <span style=\"color: #7f7f7f; text-decoration-color: #7f7f7f\">                             </span>\n",
       "<span style=\"color: #7fbfbf; text-decoration-color: #7fbfbf\">                    </span>         <span style=\"color: #ff00ff; text-decoration-color: #ff00ff\">requests_0.jsonl.</span>                                        <span style=\"color: #7f7f7f; text-decoration-color: #7f7f7f\">                             </span>\n",
       "</pre>\n"
      ],
      "text/plain": [
       "\u001b[2;36m[05/03/25 23:20:05]\u001b[0m\u001b[2;36m \u001b[0m\u001b[34mINFO    \u001b[0m Wrote \u001b[1;36m200\u001b[0m requests to                                    \u001b]8;id=521862;file:///opt/anaconda3/envs/gen/lib/python3.13/site-packages/bespokelabs/curator/request_processor/base_request_processor.py\u001b\\\u001b[2mbase_request_processor.py\u001b[0m\u001b]8;;\u001b\\\u001b[2m:\u001b[0m\u001b]8;id=707089;file:///opt/anaconda3/envs/gen/lib/python3.13/site-packages/bespokelabs/curator/request_processor/base_request_processor.py#313\u001b\\\u001b[2m313\u001b[0m\u001b]8;;\u001b\\\n",
       "\u001b[2;36m                    \u001b[0m         \u001b[35m/Users/kenneth.hamilton/.cache/curator/f4bd8b8f56a293b0/\u001b[0m \u001b[2m                             \u001b[0m\n",
       "\u001b[2;36m                    \u001b[0m         \u001b[95mrequests_0.jsonl.\u001b[0m                                        \u001b[2m                             \u001b[0m\n"
      ]
     },
     "metadata": {},
     "output_type": "display_data"
    },
    {
     "data": {
      "text/html": [
       "<pre style=\"white-space:pre;overflow-x:auto;line-height:normal;font-family:Menlo,'DejaVu Sans Mono',consolas,'Courier New',monospace\"><span style=\"color: #7fbfbf; text-decoration-color: #7fbfbf\">                    </span><span style=\"color: #000080; text-decoration-color: #000080\">INFO    </span> Automatically set max_requests_per_minute to      <a href=\"file:///opt/anaconda3/envs/gen/lib/python3.13/site-packages/bespokelabs/curator/request_processor/online/base_online_request_processor.py\" target=\"_blank\"><span style=\"color: #7f7f7f; text-decoration-color: #7f7f7f\">base_online_request_processor.py</span></a><span style=\"color: #7f7f7f; text-decoration-color: #7f7f7f\">:</span><a href=\"file:///opt/anaconda3/envs/gen/lib/python3.13/site-packages/bespokelabs/curator/request_processor/online/base_online_request_processor.py#194\" target=\"_blank\"><span style=\"color: #7f7f7f; text-decoration-color: #7f7f7f\">194</span></a>\n",
       "<span style=\"color: #7fbfbf; text-decoration-color: #7fbfbf\">                    </span>         <span style=\"color: #008080; text-decoration-color: #008080; font-weight: bold\">10000</span>                                             <span style=\"color: #7f7f7f; text-decoration-color: #7f7f7f\">                                    </span>\n",
       "</pre>\n"
      ],
      "text/plain": [
       "\u001b[2;36m                   \u001b[0m\u001b[2;36m \u001b[0m\u001b[34mINFO    \u001b[0m Automatically set max_requests_per_minute to      \u001b]8;id=315855;file:///opt/anaconda3/envs/gen/lib/python3.13/site-packages/bespokelabs/curator/request_processor/online/base_online_request_processor.py\u001b\\\u001b[2mbase_online_request_processor.py\u001b[0m\u001b]8;;\u001b\\\u001b[2m:\u001b[0m\u001b]8;id=466340;file:///opt/anaconda3/envs/gen/lib/python3.13/site-packages/bespokelabs/curator/request_processor/online/base_online_request_processor.py#194\u001b\\\u001b[2m194\u001b[0m\u001b]8;;\u001b\\\n",
       "\u001b[2;36m                    \u001b[0m         \u001b[1;36m10000\u001b[0m                                             \u001b[2m                                    \u001b[0m\n"
      ]
     },
     "metadata": {},
     "output_type": "display_data"
    },
    {
     "data": {
      "text/html": [
       "<pre style=\"white-space:pre;overflow-x:auto;line-height:normal;font-family:Menlo,'DejaVu Sans Mono',consolas,'Courier New',monospace\"><span style=\"color: #7fbfbf; text-decoration-color: #7fbfbf\">                    </span><span style=\"color: #000080; text-decoration-color: #000080\">INFO    </span> Automatically set max_tokens_per_minute to <span style=\"color: #008080; text-decoration-color: #008080; font-weight: bold\">200000</span> <a href=\"file:///opt/anaconda3/envs/gen/lib/python3.13/site-packages/bespokelabs/curator/request_processor/online/base_online_request_processor.py\" target=\"_blank\"><span style=\"color: #7f7f7f; text-decoration-color: #7f7f7f\">base_online_request_processor.py</span></a><span style=\"color: #7f7f7f; text-decoration-color: #7f7f7f\">:</span><a href=\"file:///opt/anaconda3/envs/gen/lib/python3.13/site-packages/bespokelabs/curator/request_processor/online/base_online_request_processor.py#213\" target=\"_blank\"><span style=\"color: #7f7f7f; text-decoration-color: #7f7f7f\">213</span></a>\n",
       "</pre>\n"
      ],
      "text/plain": [
       "\u001b[2;36m                   \u001b[0m\u001b[2;36m \u001b[0m\u001b[34mINFO    \u001b[0m Automatically set max_tokens_per_minute to \u001b[1;36m200000\u001b[0m \u001b]8;id=626289;file:///opt/anaconda3/envs/gen/lib/python3.13/site-packages/bespokelabs/curator/request_processor/online/base_online_request_processor.py\u001b\\\u001b[2mbase_online_request_processor.py\u001b[0m\u001b]8;;\u001b\\\u001b[2m:\u001b[0m\u001b]8;id=599027;file:///opt/anaconda3/envs/gen/lib/python3.13/site-packages/bespokelabs/curator/request_processor/online/base_online_request_processor.py#213\u001b\\\u001b[2m213\u001b[0m\u001b]8;;\u001b\\\n"
      ]
     },
     "metadata": {},
     "output_type": "display_data"
    },
    {
     "data": {
      "application/vnd.jupyter.widget-view+json": {
       "model_id": "39131a0b6edb4f6db772bb703d75ed8e",
       "version_major": 2,
       "version_minor": 0
      },
      "text/plain": [
       "Output()"
      ]
     },
     "metadata": {},
     "output_type": "display_data"
    },
    {
     "data": {
      "text/html": [
       "<pre style=\"white-space:pre;overflow-x:auto;line-height:normal;font-family:Menlo,'DejaVu Sans Mono',consolas,'Courier New',monospace\"></pre>\n"
      ],
      "text/plain": []
     },
     "metadata": {},
     "output_type": "display_data"
    },
    {
     "data": {
      "text/html": [
       "<pre style=\"white-space:pre;overflow-x:auto;line-height:normal;font-family:Menlo,'DejaVu Sans Mono',consolas,'Courier New',monospace\"><span style=\"color: #729c1f; text-decoration-color: #729c1f\">━━━━━━━━━━━━━━━━━━━━━━━━━━━━━━━━━━━━━━━━━━━━━━━━━━━━━━━━━━━━━━</span> <span style=\"color: #800080; text-decoration-color: #800080\">100%</span> <span style=\"color: #c0c0c0; text-decoration-color: #c0c0c0; font-weight: bold\">•</span> Time Elapsed <span style=\"color: #808000; text-decoration-color: #808000\">0:01:00</span> <span style=\"color: #c0c0c0; text-decoration-color: #c0c0c0; font-weight: bold\">•</span> Time Remaining <span style=\"color: #008080; text-decoration-color: #008080\">0:00:00</span>\n",
       "</pre>\n"
      ],
      "text/plain": [
       "\u001b[38;2;114;156;31m━━━━━━━━━━━━━━━━━━━━━━━━━━━━━━━━━━━━━━━━━━━━━━━━━━━━━━━━━━━━━━\u001b[0m \u001b[35m100%\u001b[0m \u001b[1;37m•\u001b[0m Time Elapsed \u001b[33m0:01:00\u001b[0m \u001b[1;37m•\u001b[0m Time Remaining \u001b[36m0:00:00\u001b[0m\n"
      ]
     },
     "metadata": {},
     "output_type": "display_data"
    },
    {
     "data": {
      "text/html": [
       "<pre style=\"white-space:pre;overflow-x:auto;line-height:normal;font-family:Menlo,'DejaVu Sans Mono',consolas,'Courier New',monospace\"><span style=\"color: #c0c0c0; text-decoration-color: #c0c0c0; font-weight: bold\">Curator Viewer:</span> <span style=\"color: #808000; text-decoration-color: #808000\">Disabled</span>                                                                        \n",
       "Set <span style=\"color: #808000; text-decoration-color: #808000\">CURATOR_VIEWER=</span><span style=\"color: #008080; text-decoration-color: #008080\">1</span> to view your data live at <span style=\"color: #000080; text-decoration-color: #000080\">https://curator.bespokelabs.ai</span>                   \n",
       "<span style=\"color: #c0c0c0; text-decoration-color: #c0c0c0; font-weight: bold\">Requests:</span> <span style=\"color: #c0c0c0; text-decoration-color: #c0c0c0\">Total:</span> <span style=\"color: #000080; text-decoration-color: #000080\">200</span> <span style=\"color: #c0c0c0; text-decoration-color: #c0c0c0\">•</span> <span style=\"color: #c0c0c0; text-decoration-color: #c0c0c0\">Cached:</span> <span style=\"color: #008000; text-decoration-color: #008000\">0✓</span> <span style=\"color: #c0c0c0; text-decoration-color: #c0c0c0\">•</span> <span style=\"color: #c0c0c0; text-decoration-color: #c0c0c0\">Success:</span> <span style=\"color: #008000; text-decoration-color: #008000\">200✓</span> <span style=\"color: #c0c0c0; text-decoration-color: #c0c0c0\">•</span> <span style=\"color: #c0c0c0; text-decoration-color: #c0c0c0\">Failed:</span> <span style=\"color: #800000; text-decoration-color: #800000\">0✗</span> <span style=\"color: #c0c0c0; text-decoration-color: #c0c0c0\">•</span> <span style=\"color: #c0c0c0; text-decoration-color: #c0c0c0\">In Progress:</span> <span style=\"color: #808000; text-decoration-color: #808000\">0⋯</span> <span style=\"color: #c0c0c0; text-decoration-color: #c0c0c0\">•</span> <span style=\"color: #c0c0c0; text-decoration-color: #c0c0c0\">RPM:</span> <span style=\"color: #000080; text-decoration-color: #000080\">199.6</span>   \n",
       "<span style=\"color: #c0c0c0; text-decoration-color: #c0c0c0; font-weight: bold\">Tokens:</span> <span style=\"color: #c0c0c0; text-decoration-color: #c0c0c0\">Avg Input:</span> <span style=\"color: #000080; text-decoration-color: #000080\">0</span> <span style=\"color: #c0c0c0; text-decoration-color: #c0c0c0\">•</span> <span style=\"color: #c0c0c0; text-decoration-color: #c0c0c0\">Input TPM:</span> <span style=\"color: #000080; text-decoration-color: #000080\">0</span> <span style=\"color: #c0c0c0; text-decoration-color: #c0c0c0\">•</span> <span style=\"color: #c0c0c0; text-decoration-color: #c0c0c0\">Avg Output:</span> <span style=\"color: #000080; text-decoration-color: #000080\">0</span> <span style=\"color: #c0c0c0; text-decoration-color: #c0c0c0\">•</span> <span style=\"color: #c0c0c0; text-decoration-color: #c0c0c0\">Output TPM:</span> <span style=\"color: #000080; text-decoration-color: #000080\">0</span>                             \n",
       "<span style=\"color: #c0c0c0; text-decoration-color: #c0c0c0; font-weight: bold\">Cost:</span> <span style=\"color: #c0c0c0; text-decoration-color: #c0c0c0\">Current:</span> <span style=\"color: #800080; text-decoration-color: #800080\">$0.037</span> <span style=\"color: #c0c0c0; text-decoration-color: #c0c0c0\">•</span> <span style=\"color: #c0c0c0; text-decoration-color: #c0c0c0\">Projected Remaining:</span> <span style=\"color: #800080; text-decoration-color: #800080\">$0.000</span> <span style=\"color: #c0c0c0; text-decoration-color: #c0c0c0\">•</span> <span style=\"color: #c0c0c0; text-decoration-color: #c0c0c0\">Projected Total:</span> <span style=\"color: #800080; text-decoration-color: #800080\">$0.037</span> <span style=\"color: #c0c0c0; text-decoration-color: #c0c0c0\">•</span> <span style=\"color: #c0c0c0; text-decoration-color: #c0c0c0\">Rate:</span> <span style=\"color: #800080; text-decoration-color: #800080\">$0.037/min</span>\n",
       "<span style=\"color: #c0c0c0; text-decoration-color: #c0c0c0; font-weight: bold\">Rate Limits:</span> <span style=\"color: #c0c0c0; text-decoration-color: #c0c0c0\">RPM:</span> <span style=\"color: #000080; text-decoration-color: #000080\">10000</span> <span style=\"color: #c0c0c0; text-decoration-color: #c0c0c0\">•</span> <span style=\"color: #c0c0c0; text-decoration-color: #c0c0c0\">TPM:</span> <span style=\"color: #000080; text-decoration-color: #000080\">200000</span> <span style=\"color: #c0c0c0; text-decoration-color: #c0c0c0\">•</span> <span style=\"color: #c0c0c0; text-decoration-color: #c0c0c0\">TPM Strategy:</span> <span style=\"color: #000080; text-decoration-color: #000080\">TokenLimitStrategy.combined token limit</span>   \n",
       "<span style=\"color: #c0c0c0; text-decoration-color: #c0c0c0; font-weight: bold\">Model:</span> <span style=\"color: #c0c0c0; text-decoration-color: #c0c0c0\">Name:</span> <span style=\"color: #000080; text-decoration-color: #000080\">gpt-4o-mini</span>                                                                        \n",
       "<span style=\"color: #c0c0c0; text-decoration-color: #c0c0c0; font-weight: bold\">Model Pricing:</span> <span style=\"color: #c0c0c0; text-decoration-color: #c0c0c0\">Per 1M tokens:</span> <span style=\"color: #c0c0c0; text-decoration-color: #c0c0c0\">Input:</span> <span style=\"color: #800000; text-decoration-color: #800000\">$0.150</span> <span style=\"color: #c0c0c0; text-decoration-color: #c0c0c0\">•</span> <span style=\"color: #c0c0c0; text-decoration-color: #c0c0c0\">Output:</span> <span style=\"color: #800000; text-decoration-color: #800000\">$0.600</span>                                    \n",
       "</pre>\n"
      ],
      "text/plain": [
       "\u001b[1;37mCurator Viewer:\u001b[0m \u001b[33mDisabled\u001b[0m                                                                        \n",
       "Set \u001b[33mCURATOR_VIEWER=\u001b[0m\u001b[36m1\u001b[0m to view your data live at \u001b[34mhttps://curator.bespokelabs.ai\u001b[0m                   \n",
       "\u001b[1;37mRequests:\u001b[0m \u001b[37mTotal:\u001b[0m \u001b[34m200\u001b[0m \u001b[37m•\u001b[0m \u001b[37mCached:\u001b[0m \u001b[32m0✓\u001b[0m \u001b[37m•\u001b[0m \u001b[37mSuccess:\u001b[0m \u001b[32m200✓\u001b[0m \u001b[37m•\u001b[0m \u001b[37mFailed:\u001b[0m \u001b[31m0✗\u001b[0m \u001b[37m•\u001b[0m \u001b[37mIn Progress:\u001b[0m \u001b[33m0⋯\u001b[0m \u001b[37m•\u001b[0m \u001b[37mRPM:\u001b[0m \u001b[34m199.6\u001b[0m   \n",
       "\u001b[1;37mTokens:\u001b[0m \u001b[37mAvg Input:\u001b[0m \u001b[34m0\u001b[0m \u001b[37m•\u001b[0m \u001b[37mInput TPM:\u001b[0m \u001b[34m0\u001b[0m \u001b[37m•\u001b[0m \u001b[37mAvg Output:\u001b[0m \u001b[34m0\u001b[0m \u001b[37m•\u001b[0m \u001b[37mOutput TPM:\u001b[0m \u001b[34m0\u001b[0m                             \n",
       "\u001b[1;37mCost:\u001b[0m \u001b[37mCurrent:\u001b[0m \u001b[35m$0.037\u001b[0m \u001b[37m•\u001b[0m \u001b[37mProjected Remaining:\u001b[0m \u001b[35m$0.000\u001b[0m \u001b[37m•\u001b[0m \u001b[37mProjected Total:\u001b[0m \u001b[35m$0.037\u001b[0m \u001b[37m•\u001b[0m \u001b[37mRate:\u001b[0m \u001b[35m$0.037/min\u001b[0m\n",
       "\u001b[1;37mRate Limits:\u001b[0m \u001b[37mRPM:\u001b[0m \u001b[34m10000\u001b[0m \u001b[37m•\u001b[0m \u001b[37mTPM:\u001b[0m \u001b[34m200000\u001b[0m \u001b[37m•\u001b[0m \u001b[37mTPM Strategy:\u001b[0m \u001b[34mTokenLimitStrategy.combined token limit\u001b[0m   \n",
       "\u001b[1;37mModel:\u001b[0m \u001b[37mName:\u001b[0m \u001b[34mgpt-4o-mini\u001b[0m                                                                        \n",
       "\u001b[1;37mModel Pricing:\u001b[0m \u001b[37mPer 1M tokens:\u001b[0m \u001b[37mInput:\u001b[0m \u001b[31m$0.150\u001b[0m \u001b[37m•\u001b[0m \u001b[37mOutput:\u001b[0m \u001b[31m$0.600\u001b[0m                                    \n"
      ]
     },
     "metadata": {},
     "output_type": "display_data"
    },
    {
     "data": {
      "text/html": [
       "<pre style=\"white-space:pre;overflow-x:auto;line-height:normal;font-family:Menlo,'DejaVu Sans Mono',consolas,'Courier New',monospace\"><span style=\"font-style: italic\">          Final Curator Statistics          </span>\n",
       "╭────────────────────────────┬─────────────╮\n",
       "│<span style=\"font-weight: bold\"> Section/Metric             </span>│<span style=\"font-weight: bold\"> Value       </span>│\n",
       "├────────────────────────────┼─────────────┤\n",
       "│<span style=\"color: #800080; text-decoration-color: #800080; font-weight: bold\"> Model                      </span>│<span style=\"color: #800080; text-decoration-color: #800080; font-weight: bold\">             </span>│\n",
       "│<span style=\"color: #008080; text-decoration-color: #008080\"> Name                       </span>│<span style=\"color: #808000; text-decoration-color: #808000\"> </span><span style=\"color: #000080; text-decoration-color: #000080\">gpt-4o-mini</span><span style=\"color: #808000; text-decoration-color: #808000\"> </span>│\n",
       "│<span style=\"color: #008080; text-decoration-color: #008080\"> Rate Limit (RPM)           </span>│<span style=\"color: #808000; text-decoration-color: #808000\"> </span><span style=\"color: #000080; text-decoration-color: #000080\">10000</span><span style=\"color: #808000; text-decoration-color: #808000\">       </span>│\n",
       "│<span style=\"color: #008080; text-decoration-color: #008080\"> Rate Limit (TPM)           </span>│<span style=\"color: #808000; text-decoration-color: #808000\"> </span><span style=\"color: #000080; text-decoration-color: #000080\">200000</span><span style=\"color: #808000; text-decoration-color: #808000\">      </span>│\n",
       "│<span style=\"color: #800080; text-decoration-color: #800080; font-weight: bold\"> Requests                   </span>│<span style=\"color: #800080; text-decoration-color: #800080; font-weight: bold\">             </span>│\n",
       "│<span style=\"color: #008080; text-decoration-color: #008080\"> Total Processed            </span>│<span style=\"color: #808000; text-decoration-color: #808000\"> 200         </span>│\n",
       "│<span style=\"color: #008080; text-decoration-color: #008080\"> Successful                 </span>│<span style=\"color: #808000; text-decoration-color: #808000\"> </span><span style=\"color: #008000; text-decoration-color: #008000\">200</span><span style=\"color: #808000; text-decoration-color: #808000\">         </span>│\n",
       "│<span style=\"color: #008080; text-decoration-color: #008080\"> Failed                     </span>│<span style=\"color: #808000; text-decoration-color: #808000\"> </span><span style=\"color: #800000; text-decoration-color: #800000\">0</span><span style=\"color: #808000; text-decoration-color: #808000\">           </span>│\n",
       "│<span style=\"color: #800080; text-decoration-color: #800080; font-weight: bold\"> Tokens                     </span>│<span style=\"color: #800080; text-decoration-color: #800080; font-weight: bold\">             </span>│\n",
       "│<span style=\"color: #008080; text-decoration-color: #008080\"> Total Tokens Used          </span>│<span style=\"color: #808000; text-decoration-color: #808000\"> 0           </span>│\n",
       "│<span style=\"color: #008080; text-decoration-color: #008080\"> Total Input Tokens         </span>│<span style=\"color: #808000; text-decoration-color: #808000\"> 0           </span>│\n",
       "│<span style=\"color: #008080; text-decoration-color: #008080\"> Total Output Tokens        </span>│<span style=\"color: #808000; text-decoration-color: #808000\"> 0           </span>│\n",
       "│<span style=\"color: #008080; text-decoration-color: #008080\"> Average Tokens per Request </span>│<span style=\"color: #808000; text-decoration-color: #808000\"> 0           </span>│\n",
       "│<span style=\"color: #008080; text-decoration-color: #008080\"> Average Input Tokens       </span>│<span style=\"color: #808000; text-decoration-color: #808000\"> 0           </span>│\n",
       "│<span style=\"color: #008080; text-decoration-color: #008080\"> Average Output Tokens      </span>│<span style=\"color: #808000; text-decoration-color: #808000\"> 0           </span>│\n",
       "│<span style=\"color: #800080; text-decoration-color: #800080; font-weight: bold\"> Costs                      </span>│<span style=\"color: #800080; text-decoration-color: #800080; font-weight: bold\">             </span>│\n",
       "│<span style=\"color: #008080; text-decoration-color: #008080\"> Total Cost                 </span>│<span style=\"color: #808000; text-decoration-color: #808000\"> </span><span style=\"color: #800000; text-decoration-color: #800000\">$0.037</span><span style=\"color: #808000; text-decoration-color: #808000\">      </span>│\n",
       "│<span style=\"color: #008080; text-decoration-color: #008080\"> Average Cost per Request   </span>│<span style=\"color: #808000; text-decoration-color: #808000\"> </span><span style=\"color: #800000; text-decoration-color: #800000\">$0.000</span><span style=\"color: #808000; text-decoration-color: #808000\">      </span>│\n",
       "│<span style=\"color: #008080; text-decoration-color: #008080\"> Input Cost per 1M Tokens   </span>│<span style=\"color: #808000; text-decoration-color: #808000\"> </span><span style=\"color: #800000; text-decoration-color: #800000\">$0.150</span><span style=\"color: #808000; text-decoration-color: #808000\">      </span>│\n",
       "│<span style=\"color: #008080; text-decoration-color: #008080\"> Output Cost per 1M Tokens  </span>│<span style=\"color: #808000; text-decoration-color: #808000\"> </span><span style=\"color: #800000; text-decoration-color: #800000\">$0.600</span><span style=\"color: #808000; text-decoration-color: #808000\">      </span>│\n",
       "│<span style=\"color: #800080; text-decoration-color: #800080; font-weight: bold\"> Performance                </span>│<span style=\"color: #800080; text-decoration-color: #800080; font-weight: bold\">             </span>│\n",
       "│<span style=\"color: #008080; text-decoration-color: #008080\"> Total Time                 </span>│<span style=\"color: #808000; text-decoration-color: #808000\"> 60.12s      </span>│\n",
       "│<span style=\"color: #008080; text-decoration-color: #008080\"> Average Time per Request   </span>│<span style=\"color: #808000; text-decoration-color: #808000\"> 0.30s       </span>│\n",
       "│<span style=\"color: #008080; text-decoration-color: #008080\"> Requests per Minute        </span>│<span style=\"color: #808000; text-decoration-color: #808000\"> 199.6       </span>│\n",
       "│<span style=\"color: #008080; text-decoration-color: #008080\"> Max Concurrent Requests    </span>│<span style=\"color: #808000; text-decoration-color: #808000\"> 39          </span>│\n",
       "│<span style=\"color: #008080; text-decoration-color: #008080\"> Input Tokens per Minute    </span>│<span style=\"color: #808000; text-decoration-color: #808000\"> 0.0         </span>│\n",
       "│<span style=\"color: #008080; text-decoration-color: #008080\"> Output Tokens per Minute   </span>│<span style=\"color: #808000; text-decoration-color: #808000\"> 0.0         </span>│\n",
       "╰────────────────────────────┴─────────────╯\n",
       "</pre>\n"
      ],
      "text/plain": [
       "\u001b[3m          Final Curator Statistics          \u001b[0m\n",
       "╭────────────────────────────┬─────────────╮\n",
       "│\u001b[1m \u001b[0m\u001b[1mSection/Metric            \u001b[0m\u001b[1m \u001b[0m│\u001b[1m \u001b[0m\u001b[1mValue      \u001b[0m\u001b[1m \u001b[0m│\n",
       "├────────────────────────────┼─────────────┤\n",
       "│\u001b[1;35m \u001b[0m\u001b[1;35mModel                     \u001b[0m\u001b[1;35m \u001b[0m│\u001b[1;35m \u001b[0m\u001b[1;35m           \u001b[0m\u001b[1;35m \u001b[0m│\n",
       "│\u001b[36m \u001b[0m\u001b[36mName                      \u001b[0m\u001b[36m \u001b[0m│\u001b[33m \u001b[0m\u001b[34mgpt-4o-mini\u001b[0m\u001b[33m \u001b[0m│\n",
       "│\u001b[36m \u001b[0m\u001b[36mRate Limit (RPM)          \u001b[0m\u001b[36m \u001b[0m│\u001b[33m \u001b[0m\u001b[34m10000\u001b[0m\u001b[33m      \u001b[0m\u001b[33m \u001b[0m│\n",
       "│\u001b[36m \u001b[0m\u001b[36mRate Limit (TPM)          \u001b[0m\u001b[36m \u001b[0m│\u001b[33m \u001b[0m\u001b[34m200000\u001b[0m\u001b[33m     \u001b[0m\u001b[33m \u001b[0m│\n",
       "│\u001b[1;35m \u001b[0m\u001b[1;35mRequests                  \u001b[0m\u001b[1;35m \u001b[0m│\u001b[1;35m \u001b[0m\u001b[1;35m           \u001b[0m\u001b[1;35m \u001b[0m│\n",
       "│\u001b[36m \u001b[0m\u001b[36mTotal Processed           \u001b[0m\u001b[36m \u001b[0m│\u001b[33m \u001b[0m\u001b[33m200        \u001b[0m\u001b[33m \u001b[0m│\n",
       "│\u001b[36m \u001b[0m\u001b[36mSuccessful                \u001b[0m\u001b[36m \u001b[0m│\u001b[33m \u001b[0m\u001b[32m200\u001b[0m\u001b[33m        \u001b[0m\u001b[33m \u001b[0m│\n",
       "│\u001b[36m \u001b[0m\u001b[36mFailed                    \u001b[0m\u001b[36m \u001b[0m│\u001b[33m \u001b[0m\u001b[31m0\u001b[0m\u001b[33m          \u001b[0m\u001b[33m \u001b[0m│\n",
       "│\u001b[1;35m \u001b[0m\u001b[1;35mTokens                    \u001b[0m\u001b[1;35m \u001b[0m│\u001b[1;35m \u001b[0m\u001b[1;35m           \u001b[0m\u001b[1;35m \u001b[0m│\n",
       "│\u001b[36m \u001b[0m\u001b[36mTotal Tokens Used         \u001b[0m\u001b[36m \u001b[0m│\u001b[33m \u001b[0m\u001b[33m0          \u001b[0m\u001b[33m \u001b[0m│\n",
       "│\u001b[36m \u001b[0m\u001b[36mTotal Input Tokens        \u001b[0m\u001b[36m \u001b[0m│\u001b[33m \u001b[0m\u001b[33m0          \u001b[0m\u001b[33m \u001b[0m│\n",
       "│\u001b[36m \u001b[0m\u001b[36mTotal Output Tokens       \u001b[0m\u001b[36m \u001b[0m│\u001b[33m \u001b[0m\u001b[33m0          \u001b[0m\u001b[33m \u001b[0m│\n",
       "│\u001b[36m \u001b[0m\u001b[36mAverage Tokens per Request\u001b[0m\u001b[36m \u001b[0m│\u001b[33m \u001b[0m\u001b[33m0          \u001b[0m\u001b[33m \u001b[0m│\n",
       "│\u001b[36m \u001b[0m\u001b[36mAverage Input Tokens      \u001b[0m\u001b[36m \u001b[0m│\u001b[33m \u001b[0m\u001b[33m0          \u001b[0m\u001b[33m \u001b[0m│\n",
       "│\u001b[36m \u001b[0m\u001b[36mAverage Output Tokens     \u001b[0m\u001b[36m \u001b[0m│\u001b[33m \u001b[0m\u001b[33m0          \u001b[0m\u001b[33m \u001b[0m│\n",
       "│\u001b[1;35m \u001b[0m\u001b[1;35mCosts                     \u001b[0m\u001b[1;35m \u001b[0m│\u001b[1;35m \u001b[0m\u001b[1;35m           \u001b[0m\u001b[1;35m \u001b[0m│\n",
       "│\u001b[36m \u001b[0m\u001b[36mTotal Cost                \u001b[0m\u001b[36m \u001b[0m│\u001b[33m \u001b[0m\u001b[31m$0.037\u001b[0m\u001b[33m     \u001b[0m\u001b[33m \u001b[0m│\n",
       "│\u001b[36m \u001b[0m\u001b[36mAverage Cost per Request  \u001b[0m\u001b[36m \u001b[0m│\u001b[33m \u001b[0m\u001b[31m$0.000\u001b[0m\u001b[33m     \u001b[0m\u001b[33m \u001b[0m│\n",
       "│\u001b[36m \u001b[0m\u001b[36mInput Cost per 1M Tokens  \u001b[0m\u001b[36m \u001b[0m│\u001b[33m \u001b[0m\u001b[31m$0.150\u001b[0m\u001b[33m     \u001b[0m\u001b[33m \u001b[0m│\n",
       "│\u001b[36m \u001b[0m\u001b[36mOutput Cost per 1M Tokens \u001b[0m\u001b[36m \u001b[0m│\u001b[33m \u001b[0m\u001b[31m$0.600\u001b[0m\u001b[33m     \u001b[0m\u001b[33m \u001b[0m│\n",
       "│\u001b[1;35m \u001b[0m\u001b[1;35mPerformance               \u001b[0m\u001b[1;35m \u001b[0m│\u001b[1;35m \u001b[0m\u001b[1;35m           \u001b[0m\u001b[1;35m \u001b[0m│\n",
       "│\u001b[36m \u001b[0m\u001b[36mTotal Time                \u001b[0m\u001b[36m \u001b[0m│\u001b[33m \u001b[0m\u001b[33m60.12s     \u001b[0m\u001b[33m \u001b[0m│\n",
       "│\u001b[36m \u001b[0m\u001b[36mAverage Time per Request  \u001b[0m\u001b[36m \u001b[0m│\u001b[33m \u001b[0m\u001b[33m0.30s      \u001b[0m\u001b[33m \u001b[0m│\n",
       "│\u001b[36m \u001b[0m\u001b[36mRequests per Minute       \u001b[0m\u001b[36m \u001b[0m│\u001b[33m \u001b[0m\u001b[33m199.6      \u001b[0m\u001b[33m \u001b[0m│\n",
       "│\u001b[36m \u001b[0m\u001b[36mMax Concurrent Requests   \u001b[0m\u001b[36m \u001b[0m│\u001b[33m \u001b[0m\u001b[33m39         \u001b[0m\u001b[33m \u001b[0m│\n",
       "│\u001b[36m \u001b[0m\u001b[36mInput Tokens per Minute   \u001b[0m\u001b[36m \u001b[0m│\u001b[33m \u001b[0m\u001b[33m0.0        \u001b[0m\u001b[33m \u001b[0m│\n",
       "│\u001b[36m \u001b[0m\u001b[36mOutput Tokens per Minute  \u001b[0m\u001b[36m \u001b[0m│\u001b[33m \u001b[0m\u001b[33m0.0        \u001b[0m\u001b[33m \u001b[0m│\n",
       "╰────────────────────────────┴─────────────╯\n"
      ]
     },
     "metadata": {},
     "output_type": "display_data"
    },
    {
     "data": {
      "text/html": [
       "<pre style=\"white-space:pre;overflow-x:auto;line-height:normal;font-family:Menlo,'DejaVu Sans Mono',consolas,'Courier New',monospace\"><span style=\"color: #7fbfbf; text-decoration-color: #7fbfbf\">[05/03/25 23:21:05] </span><span style=\"color: #000080; text-decoration-color: #000080\">INFO    </span> Processing complete. Results saved to             <a href=\"file:///opt/anaconda3/envs/gen/lib/python3.13/site-packages/bespokelabs/curator/request_processor/online/base_online_request_processor.py\" target=\"_blank\"><span style=\"color: #7f7f7f; text-decoration-color: #7f7f7f\">base_online_request_processor.py</span></a><span style=\"color: #7f7f7f; text-decoration-color: #7f7f7f\">:</span><a href=\"file:///opt/anaconda3/envs/gen/lib/python3.13/site-packages/bespokelabs/curator/request_processor/online/base_online_request_processor.py#451\" target=\"_blank\"><span style=\"color: #7f7f7f; text-decoration-color: #7f7f7f\">451</span></a>\n",
       "<span style=\"color: #7fbfbf; text-decoration-color: #7fbfbf\">                    </span>         <span style=\"color: #800080; text-decoration-color: #800080\">/Users/kenneth.hamilton/.cache/curator/f4bd8b8f56</span> <span style=\"color: #7f7f7f; text-decoration-color: #7f7f7f\">                                    </span>\n",
       "<span style=\"color: #7fbfbf; text-decoration-color: #7fbfbf\">                    </span>         <span style=\"color: #800080; text-decoration-color: #800080\">a293b0/</span><span style=\"color: #ff00ff; text-decoration-color: #ff00ff\">responses_0.jsonl</span>                          <span style=\"color: #7f7f7f; text-decoration-color: #7f7f7f\">                                    </span>\n",
       "</pre>\n"
      ],
      "text/plain": [
       "\u001b[2;36m[05/03/25 23:21:05]\u001b[0m\u001b[2;36m \u001b[0m\u001b[34mINFO    \u001b[0m Processing complete. Results saved to             \u001b]8;id=896976;file:///opt/anaconda3/envs/gen/lib/python3.13/site-packages/bespokelabs/curator/request_processor/online/base_online_request_processor.py\u001b\\\u001b[2mbase_online_request_processor.py\u001b[0m\u001b]8;;\u001b\\\u001b[2m:\u001b[0m\u001b]8;id=373423;file:///opt/anaconda3/envs/gen/lib/python3.13/site-packages/bespokelabs/curator/request_processor/online/base_online_request_processor.py#451\u001b\\\u001b[2m451\u001b[0m\u001b]8;;\u001b\\\n",
       "\u001b[2;36m                    \u001b[0m         \u001b[35m/Users/kenneth.hamilton/.cache/curator/f4bd8b8f56\u001b[0m \u001b[2m                                    \u001b[0m\n",
       "\u001b[2;36m                    \u001b[0m         \u001b[35ma293b0/\u001b[0m\u001b[95mresponses_0.jsonl\u001b[0m                          \u001b[2m                                    \u001b[0m\n"
      ]
     },
     "metadata": {},
     "output_type": "display_data"
    },
    {
     "data": {
      "text/html": [
       "<pre style=\"white-space:pre;overflow-x:auto;line-height:normal;font-family:Menlo,'DejaVu Sans Mono',consolas,'Courier New',monospace\"><span style=\"color: #7fbfbf; text-decoration-color: #7fbfbf\">                    </span><span style=\"color: #000080; text-decoration-color: #000080\">INFO    </span> Status tracker: Tasks - Started: <span style=\"color: #008080; text-decoration-color: #008080; font-weight: bold\">200</span>, In          <a href=\"file:///opt/anaconda3/envs/gen/lib/python3.13/site-packages/bespokelabs/curator/request_processor/online/base_online_request_processor.py\" target=\"_blank\"><span style=\"color: #7f7f7f; text-decoration-color: #7f7f7f\">base_online_request_processor.py</span></a><span style=\"color: #7f7f7f; text-decoration-color: #7f7f7f\">:</span><a href=\"file:///opt/anaconda3/envs/gen/lib/python3.13/site-packages/bespokelabs/curator/request_processor/online/base_online_request_processor.py#452\" target=\"_blank\"><span style=\"color: #7f7f7f; text-decoration-color: #7f7f7f\">452</span></a>\n",
       "<span style=\"color: #7fbfbf; text-decoration-color: #7fbfbf\">                    </span>         Progress: <span style=\"color: #008080; text-decoration-color: #008080; font-weight: bold\">0</span>, Succeeded: <span style=\"color: #008080; text-decoration-color: #008080; font-weight: bold\">200</span>, Failed: <span style=\"color: #008080; text-decoration-color: #008080; font-weight: bold\">0</span>, Already   <span style=\"color: #7f7f7f; text-decoration-color: #7f7f7f\">                                    </span>\n",
       "<span style=\"color: #7fbfbf; text-decoration-color: #7fbfbf\">                    </span>         Completed: <span style=\"color: #008080; text-decoration-color: #008080; font-weight: bold\">0</span>                                      <span style=\"color: #7f7f7f; text-decoration-color: #7f7f7f\">                                    </span>\n",
       "<span style=\"color: #7fbfbf; text-decoration-color: #7fbfbf\">                    </span>         Errors - API: <span style=\"color: #008080; text-decoration-color: #008080; font-weight: bold\">0</span>, Rate Limit: <span style=\"color: #008080; text-decoration-color: #008080; font-weight: bold\">0</span>, Other: <span style=\"color: #008080; text-decoration-color: #008080; font-weight: bold\">0</span>, Total:  <span style=\"color: #7f7f7f; text-decoration-color: #7f7f7f\">                                    </span>\n",
       "<span style=\"color: #7fbfbf; text-decoration-color: #7fbfbf\">                    </span>         <span style=\"color: #008080; text-decoration-color: #008080; font-weight: bold\">0</span>                                                 <span style=\"color: #7f7f7f; text-decoration-color: #7f7f7f\">                                    </span>\n",
       "</pre>\n"
      ],
      "text/plain": [
       "\u001b[2;36m                   \u001b[0m\u001b[2;36m \u001b[0m\u001b[34mINFO    \u001b[0m Status tracker: Tasks - Started: \u001b[1;36m200\u001b[0m, In          \u001b]8;id=739332;file:///opt/anaconda3/envs/gen/lib/python3.13/site-packages/bespokelabs/curator/request_processor/online/base_online_request_processor.py\u001b\\\u001b[2mbase_online_request_processor.py\u001b[0m\u001b]8;;\u001b\\\u001b[2m:\u001b[0m\u001b]8;id=645811;file:///opt/anaconda3/envs/gen/lib/python3.13/site-packages/bespokelabs/curator/request_processor/online/base_online_request_processor.py#452\u001b\\\u001b[2m452\u001b[0m\u001b]8;;\u001b\\\n",
       "\u001b[2;36m                    \u001b[0m         Progress: \u001b[1;36m0\u001b[0m, Succeeded: \u001b[1;36m200\u001b[0m, Failed: \u001b[1;36m0\u001b[0m, Already   \u001b[2m                                    \u001b[0m\n",
       "\u001b[2;36m                    \u001b[0m         Completed: \u001b[1;36m0\u001b[0m                                      \u001b[2m                                    \u001b[0m\n",
       "\u001b[2;36m                    \u001b[0m         Errors - API: \u001b[1;36m0\u001b[0m, Rate Limit: \u001b[1;36m0\u001b[0m, Other: \u001b[1;36m0\u001b[0m, Total:  \u001b[2m                                    \u001b[0m\n",
       "\u001b[2;36m                    \u001b[0m         \u001b[1;36m0\u001b[0m                                                 \u001b[2m                                    \u001b[0m\n"
      ]
     },
     "metadata": {},
     "output_type": "display_data"
    },
    {
     "data": {
      "text/html": [
       "<pre style=\"white-space:pre;overflow-x:auto;line-height:normal;font-family:Menlo,'DejaVu Sans Mono',consolas,'Courier New',monospace\"><span style=\"color: #7fbfbf; text-decoration-color: #7fbfbf\">                    </span><span style=\"color: #000080; text-decoration-color: #000080\">INFO    </span> Read <span style=\"color: #008080; text-decoration-color: #008080; font-weight: bold\">200</span> responses.                                      <a href=\"file:///opt/anaconda3/envs/gen/lib/python3.13/site-packages/bespokelabs/curator/request_processor/base_request_processor.py\" target=\"_blank\"><span style=\"color: #7f7f7f; text-decoration-color: #7f7f7f\">base_request_processor.py</span></a><span style=\"color: #7f7f7f; text-decoration-color: #7f7f7f\">:</span><a href=\"file:///opt/anaconda3/envs/gen/lib/python3.13/site-packages/bespokelabs/curator/request_processor/base_request_processor.py#442\" target=\"_blank\"><span style=\"color: #7f7f7f; text-decoration-color: #7f7f7f\">442</span></a>\n",
       "</pre>\n"
      ],
      "text/plain": [
       "\u001b[2;36m                   \u001b[0m\u001b[2;36m \u001b[0m\u001b[34mINFO    \u001b[0m Read \u001b[1;36m200\u001b[0m responses.                                      \u001b]8;id=755886;file:///opt/anaconda3/envs/gen/lib/python3.13/site-packages/bespokelabs/curator/request_processor/base_request_processor.py\u001b\\\u001b[2mbase_request_processor.py\u001b[0m\u001b]8;;\u001b\\\u001b[2m:\u001b[0m\u001b]8;id=556417;file:///opt/anaconda3/envs/gen/lib/python3.13/site-packages/bespokelabs/curator/request_processor/base_request_processor.py#442\u001b\\\u001b[2m442\u001b[0m\u001b]8;;\u001b\\\n"
      ]
     },
     "metadata": {},
     "output_type": "display_data"
    },
    {
     "data": {
      "text/html": [
       "<pre style=\"white-space:pre;overflow-x:auto;line-height:normal;font-family:Menlo,'DejaVu Sans Mono',consolas,'Courier New',monospace\"><span style=\"color: #7fbfbf; text-decoration-color: #7fbfbf\">                    </span><span style=\"color: #000080; text-decoration-color: #000080\">INFO    </span> Finalizing writer                                        <a href=\"file:///opt/anaconda3/envs/gen/lib/python3.13/site-packages/bespokelabs/curator/request_processor/base_request_processor.py\" target=\"_blank\"><span style=\"color: #7f7f7f; text-decoration-color: #7f7f7f\">base_request_processor.py</span></a><span style=\"color: #7f7f7f; text-decoration-color: #7f7f7f\">:</span><a href=\"file:///opt/anaconda3/envs/gen/lib/python3.13/site-packages/bespokelabs/curator/request_processor/base_request_processor.py#451\" target=\"_blank\"><span style=\"color: #7f7f7f; text-decoration-color: #7f7f7f\">451</span></a>\n",
       "</pre>\n"
      ],
      "text/plain": [
       "\u001b[2;36m                   \u001b[0m\u001b[2;36m \u001b[0m\u001b[34mINFO    \u001b[0m Finalizing writer                                        \u001b]8;id=438020;file:///opt/anaconda3/envs/gen/lib/python3.13/site-packages/bespokelabs/curator/request_processor/base_request_processor.py\u001b\\\u001b[2mbase_request_processor.py\u001b[0m\u001b]8;;\u001b\\\u001b[2m:\u001b[0m\u001b]8;id=163584;file:///opt/anaconda3/envs/gen/lib/python3.13/site-packages/bespokelabs/curator/request_processor/base_request_processor.py#451\u001b\\\u001b[2m451\u001b[0m\u001b]8;;\u001b\\\n"
      ]
     },
     "metadata": {},
     "output_type": "display_data"
    },
    {
     "data": {
      "text/html": [
       "<pre style=\"white-space:pre;overflow-x:auto;line-height:normal;font-family:Menlo,'DejaVu Sans Mono',consolas,'Courier New',monospace\"><span style=\"color: #7fbfbf; text-decoration-color: #7fbfbf\">                    </span><span style=\"color: #000080; text-decoration-color: #000080\">INFO    </span> Creating a file with all failed requests                 <a href=\"file:///opt/anaconda3/envs/gen/lib/python3.13/site-packages/bespokelabs/curator/request_processor/base_request_processor.py\" target=\"_blank\"><span style=\"color: #7f7f7f; text-decoration-color: #7f7f7f\">base_request_processor.py</span></a><span style=\"color: #7f7f7f; text-decoration-color: #7f7f7f\">:</span><a href=\"file:///opt/anaconda3/envs/gen/lib/python3.13/site-packages/bespokelabs/curator/request_processor/base_request_processor.py#460\" target=\"_blank\"><span style=\"color: #7f7f7f; text-decoration-color: #7f7f7f\">460</span></a>\n",
       "</pre>\n"
      ],
      "text/plain": [
       "\u001b[2;36m                   \u001b[0m\u001b[2;36m \u001b[0m\u001b[34mINFO    \u001b[0m Creating a file with all failed requests                 \u001b]8;id=201769;file:///opt/anaconda3/envs/gen/lib/python3.13/site-packages/bespokelabs/curator/request_processor/base_request_processor.py\u001b\\\u001b[2mbase_request_processor.py\u001b[0m\u001b]8;;\u001b\\\u001b[2m:\u001b[0m\u001b]8;id=106183;file:///opt/anaconda3/envs/gen/lib/python3.13/site-packages/bespokelabs/curator/request_processor/base_request_processor.py#460\u001b\\\u001b[2m460\u001b[0m\u001b]8;;\u001b\\\n"
      ]
     },
     "metadata": {},
     "output_type": "display_data"
    },
    {
     "data": {
      "text/html": [
       "<pre style=\"white-space:pre;overflow-x:auto;line-height:normal;font-family:Menlo,'DejaVu Sans Mono',consolas,'Courier New',monospace\"><span style=\"color: #7fbfbf; text-decoration-color: #7fbfbf\">                    </span><span style=\"color: #000080; text-decoration-color: #000080\">INFO    </span> Created file with failed requests at                     <a href=\"file:///opt/anaconda3/envs/gen/lib/python3.13/site-packages/bespokelabs/curator/request_processor/base_request_processor.py\" target=\"_blank\"><span style=\"color: #7f7f7f; text-decoration-color: #7f7f7f\">base_request_processor.py</span></a><span style=\"color: #7f7f7f; text-decoration-color: #7f7f7f\">:</span><a href=\"file:///opt/anaconda3/envs/gen/lib/python3.13/site-packages/bespokelabs/curator/request_processor/base_request_processor.py#488\" target=\"_blank\"><span style=\"color: #7f7f7f; text-decoration-color: #7f7f7f\">488</span></a>\n",
       "<span style=\"color: #7fbfbf; text-decoration-color: #7fbfbf\">                    </span>         <span style=\"color: #800080; text-decoration-color: #800080\">/Users/kenneth.hamilton/.cache/curator/f4bd8b8f56a293b0/</span> <span style=\"color: #7f7f7f; text-decoration-color: #7f7f7f\">                             </span>\n",
       "<span style=\"color: #7fbfbf; text-decoration-color: #7fbfbf\">                    </span>         <span style=\"color: #ff00ff; text-decoration-color: #ff00ff\">failed_requests.jsonl</span>                                    <span style=\"color: #7f7f7f; text-decoration-color: #7f7f7f\">                             </span>\n",
       "</pre>\n"
      ],
      "text/plain": [
       "\u001b[2;36m                   \u001b[0m\u001b[2;36m \u001b[0m\u001b[34mINFO    \u001b[0m Created file with failed requests at                     \u001b]8;id=972141;file:///opt/anaconda3/envs/gen/lib/python3.13/site-packages/bespokelabs/curator/request_processor/base_request_processor.py\u001b\\\u001b[2mbase_request_processor.py\u001b[0m\u001b]8;;\u001b\\\u001b[2m:\u001b[0m\u001b]8;id=164352;file:///opt/anaconda3/envs/gen/lib/python3.13/site-packages/bespokelabs/curator/request_processor/base_request_processor.py#488\u001b\\\u001b[2m488\u001b[0m\u001b]8;;\u001b\\\n",
       "\u001b[2;36m                    \u001b[0m         \u001b[35m/Users/kenneth.hamilton/.cache/curator/f4bd8b8f56a293b0/\u001b[0m \u001b[2m                             \u001b[0m\n",
       "\u001b[2;36m                    \u001b[0m         \u001b[95mfailed_requests.jsonl\u001b[0m                                    \u001b[2m                             \u001b[0m\n"
      ]
     },
     "metadata": {},
     "output_type": "display_data"
    }
   ],
   "source": [
    "inputs = [{\"index\": i + 1} for i in range(200)]\n",
    "code_snippets = generator(inputs)\n"
   ]
  },
  {
   "cell_type": "code",
   "execution_count": 5,
   "id": "0ce767f6",
   "metadata": {},
   "outputs": [
    {
     "name": "stdout",
     "output_type": "stream",
     "text": [
      "Code Snippet #109\n",
      "----------------------------------------\n",
      "Language: JavaScript\n",
      "Difficulty: easy\n",
      "Vulnerability Type: SQL Injection\n",
      "\n",
      "Code:\n",
      "\n",
      "const express = require('express');\n",
      "const app = express();\n",
      "const bodyParser = require('body-parser');\n",
      "\n",
      "app.use(bodyParser.json());\n",
      "\n",
      "app.post('/submit', (req, res) => {\n",
      "    const userInput = req.body.input;\n",
      "    const query = `SELECT * FROM users WHERE name = '${userInput}'`;\n",
      "    // Simulated database query execution\n",
      "    db.execute(query, (err, result) => {\n",
      "        if (err) {\n",
      "            res.status(500).send('Database error');\n",
      "        } else {\n",
      "            res.json(result);\n",
      "        }\n",
      "    });\n",
      "});\n",
      "\n",
      "app.listen(3000, () => {\n",
      "    console.log('Server is running on port 3000');\n",
      "});\n"
     ]
    }
   ],
   "source": [
    "import random\n",
    "\n",
    "random_snippet = random.choice(code_snippets)\n",
    "\n",
    "print(f\"Code Snippet #{random_snippet['index']}\")\n",
    "print(\"-\" * 40)\n",
    "print(f\"Language: {random_snippet['language']}\")\n",
    "print(f\"Difficulty: {random_snippet['difficulty']}\")\n",
    "print(f\"Vulnerability Type: {random_snippet['vulnerability_type']}\")\n",
    "print(\"\\nCode:\\n\")\n",
    "print(random_snippet['code'])\n"
   ]
  },
  {
   "cell_type": "code",
   "execution_count": 6,
   "id": "87008862",
   "metadata": {},
   "outputs": [],
   "source": [
    "from together import Together\n",
    "import os\n",
    "\n",
    "os.environ[\"TOGETHER_API_KEY\"] = os.getenv(\"TOGETHER_API_KEY\")\n",
    "client = Together(api_key=os.environ[\"TOGETHER_API_KEY\"])\n"
   ]
  },
  {
   "cell_type": "code",
   "execution_count": 7,
   "id": "c6c9d6f6",
   "metadata": {},
   "outputs": [
    {
     "name": "stderr",
     "output_type": "stream",
     "text": [
      "Analyzing Vulnerabilities:   1%|          | 2/200 [00:37<58:27, 17.71s/it]  "
     ]
    },
    {
     "name": "stdout",
     "output_type": "stream",
     "text": [
      "⚠️ Error on snippet 3: Error code: 429 - {\"message\": \"You are on tier Build Tier 1, which offers 3 queries and 180000 tokens per minute for this model. Please upgrade to higher tier for higher rate limit at https://api.together.xyz/settings/billing.\", \"type_\": \"model_rate_limit\"}\n",
      "⏱️ Retrying after 60 seconds...\n"
     ]
    },
    {
     "name": "stderr",
     "output_type": "stream",
     "text": [
      "Analyzing Vulnerabilities:   6%|▌         | 12/200 [06:57<1:34:26, 30.14s/it]"
     ]
    },
    {
     "name": "stdout",
     "output_type": "stream",
     "text": [
      "⚠️ Error on snippet 13: Error code: 429 - {\"message\": \"You are on tier Build Tier 1, which offers 3 queries and 180000 tokens per minute for this model. Please upgrade to higher tier for higher rate limit at https://api.together.xyz/settings/billing.\", \"type_\": \"model_rate_limit\"}\n",
      "⏱️ Retrying after 60 seconds...\n"
     ]
    },
    {
     "name": "stderr",
     "output_type": "stream",
     "text": [
      "Analyzing Vulnerabilities:   8%|▊         | 15/200 [09:29<1:54:09, 37.02s/it]"
     ]
    },
    {
     "name": "stdout",
     "output_type": "stream",
     "text": [
      "⚠️ Error on snippet 16: Error code: 429 - {\"message\": \"You are on tier Build Tier 1, which offers 3 queries and 180000 tokens per minute for this model. Please upgrade to higher tier for higher rate limit at https://api.together.xyz/settings/billing.\", \"type_\": \"model_rate_limit\"}\n",
      "⏱️ Retrying after 60 seconds...\n"
     ]
    },
    {
     "name": "stderr",
     "output_type": "stream",
     "text": [
      "Analyzing Vulnerabilities:  13%|█▎        | 26/200 [16:40<1:35:33, 32.95s/it]"
     ]
    },
    {
     "name": "stdout",
     "output_type": "stream",
     "text": [
      "⚠️ Error on snippet 27: Error code: 429 - {\"message\": \"You are on tier Build Tier 1, which offers 3 queries and 180000 tokens per minute for this model. Please upgrade to higher tier for higher rate limit at https://api.together.xyz/settings/billing.\", \"type_\": \"model_rate_limit\"}\n",
      "⏱️ Retrying after 60 seconds...\n"
     ]
    },
    {
     "name": "stderr",
     "output_type": "stream",
     "text": [
      "Analyzing Vulnerabilities:  17%|█▋        | 34/200 [22:07<1:27:37, 31.67s/it]"
     ]
    },
    {
     "name": "stdout",
     "output_type": "stream",
     "text": [
      "⚠️ Error on snippet 35: Error code: 429 - {\"message\": \"You are on tier Build Tier 1, which offers 3 queries and 180000 tokens per minute for this model. Please upgrade to higher tier for higher rate limit at https://api.together.xyz/settings/billing.\", \"type_\": \"model_rate_limit\"}\n",
      "⏱️ Retrying after 60 seconds...\n"
     ]
    },
    {
     "name": "stderr",
     "output_type": "stream",
     "text": [
      "Analyzing Vulnerabilities:  28%|██▊       | 55/200 [34:57<1:19:34, 32.93s/it]"
     ]
    },
    {
     "name": "stdout",
     "output_type": "stream",
     "text": [
      "⚠️ Error on snippet 56: Error code: 429 - {\"message\": \"You are on tier Build Tier 1, which offers 3 queries and 180000 tokens per minute for this model. Please upgrade to higher tier for higher rate limit at https://api.together.xyz/settings/billing.\", \"type_\": \"model_rate_limit\"}\n",
      "⏱️ Retrying after 60 seconds...\n"
     ]
    },
    {
     "name": "stderr",
     "output_type": "stream",
     "text": [
      "Analyzing Vulnerabilities:  30%|███       | 60/200 [38:39<1:19:37, 34.12s/it]"
     ]
    },
    {
     "name": "stdout",
     "output_type": "stream",
     "text": [
      "⚠️ Error on snippet 61: Error code: 429 - {\"message\": \"You are on tier Build Tier 1, which offers 3 queries and 180000 tokens per minute for this model. Please upgrade to higher tier for higher rate limit at https://api.together.xyz/settings/billing.\", \"type_\": \"model_rate_limit\"}\n",
      "⏱️ Retrying after 60 seconds...\n"
     ]
    },
    {
     "name": "stderr",
     "output_type": "stream",
     "text": [
      "Analyzing Vulnerabilities:  44%|████▍     | 88/200 [55:30<59:42, 31.98s/it]  "
     ]
    },
    {
     "name": "stdout",
     "output_type": "stream",
     "text": [
      "⚠️ Error on snippet 89: Error code: 429 - {\"message\": \"You are on tier Build Tier 1, which offers 3 queries and 180000 tokens per minute for this model. Please upgrade to higher tier for higher rate limit at https://api.together.xyz/settings/billing.\", \"type_\": \"model_rate_limit\"}\n",
      "⏱️ Retrying after 60 seconds...\n"
     ]
    },
    {
     "name": "stderr",
     "output_type": "stream",
     "text": [
      "Analyzing Vulnerabilities:  46%|████▌     | 92/200 [58:43<1:06:08, 36.74s/it]"
     ]
    },
    {
     "name": "stdout",
     "output_type": "stream",
     "text": [
      "⚠️ Error on snippet 93: Error code: 429 - {\"message\": \"You are on tier Build Tier 1, which offers 3 queries and 180000 tokens per minute for this model. Please upgrade to higher tier for higher rate limit at https://api.together.xyz/settings/billing.\", \"type_\": \"model_rate_limit\"}\n",
      "⏱️ Retrying after 60 seconds...\n"
     ]
    },
    {
     "name": "stderr",
     "output_type": "stream",
     "text": [
      "Analyzing Vulnerabilities:  48%|████▊     | 95/200 [1:01:19<1:10:34, 40.33s/it]"
     ]
    },
    {
     "name": "stdout",
     "output_type": "stream",
     "text": [
      "⚠️ Error on snippet 96: Error code: 429 - {\"message\": \"You are on tier Build Tier 1, which offers 3 queries and 180000 tokens per minute for this model. Please upgrade to higher tier for higher rate limit at https://api.together.xyz/settings/billing.\", \"type_\": \"model_rate_limit\"}\n",
      "⏱️ Retrying after 60 seconds...\n"
     ]
    },
    {
     "name": "stderr",
     "output_type": "stream",
     "text": [
      "Analyzing Vulnerabilities:  52%|█████▏    | 103/200 [1:06:42<53:58, 33.39s/it]  "
     ]
    },
    {
     "name": "stdout",
     "output_type": "stream",
     "text": [
      "⚠️ Error on snippet 104: Error code: 429 - {\"message\": \"You are on tier Build Tier 1, which offers 3 queries and 180000 tokens per minute for this model. Please upgrade to higher tier for higher rate limit at https://api.together.xyz/settings/billing.\", \"type_\": \"model_rate_limit\"}\n",
      "⏱️ Retrying after 60 seconds...\n"
     ]
    },
    {
     "name": "stderr",
     "output_type": "stream",
     "text": [
      "Analyzing Vulnerabilities:  52%|█████▎    | 105/200 [1:08:40<1:09:27, 43.87s/it]"
     ]
    },
    {
     "name": "stdout",
     "output_type": "stream",
     "text": [
      "⚠️ Error on snippet 106: Error code: 429 - {\"message\": \"You are on tier Build Tier 1, which offers 3 queries and 180000 tokens per minute for this model. Please upgrade to higher tier for higher rate limit at https://api.together.xyz/settings/billing.\", \"type_\": \"model_rate_limit\"}\n",
      "⏱️ Retrying after 60 seconds...\n"
     ]
    },
    {
     "name": "stderr",
     "output_type": "stream",
     "text": [
      "Analyzing Vulnerabilities:  53%|█████▎    | 106/200 [1:10:09<1:29:49, 57.34s/it]"
     ]
    },
    {
     "name": "stdout",
     "output_type": "stream",
     "text": [
      "⚠️ Error on snippet 107: Error code: 429 - {\"message\": \"You are on tier Build Tier 1, which offers 3 queries and 180000 tokens per minute for this model. Please upgrade to higher tier for higher rate limit at https://api.together.xyz/settings/billing.\", \"type_\": \"model_rate_limit\"}\n",
      "⏱️ Retrying after 60 seconds...\n"
     ]
    },
    {
     "name": "stderr",
     "output_type": "stream",
     "text": [
      "Analyzing Vulnerabilities:  56%|█████▌    | 111/200 [1:13:53<59:03, 39.81s/it]  "
     ]
    },
    {
     "name": "stdout",
     "output_type": "stream",
     "text": [
      "⚠️ Error on snippet 112: Error code: 429 - {\"message\": \"You are on tier Build Tier 1, which offers 3 queries and 180000 tokens per minute for this model. Please upgrade to higher tier for higher rate limit at https://api.together.xyz/settings/billing.\", \"type_\": \"model_rate_limit\"}\n",
      "⏱️ Retrying after 60 seconds...\n"
     ]
    },
    {
     "name": "stderr",
     "output_type": "stream",
     "text": [
      "Analyzing Vulnerabilities:  60%|█████▉    | 119/200 [1:19:37<46:49, 34.69s/it]  "
     ]
    },
    {
     "name": "stdout",
     "output_type": "stream",
     "text": [
      "⚠️ Error on snippet 120: Error code: 429 - {\"message\": \"You are on tier Build Tier 1, which offers 3 queries and 180000 tokens per minute for this model. Please upgrade to higher tier for higher rate limit at https://api.together.xyz/settings/billing.\", \"type_\": \"model_rate_limit\"}\n",
      "⏱️ Retrying after 60 seconds...\n"
     ]
    },
    {
     "name": "stderr",
     "output_type": "stream",
     "text": [
      "Analyzing Vulnerabilities:  60%|██████    | 121/200 [1:21:39<59:40, 45.32s/it]  "
     ]
    },
    {
     "name": "stdout",
     "output_type": "stream",
     "text": [
      "⚠️ Error on snippet 122: Error code: 429 - {\"message\": \"You are on tier Build Tier 1, which offers 3 queries and 180000 tokens per minute for this model. Please upgrade to higher tier for higher rate limit at https://api.together.xyz/settings/billing.\", \"type_\": \"model_rate_limit\"}\n",
      "⏱️ Retrying after 60 seconds...\n"
     ]
    },
    {
     "name": "stderr",
     "output_type": "stream",
     "text": [
      "Analyzing Vulnerabilities:  72%|███████▏  | 143/200 [1:34:28<28:24, 29.91s/it]  "
     ]
    },
    {
     "name": "stdout",
     "output_type": "stream",
     "text": [
      "⚠️ Error on snippet 144: Error code: 429 - {\"message\": \"You are on tier Build Tier 1, which offers 3 queries and 180000 tokens per minute for this model. Please upgrade to higher tier for higher rate limit at https://api.together.xyz/settings/billing.\", \"type_\": \"model_rate_limit\"}\n",
      "⏱️ Retrying after 60 seconds...\n"
     ]
    },
    {
     "name": "stderr",
     "output_type": "stream",
     "text": [
      "Analyzing Vulnerabilities:  73%|███████▎  | 146/200 [1:37:02<35:24, 39.35s/it]"
     ]
    },
    {
     "name": "stdout",
     "output_type": "stream",
     "text": [
      "⚠️ Error on snippet 147: Error code: 429 - {\"message\": \"You are on tier Build Tier 1, which offers 3 queries and 180000 tokens per minute for this model. Please upgrade to higher tier for higher rate limit at https://api.together.xyz/settings/billing.\", \"type_\": \"model_rate_limit\"}\n",
      "⏱️ Retrying after 60 seconds...\n"
     ]
    },
    {
     "name": "stderr",
     "output_type": "stream",
     "text": [
      "Analyzing Vulnerabilities:  78%|███████▊  | 157/200 [1:43:52<22:05, 30.82s/it]"
     ]
    },
    {
     "name": "stdout",
     "output_type": "stream",
     "text": [
      "⚠️ Error on snippet 158: Error code: 429 - {\"message\": \"You are on tier Build Tier 1, which offers 3 queries and 180000 tokens per minute for this model. Please upgrade to higher tier for higher rate limit at https://api.together.xyz/settings/billing.\", \"type_\": \"model_rate_limit\"}\n",
      "⏱️ Retrying after 60 seconds...\n"
     ]
    },
    {
     "name": "stderr",
     "output_type": "stream",
     "text": [
      "Analyzing Vulnerabilities:  83%|████████▎ | 166/200 [1:49:53<18:29, 32.63s/it]"
     ]
    },
    {
     "name": "stdout",
     "output_type": "stream",
     "text": [
      "⚠️ Error on snippet 167: Error code: 429 - {\"message\": \"You are on tier Build Tier 1, which offers 3 queries and 180000 tokens per minute for this model. Please upgrade to higher tier for higher rate limit at https://api.together.xyz/settings/billing.\", \"type_\": \"model_rate_limit\"}\n",
      "⏱️ Retrying after 60 seconds...\n"
     ]
    },
    {
     "name": "stderr",
     "output_type": "stream",
     "text": [
      "Analyzing Vulnerabilities:  88%|████████▊ | 175/200 [1:55:49<13:17, 31.91s/it]"
     ]
    },
    {
     "name": "stdout",
     "output_type": "stream",
     "text": [
      "⚠️ Error on snippet 176: Error code: 429 - {\"message\": \"You are on tier Build Tier 1, which offers 3 queries and 180000 tokens per minute for this model. Please upgrade to higher tier for higher rate limit at https://api.together.xyz/settings/billing.\", \"type_\": \"model_rate_limit\"}\n",
      "⏱️ Retrying after 60 seconds...\n"
     ]
    },
    {
     "name": "stderr",
     "output_type": "stream",
     "text": [
      "Analyzing Vulnerabilities:  94%|█████████▎| 187/200 [2:03:34<07:12, 33.31s/it]"
     ]
    },
    {
     "name": "stdout",
     "output_type": "stream",
     "text": [
      "⚠️ Error on snippet 188: Error code: 429 - {\"message\": \"You are on tier Build Tier 1, which offers 3 queries and 180000 tokens per minute for this model. Please upgrade to higher tier for higher rate limit at https://api.together.xyz/settings/billing.\", \"type_\": \"model_rate_limit\"}\n",
      "⏱️ Retrying after 60 seconds...\n"
     ]
    },
    {
     "name": "stderr",
     "output_type": "stream",
     "text": [
      "Analyzing Vulnerabilities:  94%|█████████▍| 189/200 [2:05:39<07:55, 43.23s/it]"
     ]
    },
    {
     "name": "stdout",
     "output_type": "stream",
     "text": [
      "⚠️ Error on snippet 190: Error code: 429 - {\"message\": \"You are on tier Build Tier 1, which offers 3 queries and 180000 tokens per minute for this model. Please upgrade to higher tier for higher rate limit at https://api.together.xyz/settings/billing.\", \"type_\": \"model_rate_limit\"}\n",
      "⏱️ Retrying after 60 seconds...\n"
     ]
    },
    {
     "name": "stderr",
     "output_type": "stream",
     "text": [
      "Analyzing Vulnerabilities:  98%|█████████▊| 196/200 [2:10:27<02:18, 34.64s/it]"
     ]
    },
    {
     "name": "stdout",
     "output_type": "stream",
     "text": [
      "⚠️ Error on snippet 197: Error code: 429 - {\"message\": \"You are on tier Build Tier 1, which offers 3 queries and 180000 tokens per minute for this model. Please upgrade to higher tier for higher rate limit at https://api.together.xyz/settings/billing.\", \"type_\": \"model_rate_limit\"}\n",
      "⏱️ Retrying after 60 seconds...\n"
     ]
    },
    {
     "name": "stderr",
     "output_type": "stream",
     "text": [
      "Analyzing Vulnerabilities:  99%|█████████▉| 198/200 [2:12:31<01:31, 45.52s/it]"
     ]
    },
    {
     "name": "stdout",
     "output_type": "stream",
     "text": [
      "⚠️ Error on snippet 199: Error code: 429 - {\"message\": \"You are on tier Build Tier 1, which offers 3 queries and 180000 tokens per minute for this model. Please upgrade to higher tier for higher rate limit at https://api.together.xyz/settings/billing.\", \"type_\": \"model_rate_limit\"}\n",
      "⏱️ Retrying after 60 seconds...\n"
     ]
    },
    {
     "name": "stderr",
     "output_type": "stream",
     "text": [
      "Analyzing Vulnerabilities: 100%|██████████| 200/200 [2:14:42<00:00, 40.41s/it]\n"
     ]
    }
   ],
   "source": [
    "import time\n",
    "import pandas as pd\n",
    "import random\n",
    "from tqdm import tqdm\n",
    "from collections import deque\n",
    "\n",
    "# Rate limit config\n",
    "max_qpm = 60\n",
    "window_seconds = 60\n",
    "request_timestamps = deque()\n",
    "\n",
    "# Logging\n",
    "response_times = []\n",
    "error_count = 0\n",
    "max_tokens = 2048\n",
    "\n",
    "# Outputs\n",
    "weakness_analysis = []\n",
    "weakness_solution = []\n",
    "\n",
    "# Loop\n",
    "for snippet in tqdm(code_snippets, desc=\"Analyzing Vulnerabilities\"):\n",
    "    idx = snippet[\"index\"]\n",
    "    language = snippet[\"language\"]\n",
    "    vuln_type = snippet[\"vulnerability_type\"]\n",
    "    code = snippet[\"code\"]\n",
    "\n",
    "    prompt = f\"\"\"\n",
    "<think>\n",
    "You are a security reasoning model. Your task is to analyze the following code for a known vulnerability.\n",
    "\n",
    "Language: {language}\n",
    "Vulnerability Type: {vuln_type}\n",
    "\n",
    "Code:\n",
    "{code}\n",
    "\n",
    "Describe the vulnerability clearly, including:\n",
    "- Why it is dangerous\n",
    "- How an attacker might exploit it\n",
    "- How the issue could be fixed\n",
    "\n",
    "Do not mention other possible vulnerabilities or suggest improvements unrelated to the issue described.\n",
    "\n",
    "</think>\n",
    "\"\"\".strip()\n",
    "\n",
    "    # Rate limit logic\n",
    "    now = time.time()\n",
    "    request_timestamps.append(now)\n",
    "    while len(request_timestamps) > max_qpm:\n",
    "        if now - request_timestamps[0] < window_seconds:\n",
    "            sleep_time = window_seconds - (now - request_timestamps[0])\n",
    "            print(f\"⏳ Rate limit hit — sleeping {sleep_time:.1f}s...\")\n",
    "            time.sleep(sleep_time)\n",
    "        else:\n",
    "            request_timestamps.popleft()\n",
    "\n",
    "    # Request\n",
    "    try:\n",
    "        req_start = time.time()\n",
    "        response = client.chat.completions.create(\n",
    "            model=\"deepseek-ai/DeepSeek-R1\",\n",
    "            messages=[{\"role\": \"user\", \"content\": prompt}],\n",
    "            stop=[\"</think>\"],\n",
    "            max_tokens=max_tokens\n",
    "        )\n",
    "        req_end = time.time()\n",
    "        response_times.append(req_end - req_start)\n",
    "\n",
    "        text = response.choices[0].message.content.strip()\n",
    "        clean_text = text.replace(\"\\n\", \" \").replace(\"\\r\", \" \").strip()\n",
    "        full_block = f\"<think>{clean_text}</think>\"\n",
    "\n",
    "    except Exception as e:\n",
    "        error_count += 1\n",
    "        print(f\"⚠️ Error on snippet {idx}: {e}\")\n",
    "        print(\"⏱️ Retrying after 60 seconds...\")\n",
    "        time.sleep(60)\n",
    "\n",
    "        try:\n",
    "            retry_start = time.time()\n",
    "            response = client.chat.completions.create(\n",
    "                model=\"deepseek-ai/DeepSeek-R1\",\n",
    "                messages=[{\"role\": \"user\", \"content\": prompt}],\n",
    "                stop=[\"</think>\"],\n",
    "                max_tokens=max_tokens\n",
    "            )\n",
    "            retry_end = time.time()\n",
    "            response_times.append(retry_end - retry_start)\n",
    "\n",
    "            text = response.choices[0].message.content.strip()\n",
    "            clean_text = text.replace(\"\\n\", \" \").replace(\"\\r\", \" \").strip()\n",
    "            full_block = f\"<think>{clean_text}</think>\"\n",
    "\n",
    "        except Exception as e2:\n",
    "            error_count += 1\n",
    "            print(f\"❌ Retry failed on snippet {idx}: {e2}\")\n",
    "            clean_text = \"Error generating analysis\"\n",
    "            full_block = \"<think>Error generating analysis</think>\"\n",
    "            response_times.append(0.0)\n",
    "\n",
    "    # Store results\n",
    "    weakness_solution.append(clean_text)\n",
    "    weakness_analysis.append(full_block)\n",
    "\n",
    "df = pd.DataFrame(code_snippets)\n",
    "df[\"weakness_solution\"] = weakness_solution\n",
    "df[\"weakness_analysis\"] = weakness_analysis\n"
   ]
  },
  {
   "cell_type": "code",
   "execution_count": 12,
   "id": "d8839909",
   "metadata": {},
   "outputs": [
    {
     "name": "stdout",
     "output_type": "stream",
     "text": [
      "🧠 Index: 50\n",
      "💻 Language: Java\n",
      "⚠️ Vulnerability Type: SQL Injection\n",
      "🔒 Difficulty: easy\n",
      "\n",
      "=== Code ===\n",
      "import java.util.ArrayList;\n",
      "import java.util.List;\n",
      "import java.sql.*;\n",
      "\n",
      "public class UserSearch {\n",
      "    public static void main(String[] args) {\n",
      "        String userInput = \"1 OR '1'='1'\"; // Simulating user input\n",
      "        List<String> users = getUsers(userInput);\n",
      "        for (String user : users) {\n",
      "            System.out.println(user);\n",
      "        }\n",
      "    }\n",
      "\n",
      "    public static List<String> getUsers(String condition) {\n",
      "        List<String> userList = new ArrayList<>();\n",
      "        String query = \"SELECT username FROM users WHERE id = \" + condition + \";\";\n",
      "        try (Connection conn = DriverManager.getConnection(\"jdbc:mysql://localhost:3306/mydb\", \"user\", \"password\");\n",
      "             Statement stmt = conn.createStatement();\n",
      "             ResultSet rs = stmt.executeQuery(query)) {\n",
      "            while (rs.next()) {\n",
      "                userList.add(rs.getString(\"username\"));\n",
      "            }\n",
      "        } catch (SQLException e) {\n",
      "            e.printStackTrace();\n",
      "        }\n",
      "        return userList;\n",
      "    }\n",
      "}\n",
      "\n",
      "=== Weakness Analysis (Raw) ===\n",
      "<think><think> Okay, let's take a look at this Java code. The task is to find a SQL injection vulnerability here. The code is for a UserSearch class that retrieves users based on a condition.   Starting with the main method, there's a userInput variable set to \"1 OR '1'='1'\". That looks like a classic SQL injection attempt. Then it calls getUsers with this input.  Looking at the getUsers method, the query is built by concatenating the condition parameter directly into the SQL string. The line is: \"SELECT username FROM users WHERE id = \" + condition + \";\". Oh, right, that's a problem. If the user controls the 'condition' variable, they can inject arbitrary SQL.  Why is this dangerous? Because an attacker can manipulate the input to change the query's structure. For example, the sample input \"1 OR '1'='1'\" would make the query always true, returning all usernames. But it could be worse—attackers might extract sensitive data, modify the database, or even drop tables.  How can this be exploited? By providing input that alters the SQL command. Like adding a UNION SELECT to get other data, or executing multiple statements if the JDBC driver allows it. The example given is a simple case, but real attacks could be more complex.  To fix this, the code should use prepared statements instead of string concatenation. Replace the Statement with a PreparedStatement and use a parameterized query. The SQL would have a placeholder, like \"SELECT username FROM users WHERE id = ?\", then set the parameter using setString or setInt. This way, the input is treated as a value, not part of the SQL command, preventing injection.  So the vulnerability here is clearly SQL injection due to concatenating user input into the query. The fix is straightforward with prepared statements. No other issues mentioned, just focusing on SQLi as requested.</think>\n",
      "\n",
      "=== Weakness Solution (Cleaned) ===\n",
      "<think> Okay, let's take a look at this Java code. The task is to find a SQL injection vulnerability here. The code is for a UserSearch class that retrieves users based on a condition.   Starting with the main method, there's a userInput variable set to \"1 OR '1'='1'\". That looks like a classic SQL injection attempt. Then it calls getUsers with this input.  Looking at the getUsers method, the query is built by concatenating the condition parameter directly into the SQL string. The line is: \"SELECT username FROM users WHERE id = \" + condition + \";\". Oh, right, that's a problem. If the user controls the 'condition' variable, they can inject arbitrary SQL.  Why is this dangerous? Because an attacker can manipulate the input to change the query's structure. For example, the sample input \"1 OR '1'='1'\" would make the query always true, returning all usernames. But it could be worse—attackers might extract sensitive data, modify the database, or even drop tables.  How can this be exploited? By providing input that alters the SQL command. Like adding a UNION SELECT to get other data, or executing multiple statements if the JDBC driver allows it. The example given is a simple case, but real attacks could be more complex.  To fix this, the code should use prepared statements instead of string concatenation. Replace the Statement with a PreparedStatement and use a parameterized query. The SQL would have a placeholder, like \"SELECT username FROM users WHERE id = ?\", then set the parameter using setString or setInt. This way, the input is treated as a value, not part of the SQL command, preventing injection.  So the vulnerability here is clearly SQL injection due to concatenating user input into the query. The fix is straightforward with prepared statements. No other issues mentioned, just focusing on SQLi as requested.\n"
     ]
    }
   ],
   "source": [
    "row = df.sample(1).iloc[0]\n",
    "\n",
    "print(f\"🧠 Index: {row['index']}\")\n",
    "print(f\"💻 Language: {row['language']}\")\n",
    "print(f\"⚠️ Vulnerability Type: {row['vulnerability_type']}\")\n",
    "print(f\"🔒 Difficulty: {row['difficulty']}\")\n",
    "print(\"\\n=== Code ===\")\n",
    "print(row[\"code\"])\n",
    "print(\"\\n=== Weakness Analysis (Raw) ===\")\n",
    "print(row[\"weakness_analysis\"])\n",
    "print(\"\\n=== Weakness Solution (Cleaned) ===\")\n",
    "print(row[\"weakness_solution\"])"
   ]
  },
  {
   "cell_type": "code",
   "execution_count": 10,
   "id": "9a6b310b",
   "metadata": {},
   "outputs": [],
   "source": [
    "from openai import OpenAI\n",
    "client = OpenAI(api_key=os.environ[\"OPENAI_API_KEY\"])\n",
    "\n",
    "def build_moe_prompt(code, vuln_type, explanation):\n",
    "    return f\"\"\"\n",
    "You are a senior security engineer reviewing a code snippet.\n",
    "\n",
    "Code:\n",
    "{code}\n",
    "\n",
    "Vulnerability Type: {vuln_type}\n",
    "\n",
    "Explanation of Vulnerability:\n",
    "{explanation}\n",
    "\n",
    "Your task is two-fold:\n",
    "\n",
    "1. Write a short one-sentence summary that explains how to fix or mitigate the vulnerability. Use plain, simple language. Avoid introductions or extra commentary. Label this as: `Solution Statement:`.\n",
    "\n",
    "2. Provide a revised, secure version of the code that eliminates the vulnerability. Label this as: `Safe Code:`.\n",
    "\n",
    "Do not include any extra output or formatting — just the two labeled sections.\n",
    "\"\"\".strip()\n"
   ]
  },
  {
   "cell_type": "code",
   "execution_count": 11,
   "id": "9e0b020c",
   "metadata": {},
   "outputs": [
    {
     "name": "stderr",
     "output_type": "stream",
     "text": [
      "Generating fixes: 100%|██████████| 200/200 [10:22<00:00,  3.11s/it]"
     ]
    },
    {
     "name": "stdout",
     "output_type": "stream",
     "text": [
      "✅ Done — 0 errors.\n"
     ]
    },
    {
     "name": "stderr",
     "output_type": "stream",
     "text": [
      "\n"
     ]
    }
   ],
   "source": [
    "solution_statements = []\n",
    "safe_codes = []\n",
    "error_count = 0\n",
    "\n",
    "for i, row in tqdm(df.iterrows(), total=len(df), desc=\"Generating fixes\"):\n",
    "    try:\n",
    "        prompt = build_moe_prompt(\n",
    "            code=row[\"code\"],\n",
    "            vuln_type=row[\"vulnerability_type\"],\n",
    "            explanation=row[\"weakness_solution\"]\n",
    "        )\n",
    "\n",
    "        response = client.chat.completions.create(\n",
    "            model=\"gpt-4o\",  # Use \"gpt-4o\" or \"gpt-4\" here\n",
    "            messages=[{\"role\": \"user\", \"content\": prompt}],\n",
    "            temperature=0.2,\n",
    "            max_tokens=512\n",
    "        )\n",
    "\n",
    "        content = response.choices[0].message.content.strip()\n",
    "\n",
    "        # Extract the two fields\n",
    "        solution_line = \"\"\n",
    "        safe_code = \"\"\n",
    "\n",
    "        for line in content.splitlines():\n",
    "            if line.startswith(\"Solution Statement:\"):\n",
    "                solution_line = line.replace(\"Solution Statement:\", \"\").strip()\n",
    "            elif line.startswith(\"Safe Code:\"):\n",
    "                safe_code = content.split(\"Safe Code:\")[1].strip()\n",
    "                break\n",
    "\n",
    "        solution_statements.append(solution_line)\n",
    "        safe_codes.append(safe_code)\n",
    "\n",
    "    except Exception as e:\n",
    "        error_count += 1\n",
    "        print(f\"⚠️ Error on row {i}: {e}\")\n",
    "        solution_statements.append(\"Error generating solution\")\n",
    "        safe_codes.append(\"\")\n",
    "\n",
    "print(f\"✅ Done — {error_count} errors.\")\n"
   ]
  },
  {
   "cell_type": "code",
   "execution_count": 14,
   "id": "62a1b8c7",
   "metadata": {},
   "outputs": [],
   "source": [
    "df[\"solution_statement\"] = solution_statements\n",
    "df[\"safe_code\"] = safe_codes"
   ]
  },
  {
   "cell_type": "code",
   "execution_count": 17,
   "id": "66adedfa",
   "metadata": {},
   "outputs": [
    {
     "name": "stdout",
     "output_type": "stream",
     "text": [
      "🧠 Index: 198\n",
      "💻 Language: PHP\n",
      "⚠️ Vulnerability Type: SQL Injection\n",
      "🔒 Difficulty: easy\n",
      "\n",
      "=== Original Code ===\n",
      "<?php\n",
      "\n",
      "if ($_SERVER['REQUEST_METHOD'] === 'POST') {\n",
      "    $username = $_POST['username'];\n",
      "    $password = $_POST['password'];\n",
      "\n",
      "    $connection = new mysqli('localhost', 'user', 'password', 'database');\n",
      "\n",
      "    // Vulnerable query\n",
      "    $query = \"SELECT * FROM users WHERE username = '$username' AND password = '$password'\";\n",
      "    $result = $connection->query($query);\n",
      "\n",
      "    if ($result->num_rows > 0) {\n",
      "        echo 'Login successful!';\n",
      "    } else {\n",
      "        echo 'Invalid credentials!';\n",
      "    }\n",
      "}\n",
      "\n",
      "?>\n",
      "<form method=\"POST\">\n",
      "    Username: <input type=\"text\" name=\"username\">\n",
      "    Password: <input type=\"password\" name=\"password\">\n",
      "    <input type=\"submit\" value=\"Login\">\n",
      "</form>\n",
      "\n",
      "=== Weakness Solution ===\n",
      "<think> Okay, let's take a look at this PHP code. The user mentioned it's about SQL injection, so I need to focus on that. The code is handling a POST request for a login form. The username and password are taken directly from $_POST without any sanitization. Then, they're inserted into an SQL query using string concatenation.  Hmm, the problem here is that the variables $username and $password are directly embedded into the SQL string. If an attacker inputs something like ' OR '1'='1 in the username field, that could manipulate the query. For example, the query might become SELECT * FROM users WHERE username = '' OR '1'='1' -- ' AND password = '', which would bypass authentication.  This is dangerous because it allows attackers to execute arbitrary SQL commands. They could log in without valid credentials, access sensitive data, or even modify the database. The exploit is straightforward by injecting SQL meta-characters into the input fields.  To fix this, the code should use prepared statements with parameterized queries. Instead of concatenating variables into the SQL string, placeholders like ? should be used. Then, bind the parameters to these placeholders, which tells the database to treat them as data, not executable code. Using mysqli's prepare and bind_param methods would prevent the injection. Also, ensuring that the connection's charset is set properly might help avoid encoding issues.  So the main steps are: replace the dynamic query with a prepared statement, bind the parameters, and execute. That way, user input is safely handled, and SQL injection is mitigated.\n",
      "\n",
      "=== Solution Statement (Short Summary) ===\n",
      "Use prepared statements with parameterized queries to safely handle user input and prevent SQL injection.\n",
      "\n",
      "=== Safe Code ===\n",
      "```php\n",
      "<?php\n",
      "\n",
      "if ($_SERVER['REQUEST_METHOD'] === 'POST') {\n",
      "    $username = $_POST['username'];\n",
      "    $password = $_POST['password'];\n",
      "\n",
      "    $connection = new mysqli('localhost', 'user', 'password', 'database');\n",
      "\n",
      "    // Secure query using prepared statements\n",
      "    $stmt = $connection->prepare(\"SELECT * FROM users WHERE username = ? AND password = ?\");\n",
      "    $stmt->bind_param('ss', $username, $password);\n",
      "    $stmt->execute();\n",
      "    $result = $stmt->get_result();\n",
      "\n",
      "    if ($result->num_rows > 0) {\n",
      "        echo 'Login successful!';\n",
      "    } else {\n",
      "        echo 'Invalid credentials!';\n",
      "    }\n",
      "\n",
      "    $stmt->close();\n",
      "    $connection->close();\n",
      "}\n",
      "\n",
      "?>\n",
      "<form method=\"POST\">\n",
      "    Username: <input type=\"text\" name=\"username\">\n",
      "    Password: <input type=\"password\" name=\"password\">\n",
      "    <input type=\"submit\" value=\"Login\">\n",
      "</form>\n",
      "```\n"
     ]
    }
   ],
   "source": [
    "# Sample one complete row\n",
    "row = df.sample(1).iloc[0]\n",
    "\n",
    "print(f\"🧠 Index: {row['index']}\")\n",
    "print(f\"💻 Language: {row['language']}\")\n",
    "print(f\"⚠️ Vulnerability Type: {row['vulnerability_type']}\")\n",
    "print(f\"🔒 Difficulty: {row['difficulty']}\")\n",
    "\n",
    "print(\"\\n=== Original Code ===\")\n",
    "print(row[\"code\"])\n",
    "\n",
    "print(\"\\n=== Weakness Solution ===\")\n",
    "print(row[\"weakness_solution\"])\n",
    "\n",
    "print(\"\\n=== Solution Statement (Short Summary) ===\")\n",
    "print(row[\"solution_statement\"])\n",
    "\n",
    "print(\"\\n=== Safe Code ===\")\n",
    "print(row[\"safe_code\"])\n"
   ]
  },
  {
   "cell_type": "code",
   "execution_count": null,
   "id": "85e4fa8d",
   "metadata": {},
   "outputs": [
    {
     "data": {
      "application/vnd.jupyter.widget-view+json": {
       "model_id": "5f3956704f884c68a6c0d582fb602c47",
       "version_major": 2,
       "version_minor": 0
      },
      "text/plain": [
       "Uploading the dataset shards:   0%|          | 0/1 [00:00<?, ?it/s]"
      ]
     },
     "metadata": {},
     "output_type": "display_data"
    },
    {
     "data": {
      "application/vnd.jupyter.widget-view+json": {
       "model_id": "39ecc4eccf43456496a075938e8ab003",
       "version_major": 2,
       "version_minor": 0
      },
      "text/plain": [
       "Creating parquet from Arrow format:   0%|          | 0/1 [00:00<?, ?ba/s]"
      ]
     },
     "metadata": {},
     "output_type": "display_data"
    },
    {
     "data": {
      "text/plain": [
       "CommitInfo(commit_url='https://huggingface.co/datasets/ZennyKenny/cosa-benchmark-dataset/commit/5222aa444fe7fe78b0424d3f6cf8373ea366c21a', commit_message='Upload dataset', commit_description='', oid='5222aa444fe7fe78b0424d3f6cf8373ea366c21a', pr_url=None, repo_url=RepoUrl('https://huggingface.co/datasets/ZennyKenny/cosa-benchmark-dataset', endpoint='https://huggingface.co', repo_type='dataset', repo_id='ZennyKenny/cosa-benchmark-dataset'), pr_revision=None, pr_num=None)"
      ]
     },
     "execution_count": 20,
     "metadata": {},
     "output_type": "execute_result"
    }
   ],
   "source": [
    "from huggingface_hub import HfApi, HfFolder\n",
    "from datasets import Dataset\n",
    "import os\n",
    "\n",
    "hf_api_key = os.getenv(\"HF_API_KEY\")\n",
    "HfFolder.save_token(hf_api_key)\n",
    "\n",
    "dataset = Dataset.from_pandas(df)\n",
    "\n",
    "dataset.push_to_hub(\"ZennyKenny/cosa-benchmark-dataset\", token=hf_api_key)\n"
   ]
  }
 ],
 "metadata": {
  "kernelspec": {
   "display_name": "gen",
   "language": "python",
   "name": "python3"
  },
  "language_info": {
   "codemirror_mode": {
    "name": "ipython",
    "version": 3
   },
   "file_extension": ".py",
   "mimetype": "text/x-python",
   "name": "python",
   "nbconvert_exporter": "python",
   "pygments_lexer": "ipython3",
   "version": "3.13.3"
  }
 },
 "nbformat": 4,
 "nbformat_minor": 5
}
