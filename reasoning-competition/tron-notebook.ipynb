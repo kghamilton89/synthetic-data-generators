{
 "cells": [
  {
   "cell_type": "markdown",
   "id": "90266419",
   "metadata": {},
   "source": [
    "# To Reason or Not?\n",
    "\n",
    "The TRON notebook is a pipeline to generate synthetic data for the To Reason or Not (TRON) Dataset. Reasoning models are token-heavy and compute-heavy. What if we could create an agentic pipeline that leveraged a Reasoning Agent who would quickly determine whether or not the user's query was complex enough to justify a more thorough reasoning task?\n",
    "\n",
    "![](./images/tron-arch.jpg)\n",
    "\n",
    "Imagine a case where the underlying model of the TRON-trained agent were to be restricted to a finite token limit to determine and the downstream response generation agents were given a more liberal allocation. The TRON-trained agent could be trained to support an arbitrary number of downstream response agents as well, making the implications of such an agent very beneficial to research fields. \n",
    "\n",
    "Further, this architecture shifts the burden of the resource allocation to the agentic model system itself rather than the user. An inexperienced, programmatic, or high-frequency user may not have the time or knowledge to individually assess the proper model type to use, thus exposing themselves to unnessesary token consumption.\n",
    "\n",
    "The TRON Dataset is a step towards the reality visualized and discribed above and represents a tangible step forward to productive, safe, and user-oriented AI systems. TRON can be used to fine tine a reasoning model to quickly reason through whether or not it makes sense to invest in a full reasoning task or a simple LLM completion task makes more sense."
   ]
  },
  {
   "cell_type": "markdown",
   "id": "a98881b4",
   "metadata": {},
   "source": [
    "## Contents\n",
    "\n",
    "1. [Introduction](#to-reason-or-not)\n",
    "2. [Configuration](#configuration)\n",
    "3. [Prompt Engineering](#prompt-engineering)\n",
    "4. [Helper Functions](#helper-functions)\n",
    "5. [Sampling](#sampling)\n",
    "6. [Question Generation Loop](#question-generation-loop)\n",
    "7. [Output Management](#output-management)\n",
    "8. [Visualize Dataset](#visualize-dataset)\n",
    "9. [Reasoning Generation Loop](#reasoning-generation-loop)\n",
    "10. [Inspect Output Dataset](#inspect-output-dataset)\n",
    "11. [Upload to Hugging Face Hub](#upload-to-hugging-face-hub)"
   ]
  },
  {
   "cell_type": "code",
   "execution_count": null,
   "id": "06d9a3b4",
   "metadata": {},
   "outputs": [],
   "source": [
    "# install dependencies\n",
    "%pip install datasets huggingface_hub matplotlib pandas seaborn scipy transformers together tqdm -qqq"
   ]
  },
  {
   "cell_type": "code",
   "execution_count": 48,
   "id": "2b8070d2",
   "metadata": {},
   "outputs": [],
   "source": [
    "# import dependencies\n",
    "import csv\n",
    "import numpy as np\n",
    "import os\n",
    "import re\n",
    "import json\n",
    "import matplotlib.colors as mcolors\n",
    "import matplotlib.ticker as ticker\n",
    "import random\n",
    "import time\n",
    "import pandas as pd\n",
    "import seaborn as sns\n",
    "from collections import defaultdict\n",
    "from collections import deque\n",
    "from datasets import Dataset\n",
    "from huggingface_hub import HfApi, HfFolder\n",
    "from matplotlib import pyplot as plt\n",
    "from scipy.interpolate import make_interp_spline\n",
    "from tqdm import tqdm\n",
    "from transformers import AutoTokenizer\n",
    "from together import Together"
   ]
  },
  {
   "cell_type": "markdown",
   "id": "2531f00d",
   "metadata": {},
   "source": [
    "## Configuration\n",
    "\n",
    "The TRON notebook supports a highly customizable generation configuration to prepare your model to specialize in a specific field or have a broad base of general knowledge.\n",
    "\n",
    "In order to reduce bias and increase applicability across a broad set of domains, you can customize this pipeline according to the parameters below. All inputs are randomized within the boundaries that you define."
   ]
  },
  {
   "cell_type": "code",
   "execution_count": 30,
   "id": "de633f50",
   "metadata": {},
   "outputs": [],
   "source": [
    "config = {\n",
    "    # iteration count\n",
    "    # configure the amount of rows of data to generate\n",
    "    \"num_iterations\": 10,\n",
    "\n",
    "    # model proportion bounds\n",
    "    # reduce dataset bias by ensuring diverse generation\n",
    "    # during generation, model is selected randomly\n",
    "    # define the min / max proportions that any individual model may be polled during generation\n",
    "    \"min_poll\": 0.25,\n",
    "    \"max_poll\": 0.5,\n",
    "\n",
    "    # difficulty proportion bounds\n",
    "    # during generation, question difficulty is selected randomly\n",
    "    # define the min / max proportions of each difficulty to generate more or less complex datasets\n",
    "    \"min_easy\": 0.2,\n",
    "    \"max_easy\": 0.4,\n",
    "    \"min_normal\": 0.2,\n",
    "    \"max_normal\": 0.4,\n",
    "    \"min_hard\": 0.2,\n",
    "    \"max_hard\": 0.4,\n",
    "\n",
    "    # category usage bounds\n",
    "    # during generation, category is selected randomly\n",
    "    # define the mix / max proportions of each category to generate more or less topical datasets\n",
    "    \"min_cat\": 0.075,\n",
    "    \"max_cat\": 0.15,\n",
    "\n",
    "    # define custom categories\n",
    "    # during generation, categories are selected at random from this defined list\n",
    "    # increase or decrease the number of categories to increase dataset diversity\n",
    "    # choose several variants of the same category to target a specific domain\n",
    "    \"allowed_categories\": [\"geography\", \"logic\", \"ancient_history\", \"calculus\", \"politics\", \"pop_culture\", \"language\", \"philosophy\", \"military_sciences\", \"ethics\"],\n",
    "\n",
    "    # output utils\n",
    "    # notebook supports export to csv for local use\n",
    "    \"save_to_csv\": True,\n",
    "    \"csv_filename\": \"tron_demo.csv\",\n",
    "\n",
    "    # reasoning configuration\n",
    "    # modify the reasoning loop for your use case\n",
    "    \"reasoning_model\": \"deepseek-ai/DeepSeek-R1\",\n",
    "    \"max_tokens\": 500,\n",
    "    \"max_queries_per_minute\": 3,\n",
    "    \"rate_limit_window_seconds\": 60\n",
    "}\n",
    "\n",
    "# available models: https://www.together.ai/inference\n",
    "models = [\n",
    "    \"meta-llama/Llama-4-Scout-17B-16E-Instruct\",\n",
    "    \"deepseek-ai/DeepSeek-V3\",\n",
    "    \"google/gemma-2-27b-it\",\n",
    "    \"microsoft/WizardLM-2-8x22B\"\n",
    "]"
   ]
  },
  {
   "cell_type": "markdown",
   "id": "bfe58ee8",
   "metadata": {},
   "source": [
    "## Prompt Engineering\n",
    "\n",
    "The default prompt supports the injection of `difficulty` and `category` parameters to focus generation on the target domains. The default query here has proven to work well for the task of generating predictable and structured output, but you may wish to update it according to your use case."
   ]
  },
  {
   "cell_type": "code",
   "execution_count": 31,
   "id": "7c3710f3",
   "metadata": {},
   "outputs": [],
   "source": [
    "# function to control \n",
    "def get_sample_within_bounds(counts, options, min_prop, max_prop, total):\n",
    "    eligible = []\n",
    "    min_count = int(total * min_prop)\n",
    "    max_count = int(total * max_prop)\n",
    "\n",
    "    for option in options:\n",
    "        count = counts[option]\n",
    "        if count < max_count:\n",
    "            eligible.append(option)\n",
    "\n",
    "    return random.choice(eligible) if eligible else None\n",
    "\n",
    "# function contain question generation prompt\n",
    "# modify this prompt to address your specific use case if desired\n",
    "def inject_prompt(difficulty, category):\n",
    "    return f\"\"\"\n",
    "You are generating synthetic data for evaluating language models.\n",
    "\n",
    "Your task is to generate ONE creative and diverse question that could be used to evaluate a language model.\n",
    "Avoid repetition and be imaginative — use a wide variety of topics and question formats.\n",
    "\n",
    "The question should be about **{category}** and of **{difficulty}** difficulty.\n",
    "\n",
    "In addition to the question, also indicate:\n",
    "1. Whether it requires reasoning (e.g., logical steps, inference).\n",
    "2. A one-word category (e.g., geography, logic, history, math, language, etc.).\n",
    "3. A one-word difficulty level (easy, normal, or hard).\n",
    "\n",
    "Respond ONLY with a valid JSON object, and do NOT include any explanation or markdown formatting.\n",
    "Do NOT wrap your response in a ```json code block``` — return only raw JSON.\n",
    "\n",
    "Format:\n",
    "{{\n",
    "  \"question\": \"What is the capital of France?\",\n",
    "  \"use_reasoning\": false,\n",
    "  \"category\": \"geography\",\n",
    "  \"difficulty\": \"easy\"\n",
    "}}\n",
    "\"\"\"\n"
   ]
  },
  {
   "cell_type": "markdown",
   "id": "15586f91",
   "metadata": {},
   "source": [
    "## Helper Functions\n",
    "\n",
    "These functions are used by the main algorithm to support parameters defined in the [Configuration](#configuration) and extract structured output from the models. In order to use this pipeline out of the box, it is recommended not to modify these functions unless you wish to modify overall notebook behavior (which is welcomed and encouraged)."
   ]
  },
  {
   "cell_type": "code",
   "execution_count": 32,
   "id": "cc0f08a3",
   "metadata": {},
   "outputs": [],
   "source": [
    "# function to control amount of time each model is polled\n",
    "def get_sample_within_bounds(counts, options, min_prop, max_prop, total):\n",
    "    eligible = []\n",
    "    min_count = int(total * min_prop)\n",
    "    max_count = int(total * max_prop)\n",
    "\n",
    "    for option in options:\n",
    "        count = counts[option]\n",
    "        if count < max_count:\n",
    "            eligible.append(option)\n",
    "\n",
    "    return random.choice(eligible) if eligible else None\n",
    "\n",
    "# function to extract structure json content from llm responses\n",
    "def extract_json_block(text):\n",
    "    \"\"\"\n",
    "    Extracts the first valid JSON object from a string using regex.\n",
    "    \"\"\"\n",
    "    cleaned = re.sub(r\"^```json|```$\", \"\", text.strip(), flags=re.IGNORECASE).strip()\n",
    "    match = re.search(r\"\\{[\\s\\S]*?\\}\", cleaned)\n",
    "    if not match:\n",
    "        return None\n",
    "    try:\n",
    "        return json.loads(match.group(0))\n",
    "    except json.JSONDecodeError:\n",
    "        return None\n"
   ]
  },
  {
   "cell_type": "markdown",
   "id": "d426bb29",
   "metadata": {},
   "source": [
    "### Sampling\n",
    "\n"
   ]
  },
  {
   "cell_type": "code",
   "execution_count": 33,
   "id": "62126317",
   "metadata": {},
   "outputs": [],
   "source": [
    "# sampling functions which respect the user-defined parameters in the config\n",
    "def get_model_sample(model_counts, total_iterations):\n",
    "    return get_sample_within_bounds(\n",
    "        counts=model_counts,\n",
    "        options=models,\n",
    "        min_prop=config[\"min_poll\"],\n",
    "        max_prop=config[\"max_poll\"],\n",
    "        total=total_iterations\n",
    "    )\n",
    "\n",
    "def get_difficulty_sample(difficulty_counts, total_iterations):\n",
    "    options = [\"easy\", \"normal\", \"hard\"]\n",
    "    bounds = {\n",
    "        \"easy\": (config[\"min_easy\"], config[\"max_easy\"]),\n",
    "        \"normal\": (config[\"min_normal\"], config[\"max_normal\"]),\n",
    "        \"hard\": (config[\"min_hard\"], config[\"max_hard\"]),\n",
    "    }\n",
    "\n",
    "    eligible = [\n",
    "        d for d in options\n",
    "        if difficulty_counts[d] < int(total_iterations * bounds[d][1])\n",
    "    ]\n",
    "    return random.choice(eligible) if eligible else None\n",
    "\n",
    "def get_category_sample(category_counts, total_iterations):\n",
    "    return get_sample_within_bounds(\n",
    "        counts=category_counts,\n",
    "        options=config[\"allowed_categories\"],\n",
    "        min_prop=config[\"min_cat\"],\n",
    "        max_prop=config[\"max_cat\"],\n",
    "        total=total_iterations\n",
    "    )\n"
   ]
  },
  {
   "cell_type": "markdown",
   "id": "c6876cd9",
   "metadata": {},
   "source": [
    "# Question Generation Loop"
   ]
  },
  {
   "cell_type": "code",
   "execution_count": 34,
   "id": "956ba316",
   "metadata": {},
   "outputs": [],
   "source": [
    "from dotenv import load_dotenv\n",
    "load_dotenv() \n",
    "api_key = os.getenv(\"TOGETHER_API_KEY\")"
   ]
  },
  {
   "cell_type": "code",
   "execution_count": 35,
   "id": "630304fe",
   "metadata": {},
   "outputs": [
    {
     "name": "stdout",
     "output_type": "stream",
     "text": [
      "\n",
      "🔁 Generating 10 samples...\n"
     ]
    },
    {
     "name": "stderr",
     "output_type": "stream",
     "text": [
      "100%|██████████| 10/10 [00:29<00:00,  2.97s/it]\n"
     ]
    }
   ],
   "source": [
    "# main generation loop for \n",
    "client = Together(api_key=api_key)\n",
    "results = []\n",
    "\n",
    "model_counts = defaultdict(int)\n",
    "difficulty_counts = defaultdict(int)\n",
    "category_counts = defaultdict(int)\n",
    "\n",
    "print(f\"\\n🔁 Generating {config['num_iterations']} samples...\")\n",
    "\n",
    "for i in tqdm(range(config[\"num_iterations\"])):\n",
    "    model = get_model_sample(model_counts, config[\"num_iterations\"])\n",
    "    difficulty = get_difficulty_sample(difficulty_counts, config[\"num_iterations\"])\n",
    "    category = get_category_sample(category_counts, config[\"num_iterations\"])\n",
    "\n",
    "    if not all([model, difficulty, category]):\n",
    "        print(f\"⚠️ Skipping iteration {i} — no valid model or category/difficulty available.\")\n",
    "        continue\n",
    "\n",
    "    prompt = inject_prompt(difficulty, category)\n",
    "\n",
    "    try:\n",
    "        response = client.chat.completions.create(\n",
    "            model=model,\n",
    "            messages=[{\"role\": \"user\", \"content\": prompt}]\n",
    "        )\n",
    "        reply = response.choices[0].message.content.strip()\n",
    "        data = extract_json_block(reply)\n",
    "\n",
    "        if not data or not all(k in data for k in [\"question\", \"use_reasoning\", \"category\", \"difficulty\"]):\n",
    "            raise ValueError(\"Response missing required fields.\")\n",
    "\n",
    "        results.append({\n",
    "            \"model\": model,\n",
    "            \"question\": data[\"question\"],\n",
    "            \"use_reasoning\": data[\"use_reasoning\"],\n",
    "            \"category\": data[\"category\"],\n",
    "            \"difficulty\": data[\"difficulty\"]\n",
    "        })\n",
    "\n",
    "        model_counts[model] += 1\n",
    "        difficulty_counts[difficulty] += 1\n",
    "        category_counts[category] += 1\n",
    "\n",
    "    except Exception as e:\n",
    "        print(f\"\\n❌ Error with model '{model}': {e}\")\n",
    "        print(f\"⚠️ Raw reply: {reply if 'reply' in locals() else 'N/A'}\")\n"
   ]
  },
  {
   "cell_type": "markdown",
   "id": "e3602648",
   "metadata": {},
   "source": [
    "## Output Management\n",
    "\n",
    "In the [Configuration](#configuration), you can set `save_to_csv` to `True` if you'd like to save a local copy of the generated dataset. Otherwise, the generated dataset is stored in-mem as a DataFrame for use during [Reasoning Generation Loop](#reasoning-generation-loop)."
   ]
  },
  {
   "cell_type": "code",
   "execution_count": 36,
   "id": "03d86d39",
   "metadata": {},
   "outputs": [
    {
     "name": "stdout",
     "output_type": "stream",
     "text": [
      "\n",
      "📊 Final Counts:\n",
      "Models: {'meta-llama/Llama-4-Scout-17B-16E-Instruct': 5, 'deepseek-ai/DeepSeek-V3': 2, 'google/gemma-2-27b-it': 1, 'microsoft/WizardLM-2-8x22B': 2}\n",
      "Difficulties: {'easy': 4, 'normal': 4, 'hard': 2}\n",
      "Categories: {'geography': 1, 'logic': 1, 'ancient_history': 1, 'calculus': 1, 'politics': 1, 'pop_culture': 1, 'language': 1, 'philosophy': 1, 'military_sciences': 1, 'ethics': 1}\n",
      "\n",
      "📁 Results saved to: tron_demo.csv\n"
     ]
    }
   ],
   "source": [
    "df = pd.DataFrame(results)\n",
    "\n",
    "print(\"\\n📊 Final Counts:\")\n",
    "print(\"Models:\", dict(model_counts))\n",
    "print(\"Difficulties:\", dict(difficulty_counts))\n",
    "print(\"Categories:\", dict(category_counts))\n",
    "\n",
    "if config[\"save_to_csv\"] and not df.empty:\n",
    "    df.to_csv(config[\"csv_filename\"], index=False)\n",
    "    print(f\"\\n📁 Results saved to: {config['csv_filename']}\")\n",
    "elif config[\"save_to_csv\"]:\n",
    "    print(\"\\n⚠️ No results to save — CSV not written.\")\n"
   ]
  },
  {
   "cell_type": "markdown",
   "id": "d4f8ed0b",
   "metadata": {},
   "source": [
    "## Visualize Dataset\n",
    "\n",
    "You can use the visualizations commands below out of the box to get a simple report of the output of your generation pipeline.\n",
    "\n",
    "The following information is visualized:\n",
    "1. Count of Category, stacked segments of difficulty.\n",
    "2. Proportion of `use_reasoning` values.\n",
    "3. Count of number of times each model was polled.\n",
    "\n"
   ]
  },
  {
   "cell_type": "code",
   "execution_count": 37,
   "id": "7e1e3cde",
   "metadata": {},
   "outputs": [
    {
     "data": {
      "image/png": "[encoded data removed]",
      "text/plain": [
       "<Figure size 1800x500 with 3 Axes>"
      ]
     },
     "metadata": {},
     "output_type": "display_data"
    }
   ],
   "source": [
    "# set color theme\n",
    "plt.style.use(\"seaborn-v0_8-pastel\")\n",
    "\n",
    "# dashboarding format\n",
    "fig, axes = plt.subplots(1, 3, figsize=(18, 5))\n",
    "\n",
    "# count of category stacked by difficulty\n",
    "pivot = df.pivot_table(index=\"category\", columns=\"difficulty\", aggfunc=\"size\", fill_value=0)\n",
    "pivot.plot(\n",
    "    kind=\"bar\",\n",
    "    stacked=True,\n",
    "    ax=axes[0],\n",
    "    color=sns.color_palette(\"pastel\", n_colors=len(pivot.columns))\n",
    ")\n",
    "axes[0].set_title(\"Questions by Category × Difficulty\")\n",
    "axes[0].set_xlabel(\"Category\")\n",
    "axes[0].set_ylabel(\"Count\")\n",
    "axes[0].tick_params(axis='x', labelrotation=30)\n",
    "axes[0].yaxis.set_major_locator(ticker.MaxNLocator(integer=True))  # ✅ Only integer ticks\n",
    "\n",
    "# proportion of use_reasoning values\n",
    "reasoning_colors = {\n",
    "    True: \"#86c5d8\",   # pastel blue\n",
    "    False: \"#a5d6a7\"   # pastel green\n",
    "}\n",
    "reasoning_counts = df[\"use_reasoning\"].value_counts()\n",
    "axes[1].pie(\n",
    "    reasoning_counts,\n",
    "    labels=[\"True\", \"False\"],\n",
    "    autopct='%1.1f%%',\n",
    "    colors=[reasoning_colors.get(k) for k in reasoning_counts.index],\n",
    "    startangle=90\n",
    ")\n",
    "axes[1].set_title(\"Reasoning Recommended\")\n",
    "axes[1].axis('equal')\n",
    "\n",
    "# model usage bar chart\n",
    "model_counts = df[\"model\"].value_counts()\n",
    "truncated_labels = [m[:25] + \"…\" if len(m) > 25 else m for m in model_counts.index]\n",
    "bar_colors = sns.color_palette(\"pastel\", n_colors=len(model_counts))\n",
    "\n",
    "axes[2].bar(truncated_labels, model_counts.values, color=bar_colors)\n",
    "axes[2].set_title(\"Samples by Model\")\n",
    "axes[2].set_ylabel(\"Count\")\n",
    "axes[2].tick_params(axis='x', labelrotation=30, labelsize=8)\n",
    "axes[2].yaxis.set_major_locator(ticker.MaxNLocator(integer=True))\n",
    "\n",
    "# display charts\n",
    "plt.tight_layout()\n",
    "plt.show()\n"
   ]
  },
  {
   "cell_type": "markdown",
   "id": "d48eecf3",
   "metadata": {},
   "source": [
    "## Reasoning Generation Loop\n",
    "\n",
    "This loop iterates through each line of the output dataframe from [Question Generation Loop](#question-generation-loop) and polls [DeepSeek-R1](https://huggingface.co/deepseek-ai/DeepSeek-R1) to generate a `<think>` block (representing the reasoning-only segment of an answer) with fewer than 128 tokens. The `max_tokens` parameter is configurable and injected into the query sent to the model itself to ensure that the the limit is communicated literally as well as programatically, this has been observed to geenerate few incomplete or cut-off responses."
   ]
  },
  {
   "cell_type": "code",
   "execution_count": null,
   "id": "8e2477ef",
   "metadata": {},
   "outputs": [
    {
     "data": {
      "application/vnd.jupyter.widget-view+json": {
       "model_id": "c887d0332ac84eee815111e0862885ce",
       "version_major": 2,
       "version_minor": 0
      },
      "text/plain": [
       "tokenizer_config.json:   0%|          | 0.00/26.0 [00:00<?, ?B/s]"
      ]
     },
     "metadata": {},
     "output_type": "display_data"
    },
    {
     "data": {
      "application/vnd.jupyter.widget-view+json": {
       "model_id": "d1abe733cbcc49faad3036b6fb4cbc91",
       "version_major": 2,
       "version_minor": 0
      },
      "text/plain": [
       "config.json:   0%|          | 0.00/665 [00:00<?, ?B/s]"
      ]
     },
     "metadata": {},
     "output_type": "display_data"
    },
    {
     "data": {
      "application/vnd.jupyter.widget-view+json": {
       "model_id": "9cdac734f12445389871f42e6ea52ebe",
       "version_major": 2,
       "version_minor": 0
      },
      "text/plain": [
       "vocab.json:   0%|          | 0.00/1.04M [00:00<?, ?B/s]"
      ]
     },
     "metadata": {},
     "output_type": "display_data"
    },
    {
     "data": {
      "application/vnd.jupyter.widget-view+json": {
       "model_id": "5b6f100ec28241968b13aeb4cafb29ee",
       "version_major": 2,
       "version_minor": 0
      },
      "text/plain": [
       "merges.txt:   0%|          | 0.00/456k [00:00<?, ?B/s]"
      ]
     },
     "metadata": {},
     "output_type": "display_data"
    },
    {
     "data": {
      "application/vnd.jupyter.widget-view+json": {
       "model_id": "de38f3e7785042238dbca7d1e3161ea3",
       "version_major": 2,
       "version_minor": 0
      },
      "text/plain": [
       "tokenizer.json:   0%|          | 0.00/1.36M [00:00<?, ?B/s]"
      ]
     },
     "metadata": {},
     "output_type": "display_data"
    },
    {
     "name": "stdout",
     "output_type": "stream",
     "text": [
      "\n",
      "🤔 Generating reasoning strings with deepseek-ai/DeepSeek-R1...\n",
      "\n"
     ]
    },
    {
     "name": "stderr",
     "output_type": "stream",
     "text": [
      "Reasoning via deepseek-ai/DeepSeek-R1:  10%|█         | 1/10 [00:05<00:49,  5.45s/it]"
     ]
    },
    {
     "name": "stdout",
     "output_type": "stream",
     "text": [
      "⚠️ Error on question: Given the function f(x) = (2x^3 - 5x^2 + x - 2)/(x^2 - 4), f... → Error code: 429 - {\"message\": \"You are on tier Build Tier 1, which offers 3 queries and 180000 tokens per minute for this model. Please upgrade to higher tier for higher rate limit at https://api.together.xyz/settings/billing.\", \"type_\": \"model_rate_limit\"}\n",
      "⏱️ Retrying after 60 seconds...\n"
     ]
    },
    {
     "name": "stderr",
     "output_type": "stream",
     "text": [
      "Reasoning via deepseek-ai/DeepSeek-R1:  20%|██        | 2/10 [01:35<07:22, 55.33s/it]"
     ]
    },
    {
     "name": "stdout",
     "output_type": "stream",
     "text": [
      "⚠️ Error on question: If you travel due east from the Eiffel Tower, what major mou... → Error code: 429 - {\"message\": \"You are on tier Build Tier 1, which offers 3 queries and 180000 tokens per minute for this model. Please upgrade to higher tier for higher rate limit at https://api.together.xyz/settings/billing.\", \"type_\": \"model_rate_limit\"}\n",
      "⏱️ Retrying after 60 seconds...\n"
     ]
    },
    {
     "name": "stderr",
     "output_type": "stream",
     "text": [
      "Reasoning via deepseek-ai/DeepSeek-R1:  30%|███       | 3/10 [03:04<08:14, 70.64s/it]"
     ]
    },
    {
     "name": "stdout",
     "output_type": "stream",
     "text": [
      "⚠️ Error on question: What 1994 movie starring Tom Hanks and Meg Ryan was inspired... → Error code: 429 - {\"message\": \"You are on tier Build Tier 1, which offers 3 queries and 180000 tokens per minute for this model. Please upgrade to higher tier for higher rate limit at https://api.together.xyz/settings/billing.\", \"type_\": \"model_rate_limit\"}\n",
      "⏱️ Retrying after 60 seconds...\n"
     ]
    },
    {
     "name": "stderr",
     "output_type": "stream",
     "text": [
      "Reasoning via deepseek-ai/DeepSeek-R1:  40%|████      | 4/10 [04:34<07:49, 78.18s/it]"
     ]
    },
    {
     "name": "stdout",
     "output_type": "stream",
     "text": [
      "⚠️ Error on question: What is the primary function of a military reconnaissance un... → Error code: 429 - {\"message\": \"You are on tier Build Tier 1, which offers 3 queries and 180000 tokens per minute for this model. Please upgrade to higher tier for higher rate limit at https://api.together.xyz/settings/billing.\", \"type_\": \"model_rate_limit\"}\n",
      "⏱️ Retrying after 60 seconds...\n"
     ]
    },
    {
     "name": "stderr",
     "output_type": "stream",
     "text": [
      "Reasoning via deepseek-ai/DeepSeek-R1:  60%|██████    | 6/10 [06:42<04:31, 67.83s/it]"
     ]
    },
    {
     "name": "stdout",
     "output_type": "stream",
     "text": [
      "⚠️ Error on question: If all Bloops are Razzies and all Razzies are Lazzies, are a... → Error code: 429 - {\"message\": \"You are on tier Build Tier 1, which offers 3 queries and 180000 tokens per minute for this model. Please upgrade to higher tier for higher rate limit at https://api.together.xyz/settings/billing.\", \"type_\": \"model_rate_limit\"}\n",
      "⏱️ Retrying after 60 seconds...\n"
     ]
    },
    {
     "name": "stderr",
     "output_type": "stream",
     "text": [
      "Reasoning via deepseek-ai/DeepSeek-R1:  70%|███████   | 7/10 [08:11<03:44, 74.76s/it]"
     ]
    },
    {
     "name": "stdout",
     "output_type": "stream",
     "text": [
      "⚠️ Error on question: Is it possible for a deterministic universe to have free wil... → Error code: 429 - {\"message\": \"You are on tier Build Tier 1, which offers 3 queries and 180000 tokens per minute for this model. Please upgrade to higher tier for higher rate limit at https://api.together.xyz/settings/billing.\", \"type_\": \"model_rate_limit\"}\n",
      "⏱️ Retrying after 60 seconds...\n"
     ]
    },
    {
     "name": "stderr",
     "output_type": "stream",
     "text": [
      "Reasoning via deepseek-ai/DeepSeek-R1:  90%|█████████ | 9/10 [10:16<01:04, 64.60s/it]"
     ]
    },
    {
     "name": "stdout",
     "output_type": "stream",
     "text": [
      "⚠️ Error on question: Is it okay to tell a white lie to avoid hurting someone's fe... → Error code: 429 - {\"message\": \"You are on tier Build Tier 1, which offers 3 queries and 180000 tokens per minute for this model. Please upgrade to higher tier for higher rate limit at https://api.together.xyz/settings/billing.\", \"type_\": \"model_rate_limit\"}\n",
      "⏱️ Retrying after 60 seconds...\n"
     ]
    },
    {
     "name": "stderr",
     "output_type": "stream",
     "text": [
      "Reasoning via deepseek-ai/DeepSeek-R1: 100%|██████████| 10/10 [11:43<00:00, 70.35s/it]\n"
     ]
    }
   ],
   "source": [
    "# Use a tokenizer for token counting (adjust as needed)\n",
    "tokenizer = AutoTokenizer.from_pretrained(\"gpt2\")  # Use gpt2 tokenizer as default\n",
    "\n",
    "reasoning_strings = []\n",
    "request_timestamps = deque()\n",
    "\n",
    "print(f\"\\n🤔 Generating reasoning strings with {config['reasoning_model']}...\\n\")\n",
    "\n",
    "max_tokens = config[\"max_tokens\"]\n",
    "max_qpm = config[\"max_queries_per_minute\"]\n",
    "window_seconds = config[\"rate_limit_window_seconds\"]\n",
    "reasoning_model = config[\"reasoning_model\"]\n",
    "\n",
    "token_lengths = []\n",
    "token_limit_hits = []\n",
    "error_count = 0\n",
    "start_time = time.time()\n",
    "\n",
    "for _, row in tqdm(df.iterrows(), total=len(df), desc=f\"Reasoning via {reasoning_model}\"):\n",
    "    question = row[\"question\"]\n",
    "    label = row[\"use_reasoning\"]\n",
    "    category = row[\"category\"]\n",
    "    label_str = \"does\" if label else \"does not\"\n",
    "\n",
    "    prompt = f\"\"\"\n",
    "<think>\n",
    "You are a minimal reasoning agent tasked with quickly evaluating whether a question requires multi-step logical reasoning or not.\n",
    "\n",
    "The following question {label_str} require reasoning.\n",
    "Category: {category}\n",
    "\n",
    "Question: {question}\n",
    "\n",
    "Briefly explain why this is the case. \n",
    "⚠️ You must be concise. Your response must not exceed {max_tokens} tokens.\n",
    "Excessively long or elaborate explanations will be discarded.\n",
    "</think>\n",
    "\"\"\".strip()\n",
    "\n",
    "    # Rate-limiting logic\n",
    "    now = time.time()\n",
    "    request_timestamps.append(now)\n",
    "    while len(request_timestamps) > max_qpm:\n",
    "        if now - request_timestamps[0] < window_seconds:\n",
    "            sleep_time = window_seconds - (now - request_timestamps[0])\n",
    "            print(f\"⏳ Rate limit hit — sleeping {sleep_time:.1f}s...\")\n",
    "            time.sleep(sleep_time)\n",
    "        else:\n",
    "            request_timestamps.popleft()\n",
    "\n",
    "    try:\n",
    "        response = client.chat.completions.create(\n",
    "            model=reasoning_model,\n",
    "            messages=[{\"role\": \"user\", \"content\": prompt}],\n",
    "            stop=[\"</think>\"],\n",
    "            max_tokens=max_tokens\n",
    "        )\n",
    "        response_text = response.choices[0].message.content.strip()\n",
    "        full_reasoning = response_text.replace(\"\\n\", \" \").replace(\"\\r\", \" \").strip()\n",
    "        reasoning_strings.append(full_reasoning)\n",
    "\n",
    "        # ✅ Real token length\n",
    "        token_count = len(tokenizer.encode(response_text))\n",
    "        token_lengths.append(token_count)\n",
    "        token_limit_hits.append(token_count >= max_tokens)\n",
    "\n",
    "    except Exception as e:\n",
    "        error_count += 1\n",
    "        print(f\"⚠️ Error on question: {question[:60]}... → {e}\")\n",
    "        print(\"⏱️ Retrying after 60 seconds...\")\n",
    "        time.sleep(60)\n",
    "        try:\n",
    "            response = client.chat.completions.create(\n",
    "                model=reasoning_model,\n",
    "                messages=[{\"role\": \"user\", \"content\": prompt}],\n",
    "                stop=[\"</think>\"],\n",
    "                max_tokens=max_tokens\n",
    "            )\n",
    "            response_text = response.choices[0].message.content.strip()\n",
    "            full_reasoning = response_text.replace(\"\\n\", \" \").replace(\"\\r\", \" \").strip() + \" </think>\"\n",
    "            reasoning_strings.append(full_reasoning)\n",
    "\n",
    "            token_count = len(tokenizer.encode(response_text))\n",
    "            token_lengths.append(token_count)\n",
    "            token_limit_hits.append(token_count >= max_tokens)\n",
    "\n",
    "        except Exception as e2:\n",
    "            error_count += 1\n",
    "            print(f\"❌ Retry failed → {e2}\")\n",
    "            reasoning_strings.append(\"<think>Error generating reasoning</think>\")\n",
    "            token_lengths.append(0)\n",
    "            token_limit_hits.append(False)\n",
    "\n",
    "# Update the DataFrame in memory\n",
    "df[\"reasoning\"] = reasoning_strings\n",
    "end_time = time.time()\n"
   ]
  },
  {
   "cell_type": "code",
   "execution_count": 39,
   "id": "8b815994",
   "metadata": {},
   "outputs": [
    {
     "name": "stdout",
     "output_type": "stream",
     "text": [
      "\n",
      "✅ Reasoning column appended and saved to existing CSV: tron_demo.csv\n"
     ]
    }
   ],
   "source": [
    "if config.get(\"save_to_csv\", False):\n",
    "    csv_path = config[\"csv_filename\"]\n",
    "\n",
    "    if os.path.exists(csv_path):\n",
    "        try:\n",
    "            df.to_csv(csv_path, index=False, quoting=csv.QUOTE_ALL)\n",
    "            print(f\"\\n✅ Reasoning column appended and saved to existing CSV: {csv_path}\")\n",
    "        except Exception as e:\n",
    "            print(f\"❌ Error saving to CSV: {e}\")\n",
    "    else:\n",
    "        print(f\"\\n⚠️ CSV file not found: {csv_path}. No file saved, but reasoning is attached to DataFrame.\")\n",
    "else:\n",
    "    print(\"📁 save_to_csv is False — skipping file write, reasoning is only in-memory.\")\n"
   ]
  },
  {
   "cell_type": "markdown",
   "id": "43db5593",
   "metadata": {},
   "source": [
    "# Inspect Output Dataset\n"
   ]
  },
  {
   "cell_type": "code",
   "execution_count": 47,
   "id": "263e252c",
   "metadata": {},
   "outputs": [
    {
     "data": {
      "image/png": "[encoded data removed]",
      "text/plain": [
       "<Figure size 2000x500 with 3 Axes>"
      ]
     },
     "metadata": {},
     "output_type": "display_data"
    }
   ],
   "source": [
    "# Set pastel theme\n",
    "plt.style.use(\"seaborn-v0_8-pastel\")\n",
    "\n",
    "# Prepare data\n",
    "bins = np.linspace(min(token_lengths), max(token_lengths), 20)\n",
    "counts, edges = np.histogram(token_lengths, bins=bins)\n",
    "centers = (edges[:-1] + edges[1:]) / 2\n",
    "\n",
    "# Remove bins with zero counts for smoother continuous line\n",
    "centers_nonzero = centers[counts > 0]\n",
    "counts_nonzero = counts[counts > 0]\n",
    "\n",
    "# Compute stats\n",
    "total_time = end_time - start_time\n",
    "time_per_response = total_time / len(df)\n",
    "mean_tokens = np.mean(token_lengths)\n",
    "median_tokens = np.median(token_lengths)\n",
    "\n",
    "# Layout: 1 row, 3 columns\n",
    "fig, axes = plt.subplots(1, 3, figsize=(20, 5))\n",
    "\n",
    "# 1️⃣ Token Length Distribution (Smoothed)\n",
    "if len(centers_nonzero) >= 4:\n",
    "    x_smooth = np.linspace(centers_nonzero.min(), centers_nonzero.max(), 300)\n",
    "    spline = make_interp_spline(centers_nonzero, counts_nonzero, k=3)\n",
    "    y_smooth = spline(x_smooth)\n",
    "    \n",
    "    axes[0].plot(x_smooth, y_smooth, color=\"#a5d6a7\", linewidth=2.5, label=\"Smoothed Distribution\")\n",
    "    axes[0].scatter(centers_nonzero, counts_nonzero, color=\"#a5d6a7\", edgecolor=\"black\", zorder=3, label=\"Data Points\")\n",
    "else:\n",
    "    axes[0].plot(centers_nonzero, counts_nonzero, color=\"#a5d6a7\", linewidth=2.5, label=\"Token Lengths\")\n",
    "    axes[0].scatter(centers_nonzero, counts_nonzero, color=\"#a5d6a7\", edgecolor=\"black\", zorder=3)\n",
    "\n",
    "# Mean and median vertical lines\n",
    "axes[0].axvline(mean_tokens, color=\"gray\", linestyle=\"--\", linewidth=1.5, label=f\"Mean ({mean_tokens:.1f})\")\n",
    "axes[0].axvline(median_tokens, color=\"black\", linestyle=\":\", linewidth=1.5, label=f\"Median ({median_tokens:.1f})\")\n",
    "\n",
    "axes[0].set_title(\"Token Length Distribution\")\n",
    "axes[0].set_xlabel(\"Tokens\")\n",
    "axes[0].set_ylabel(\"Count\")\n",
    "axes[0].yaxis.set_major_locator(ticker.MaxNLocator(integer=True))\n",
    "axes[0].grid(True)\n",
    "axes[0].legend(fontsize=8)\n",
    "\n",
    "# 2️⃣ Token Limit Hit Pie Chart\n",
    "limit_hit_counts = {\n",
    "    \"Hit Limit\": sum(token_limit_hits),\n",
    "    \"Within Limit\": len(token_limit_hits) - sum(token_limit_hits)\n",
    "}\n",
    "axes[1].pie(\n",
    "    limit_hit_counts.values(),\n",
    "    labels=limit_hit_counts.keys(),\n",
    "    autopct='%1.1f%%',\n",
    "    colors=[\"#86c5d8\", \"#a5d6a7\"],\n",
    "    startangle=90\n",
    ")\n",
    "axes[1].set_title(\"Token Limit Hit\")\n",
    "\n",
    "# 3️⃣ KPI Box: Errors + Time\n",
    "axes[2].axis(\"off\")\n",
    "axes[2].text(0.1, 0.8, \"↓ Errors\", fontsize=14, fontweight=\"bold\", color=\"#d73027\")\n",
    "axes[2].text(0.1, 0.7, f\"{error_count}\", fontsize=28, fontweight=\"bold\")\n",
    "\n",
    "axes[2].text(0.1, 0.5, \"↑ Total Time (s)\", fontsize=14, fontweight=\"bold\", color=\"#1a9850\")\n",
    "axes[2].text(0.1, 0.4, f\"{total_time:.1f}\", fontsize=24, fontweight=\"bold\")\n",
    "\n",
    "axes[2].text(0.1, 0.2, \"↑ Avg per Response (s)\", fontsize=14, fontweight=\"bold\", color=\"#4575b4\")\n",
    "axes[2].text(0.1, 0.1, f\"{time_per_response:.2f}\", fontsize=20, fontweight=\"bold\")\n",
    "\n",
    "# Display\n",
    "plt.tight_layout()\n",
    "plt.show()\n"
   ]
  },
  {
   "cell_type": "markdown",
   "id": "b094a518",
   "metadata": {},
   "source": [
    "# Upload to Hugging Face Hub"
   ]
  },
  {
   "cell_type": "code",
   "execution_count": 50,
   "id": "624fbddf",
   "metadata": {},
   "outputs": [
    {
     "data": {
      "application/vnd.jupyter.widget-view+json": {
       "model_id": "f2c26a11e8f2482b94449a67fcae31e1",
       "version_major": 2,
       "version_minor": 0
      },
      "text/plain": [
       "Uploading the dataset shards:   0%|          | 0/1 [00:00<?, ?it/s]"
      ]
     },
     "metadata": {},
     "output_type": "display_data"
    },
    {
     "data": {
      "application/vnd.jupyter.widget-view+json": {
       "model_id": "c3ed2912b05d46d29f327536a8596d7c",
       "version_major": 2,
       "version_minor": 0
      },
      "text/plain": [
       "Creating parquet from Arrow format:   0%|          | 0/1 [00:00<?, ?ba/s]"
      ]
     },
     "metadata": {},
     "output_type": "display_data"
    },
    {
     "data": {
      "text/plain": [
       "CommitInfo(commit_url='https://huggingface.co/datasets/ZennyKenny/TRON-dataset-demo/commit/20ba7f9a6a16c3c937912bb1a1e1b0a03b1846a5', commit_message='Upload dataset', commit_description='', oid='20ba7f9a6a16c3c937912bb1a1e1b0a03b1846a5', pr_url=None, repo_url=RepoUrl('https://huggingface.co/datasets/ZennyKenny/TRON-dataset-demo', endpoint='https://huggingface.co', repo_type='dataset', repo_id='ZennyKenny/TRON-dataset-demo'), pr_revision=None, pr_num=None)"
      ]
     },
     "execution_count": 50,
     "metadata": {},
     "output_type": "execute_result"
    }
   ],
   "source": [
    "api = HfApi()\n",
    "api.create_repo(repo_id=\"ZennyKenny/TRON-dataset-demo\", repo_type=\"dataset\", exist_ok=True)\n",
    "hf_dataset = Dataset.from_pandas(df)\n",
    "hf_dataset.push_to_hub(\"ZennyKenny/TRON-dataset-demo\")"
   ]
  }
 ],
 "metadata": {
  "kernelspec": {
   "display_name": "gen",
   "language": "python",
   "name": "python3"
  },
  "language_info": {
   "codemirror_mode": {
    "name": "ipython",
    "version": 3
   },
   "file_extension": ".py",
   "mimetype": "text/x-python",
   "name": "python",
   "nbconvert_exporter": "python",
   "pygments_lexer": "ipython3",
   "version": "3.13.3"
  }
 },
 "nbformat": 4,
 "nbformat_minor": 5
}
