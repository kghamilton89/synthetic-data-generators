{
 "cells": [
  {
   "cell_type": "code",
   "execution_count": null,
   "id": "a5d1b3b9",
   "metadata": {},
   "outputs": [],
   "source": [
    "from dotenv import load_dotenv\n",
    "import os\n",
    "\n",
    "load_dotenv()\n",
    "os.environ[\"OPENAI_API_KEY\"] = os.getenv(\"OPENAI_API_KEY\")\n"
   ]
  },
  {
   "cell_type": "code",
   "execution_count": null,
   "id": "f753bfc1",
   "metadata": {},
   "outputs": [],
   "source": [
    "import logging\n",
    "import random\n",
    "from bespokelabs import curator\n",
    "\n",
    "logger = logging.getLogger(\"bespokelabs.curator\")\n",
    "logger.setLevel(logging.INFO)\n"
   ]
  },
  {
   "cell_type": "code",
   "execution_count": null,
   "id": "e9451fec",
   "metadata": {},
   "outputs": [],
   "source": [
    "from pydantic import BaseModel, Field\n",
    "\n",
    "class StartupIdea(BaseModel):\n",
    "    idea: str = Field(description=\"A single creative, viable startup idea.\")\n",
    "\n",
    "class StartupIdeaGenerator(curator.LLM):\n",
    "    \"\"\"LLM-based generator for creative startup ideas.\"\"\"\n",
    "    response_format = StartupIdea\n",
    "\n",
    "    def prompt(self, input: dict) -> str:\n",
    "        index = input[\"index\"]\n",
    "        return (\n",
    "            f\"Generate Startup Idea #{index}.\\n\\n\"\n",
    "            \"Requirements:\\n\"\n",
    "            \"- The idea should be creative but plausible.\\n\"\n",
    "            \"- Cover a real-world problem or market need.\\n\"\n",
    "            \"- Be specific about the product or service.\\n\"\n",
    "            \"- Mention the potential target audience.\\n\"\n",
    "            \"- Avoid buzzwords like 'disruptive', 'revolutionary', etc.\\n\"\n",
    "            \"- Make sure the idea is understandable by a layperson.\\n\\n\"\n",
    "            \"Return only the startup idea text, no extra commentary.\"\n",
    "        )\n",
    "\n",
    "    def parse(self, input: dict, response: StartupIdea) -> dict:\n",
    "        return {\n",
    "            \"index\": input[\"index\"],\n",
    "            \"idea\": response.idea.strip()\n",
    "        }\n",
    "\n",
    "generator = StartupIdeaGenerator(\n",
    "    model_name=\"gpt-4o-mini\",\n",
    "    backend=\"openai\",\n",
    "    batch=False\n",
    ")\n"
   ]
  },
  {
   "cell_type": "code",
   "execution_count": null,
   "id": "d31adbe7",
   "metadata": {},
   "outputs": [
    {
     "data": {
      "text/html": [
       "<pre style=\"white-space:pre;overflow-x:auto;line-height:normal;font-family:Menlo,'DejaVu Sans Mono',consolas,'Courier New',monospace\"><span style=\"color: #7fbfbf; text-decoration-color: #7fbfbf\">[04/28/25 15:56:18] </span><span style=\"color: #000080; text-decoration-color: #000080\">INFO    </span> Using cached output dataset. If you want to regenerate   <a href=\"file:///opt/anaconda3/envs/gen/lib/python3.13/site-packages/bespokelabs/curator/request_processor/base_request_processor.py\" target=\"_blank\"><span style=\"color: #7f7f7f; text-decoration-color: #7f7f7f\">base_request_processor.py</span></a><span style=\"color: #7f7f7f; text-decoration-color: #7f7f7f\">:</span><a href=\"file:///opt/anaconda3/envs/gen/lib/python3.13/site-packages/bespokelabs/curator/request_processor/base_request_processor.py#328\" target=\"_blank\"><span style=\"color: #7f7f7f; text-decoration-color: #7f7f7f\">328</span></a>\n",
       "<span style=\"color: #7fbfbf; text-decoration-color: #7fbfbf\">                    </span>         the dataset, disable or delete the cache.                <span style=\"color: #7f7f7f; text-decoration-color: #7f7f7f\">                             </span>\n",
       "<span style=\"color: #7fbfbf; text-decoration-color: #7fbfbf\">                    </span>          See                                                     <span style=\"color: #7f7f7f; text-decoration-color: #7f7f7f\">                             </span>\n",
       "<span style=\"color: #7fbfbf; text-decoration-color: #7fbfbf\">                    </span>         <span style=\"color: #0000ff; text-decoration-color: #0000ff; text-decoration: underline\">https://docs.bespokelabs.ai/bespoke-curator/tutorials/au</span> <span style=\"color: #7f7f7f; text-decoration-color: #7f7f7f\">                             </span>\n",
       "<span style=\"color: #7fbfbf; text-decoration-color: #7fbfbf\">                    </span>         <span style=\"color: #0000ff; text-decoration-color: #0000ff; text-decoration: underline\">tomatic-recovery-and-caching#disable-caching</span> for more    <span style=\"color: #7f7f7f; text-decoration-color: #7f7f7f\">                             </span>\n",
       "<span style=\"color: #7fbfbf; text-decoration-color: #7fbfbf\">                    </span>         information.                                             <span style=\"color: #7f7f7f; text-decoration-color: #7f7f7f\">                             </span>\n",
       "</pre>\n"
      ],
      "text/plain": [
       "\u001b[2;36m[04/28/25 15:56:18]\u001b[0m\u001b[2;36m \u001b[0m\u001b[34mINFO    \u001b[0m Using cached output dataset. If you want to regenerate   \u001b]8;id=424385;file:///opt/anaconda3/envs/gen/lib/python3.13/site-packages/bespokelabs/curator/request_processor/base_request_processor.py\u001b\\\u001b[2mbase_request_processor.py\u001b[0m\u001b]8;;\u001b\\\u001b[2m:\u001b[0m\u001b]8;id=691907;file:///opt/anaconda3/envs/gen/lib/python3.13/site-packages/bespokelabs/curator/request_processor/base_request_processor.py#328\u001b\\\u001b[2m328\u001b[0m\u001b]8;;\u001b\\\n",
       "\u001b[2;36m                    \u001b[0m         the dataset, disable or delete the cache.                \u001b[2m                             \u001b[0m\n",
       "\u001b[2;36m                    \u001b[0m          See                                                     \u001b[2m                             \u001b[0m\n",
       "\u001b[2;36m                    \u001b[0m         \u001b[4;94mhttps://docs.bespokelabs.ai/bespoke-curator/tutorials/au\u001b[0m \u001b[2m                             \u001b[0m\n",
       "\u001b[2;36m                    \u001b[0m         \u001b[4;94mtomatic-recovery-and-caching#disable-caching\u001b[0m for more    \u001b[2m                             \u001b[0m\n",
       "\u001b[2;36m                    \u001b[0m         information.                                             \u001b[2m                             \u001b[0m\n"
      ]
     },
     "metadata": {},
     "output_type": "display_data"
    }
   ],
   "source": [
    "inputs = [{\"index\": i + 1} for i in range(200)]\n",
    "startup_ideas = generator(inputs)\n"
   ]
  },
  {
   "cell_type": "code",
   "execution_count": null,
   "id": "fc52993c",
   "metadata": {},
   "outputs": [
    {
     "name": "stdout",
     "output_type": "stream",
     "text": [
      "Startup Idea #54:\n",
      "\n",
      "A mobile app called \"Seniors Connect\" that serves as a social networking platform tailored specifically for elderly users. The app combines features of traditional social media with tools to promote mental health, physical activity, and community engagement. Users can share stories, photos, and experiences, participate in group activities like virtual book clubs or exercise sessions, and access resources for health management and emergency help. The target audience includes seniors aged 65 and over, their families looking to keep them socially active, and retirement communities aiming to enhance resident engagement. The goal is to combat loneliness and improve overall well-being for older adults.\n"
     ]
    }
   ],
   "source": [
    "random_idea = random.choice(startup_ideas)\n",
    "print(f\"Startup Idea #{random_idea['index']}:\\n\\n{random_idea['idea']}\")\n"
   ]
  },
  {
   "cell_type": "code",
   "execution_count": null,
   "id": "a6f83ae7",
   "metadata": {},
   "outputs": [],
   "source": [
    "from together import Together\n",
    "import os\n",
    "\n",
    "os.environ[\"TOGETHER_API_KEY\"] = os.getenv(\"TOGETHER_API_KEY\")\n",
    "client = Together(api_key=os.environ[\"TOGETHER_API_KEY\"])\n"
   ]
  },
  {
   "cell_type": "code",
   "execution_count": null,
   "id": "8a67a5bb",
   "metadata": {},
   "outputs": [
    {
     "name": "stderr",
     "output_type": "stream",
     "text": [
      "Generating Reasoning with DeepSeek:   8%|▊         | 15/200 [33:41<6:54:56, 134.58s/it]"
     ]
    },
    {
     "name": "stdout",
     "output_type": "stream",
     "text": [
      "⚠️ Error on idea 16 (fit): Error code: 502 - Error code: 502 -<html>\n",
      "<head><title>502 Bad Gateway</title></head>\n",
      "<body>\n",
      "<center><h1>502 Bad Gateway</h1></center>\n",
      "<hr><center>cloudflare</center>\n",
      "</body>\n",
      "</html>\n",
      "\n",
      "⏱️ Retrying after 60 seconds...\n"
     ]
    },
    {
     "name": "stderr",
     "output_type": "stream",
     "text": [
      "Generating Reasoning with DeepSeek:   8%|▊         | 16/200 [37:09<8:00:44, 156.76s/it]"
     ]
    },
    {
     "name": "stdout",
     "output_type": "stream",
     "text": [
      "⚠️ Error on idea 17 (junior partner): Error code: 500 - {\"message\": \"Internal Server Error\"}\n",
      "⏱️ Retrying after 60 seconds...\n"
     ]
    },
    {
     "name": "stderr",
     "output_type": "stream",
     "text": [
      "Generating Reasoning with DeepSeek:  80%|████████  | 160/200 [6:38:19<1:35:16, 142.92s/it]"
     ]
    },
    {
     "name": "stdout",
     "output_type": "stream",
     "text": [
      "⚠️ Error on idea 161 (fit): Error code: 502 - Error code: 502 -<html>\n",
      "<head><title>502 Bad Gateway</title></head>\n",
      "<body>\n",
      "<center><h1>502 Bad Gateway</h1></center>\n",
      "<hr><center>cloudflare</center>\n",
      "</body>\n",
      "</html>\n",
      "\n",
      "⏱️ Retrying after 60 seconds...\n"
     ]
    },
    {
     "name": "stderr",
     "output_type": "stream",
     "text": [
      "Generating Reasoning with DeepSeek: 100%|██████████| 200/200 [8:13:08<00:00, 147.94s/it]  \n"
     ]
    }
   ],
   "source": [
    "import time\n",
    "from tqdm import tqdm\n",
    "from collections import deque\n",
    "import random\n",
    "\n",
    "# Reasoning loop config\n",
    "max_qpm = 60  # maximum queries per minute\n",
    "window_seconds = 60\n",
    "request_timestamps = deque()\n",
    "\n",
    "response_times = []\n",
    "error_count = 0\n",
    "max_tokens = 2048\n",
    "\n",
    "junior_partner_reasonings = []\n",
    "hawk_reasonings = []\n",
    "fin_reasonings = []\n",
    "fit_reasonings = []\n",
    "\n",
    "# Reasoning loop\n",
    "for startup in tqdm(startup_ideas, desc=\"Generating Reasoning with DeepSeek\"):\n",
    "    idx = startup[\"index\"]\n",
    "    idea = startup[\"idea\"]\n",
    "\n",
    "    junior_prompt = f\"\"\"\n",
    "You are a junior VC partner at Reasoned Capital. You are preparing to pitch the following startup idea to the General Partner cohort.\n",
    "\n",
    "Startup Idea:\n",
    "{idea}\n",
    "\n",
    "Explain whether you think it's a good or bad idea overall. Highlight both the strengths and weaknesses, but keep it professional and concise. Output the internal thought process, not a final decision.\n",
    "\n",
    "Return only your thoughts, no formatting.\n",
    "\"\"\".strip()\n",
    "\n",
    "    # Rate limit management\n",
    "    now = time.time()\n",
    "    while request_timestamps and now - request_timestamps[0] > window_seconds:\n",
    "        request_timestamps.popleft()\n",
    "    if len(request_timestamps) >= max_qpm:\n",
    "        sleep_time = window_seconds - (now - request_timestamps[0])\n",
    "        print(f\"⏳ Rate limit hit — sleeping {sleep_time:.1f}s...\")\n",
    "        time.sleep(sleep_time)\n",
    "    request_timestamps.append(time.time())\n",
    "\n",
    "    try:\n",
    "        req_start = time.time()\n",
    "        response = client.chat.completions.create(\n",
    "            model=\"deepseek-ai/DeepSeek-R1\",\n",
    "            messages=[{\"role\": \"user\", \"content\": junior_prompt}],\n",
    "            max_tokens=max_tokens\n",
    "        )\n",
    "        req_end = time.time()\n",
    "        response_times.append(req_end - req_start)\n",
    "\n",
    "        junior_text = response.choices[0].message.content.strip()\n",
    "\n",
    "    except Exception as e:\n",
    "        error_count += 1\n",
    "        print(f\"⚠️ Error on idea {idx} (junior partner): {e}\")\n",
    "        print(\"⏱️ Retrying after 60 seconds...\")\n",
    "        time.sleep(60)\n",
    "        try:\n",
    "            retry_start = time.time()\n",
    "            response = client.chat.completions.create(\n",
    "                model=\"deepseek-ai/DeepSeek-R1\",\n",
    "                messages=[{\"role\": \"user\", \"content\": junior_prompt}],\n",
    "                max_tokens=max_tokens\n",
    "            )\n",
    "            retry_end = time.time()\n",
    "            response_times.append(retry_end - retry_start)\n",
    "\n",
    "            junior_text = response.choices[0].message.content.strip()\n",
    "\n",
    "        except Exception as e2:\n",
    "            error_count += 1\n",
    "            print(f\"❌ Retry failed on idea {idx} (junior partner): {e2}\")\n",
    "            junior_text = \"Error generating junior partner pitch.\"\n",
    "            response_times.append(0.0)\n",
    "\n",
    "    junior_partner_reasonings.append(junior_text)\n",
    "\n",
    "    ## Step 2: Hawk / Fin / Fit Reasoning\n",
    "    partner_roles = {\n",
    "        \"hawk\": \"You are HAWK, a General Partner at Reasoned Capital. You deeply care about whether an idea is solid and marketable. Be skeptical. Think hard about the possible risks and flaws.\",\n",
    "        \"fin\": \"You are FIN, a General Partner at Reasoned Capital. You are obsessed with financial viability. Think hard about whether this idea could realistically generate good returns.\",\n",
    "        \"fit\": \"You are FIT, a General Partner at Reasoned Capital. You deeply care about founder-market fit. Think about whether the founders (assumed) would be the right people to build this company.\"\n",
    "    }\n",
    "\n",
    "    for partner, role_prompt in partner_roles.items():\n",
    "        partner_prompt = f\"\"\"\n",
    "<think>\n",
    "{role_prompt}\n",
    "\n",
    "Here is the startup idea:\n",
    "{idea}\n",
    "\n",
    "Here is what the junior partner thought:\n",
    "{junior_text}\n",
    "\n",
    "Think carefully about whether Reasoned Capital should invest. ONLY write your internal reasoning, not a final decision.\n",
    "\n",
    "Return ONLY inside this <think>...</think> block.\n",
    "</think>\n",
    "\"\"\".strip()\n",
    "\n",
    "        # Rate limit management\n",
    "        now = time.time()\n",
    "        while request_timestamps and now - request_timestamps[0] > window_seconds:\n",
    "            request_timestamps.popleft()\n",
    "        if len(request_timestamps) >= max_qpm:\n",
    "            sleep_time = window_seconds - (now - request_timestamps[0])\n",
    "            print(f\"⏳ Rate limit hit — sleeping {sleep_time:.1f}s...\")\n",
    "            time.sleep(sleep_time)\n",
    "        request_timestamps.append(time.time())\n",
    "\n",
    "        try:\n",
    "            req_start = time.time()\n",
    "            response = client.chat.completions.create(\n",
    "                model=\"deepseek-ai/DeepSeek-R1\",\n",
    "                messages=[{\"role\": \"user\", \"content\": partner_prompt}],\n",
    "                stop=[\"</think>\"],\n",
    "                max_tokens=max_tokens\n",
    "            )\n",
    "            req_end = time.time()\n",
    "            response_times.append(req_end - req_start)\n",
    "\n",
    "            partner_text = response.choices[0].message.content.strip()\n",
    "            clean_text = partner_text.replace(\"\\n\", \" \").replace(\"\\r\", \" \").strip() + \" </think>\"\n",
    "\n",
    "        except Exception as e:\n",
    "            error_count += 1\n",
    "            print(f\"⚠️ Error on idea {idx} ({partner}): {e}\")\n",
    "            print(\"⏱️ Retrying after 60 seconds...\")\n",
    "            time.sleep(60)\n",
    "            try:\n",
    "                retry_start = time.time()\n",
    "                response = client.chat.completions.create(\n",
    "                    model=\"deepseek-ai/DeepSeek-R1\",\n",
    "                    messages=[{\"role\": \"user\", \"content\": partner_prompt}],\n",
    "                    stop=[\"</think>\"],\n",
    "                    max_tokens=max_tokens\n",
    "                )\n",
    "                retry_end = time.time()\n",
    "                response_times.append(retry_end - retry_start)\n",
    "\n",
    "                partner_text = response.choices[0].message.content.strip()\n",
    "                clean_text = partner_text.replace(\"\\n\", \" \").replace(\"\\r\", \" \").strip() + \" </think>\"\n",
    "\n",
    "            except Exception as e2:\n",
    "                error_count += 1\n",
    "                print(f\"❌ Retry failed on idea {idx} ({partner}): {e2}\")\n",
    "                clean_text = \"<think>Error generating reasoning</think>\"\n",
    "                response_times.append(0.0)\n",
    "\n",
    "        if partner == \"hawk\":\n",
    "            hawk_reasonings.append(clean_text)\n",
    "        elif partner == \"fin\":\n",
    "            fin_reasonings.append(clean_text)\n",
    "        elif partner == \"fit\":\n",
    "            fit_reasonings.append(clean_text)\n"
   ]
  },
  {
   "cell_type": "code",
   "execution_count": null,
   "id": "37c6bf7d",
   "metadata": {},
   "outputs": [
    {
     "name": "stdout",
     "output_type": "stream",
     "text": [
      "Startup Idea #186:\n",
      "\n",
      "A subscription service that delivers healthy meal kits specifically designed for different dietary restrictions and preferences, such as gluten-free, vegan, or keto. The service would include easy-to-follow recipes along with pre-portioned ingredients sourced from local farms. \n",
      "\n",
      "The target audience would be health-conscious individuals, families with members who have specific dietary needs, or busy professionals who want to eat healthy without the hassle of meal planning and grocery shopping.\n",
      "\n",
      "--- JUNIOR PARTNER THOUGHTS ---\n",
      "\n",
      "<think>\n",
      "Okay, let's start by breaking down this startup idea. A subscription meal kit service tailored for dietary restrictions and preferences. The target audience is health-conscious individuals, families with dietary needs, and busy professionals. Hmm, the first thing that comes to mind is the growing trend of personalized nutrition. People are more aware of their dietary needs now, whether it's gluten-free, vegan, keto, etc. So there's definitely a market here.\n",
      "\n",
      "Strengths: The focus on specific diets could differentiate them from generic meal kits like Blue Apron or HelloFresh. Sourcing from local farms is a plus—supports sustainability and appeals to eco-conscious consumers. Pre-portioned ingredients reduce food waste, which is another selling point. Also, the convenience factor for busy people is a big strength. They don't have to plan meals or shop, which saves time.\n",
      "\n",
      "But wait, what about the competition? There are already established players in the meal kit industry. How will this startup stand out? Maybe the niche focus on dietary restrictions is enough, but I need to check if there are others doing the same. Companies like Sun Basket or Green Chef already offer some diet-specific options. So differentiation might be a challenge. They need a unique angle, maybe the local sourcing aspect or more customizable options.\n",
      "\n",
      "Another strength is the recurring revenue model from subscriptions. That's predictable and can scale well if customer acquisition is effective. But customer retention in meal kits is tough. People might cancel after a few months if they get bored or find it too expensive. So retention strategies would be crucial.\n",
      "\n",
      "Weaknesses: Operational complexity. Managing multiple dietary menus each week could complicate the supply chain. Each diet requires different ingredients, and sourcing from local farms might lead to variability in supply. What if a local farm can't meet the demand for a specific ingredient? That could disrupt the service. Also, pre-portioned ingredients mean precise inventory management. Any miscalculation could lead to waste or shortages.\n",
      "\n",
      "Cost is another concern. Sourcing locally might be more expensive, leading to higher prices for consumers. Meal kits are already a premium product. If the target audience is willing to pay a higher price for specialized diets, that's okay, but price sensitivity could be a barrier. Need to assess the pricing strategy here.\n",
      "\n",
      "Marketing costs could be high. Reaching the specific niches (gluten-free, vegan, keto) requires targeted advertising. They might need partnerships with dietitians, influencers in the health space, or communities related to dietary restrictions. Customer acquisition cost (CAC) in this sector is typically high, so they need a solid plan to keep CAC lower than customer lifetime value (LTV).\n",
      "\n",
      "Regulatory aspects? If they're making health claims, especially related to dietary restrictions, they need to ensure compliance with food labeling laws. Allergen cross-contamination is a risk, especially for gluten-free or other sensitive diets. The facility must have strict protocols, which adds to operational costs.\n",
      "\n",
      "Another point: scalability. Starting locally might work, but expanding to other regions would require building relationships with local farms elsewhere. That could slow down growth. Alternatively, if they centralize sourcing, they lose the local farm appeal. So there's a trade-off between scalability and their unique value proposition.\n",
      "\n",
      "Customer education might be needed. Some people with dietary restrictions are very particular about their food. The service needs to build trust in the quality and safety of their ingredients. Transparency about sourcing and preparation processes would be essential.\n",
      "\n",
      "On the positive side, partnerships with healthcare providers or nutritionists could open up referral channels. For example, dietitians recommending this service to clients with specific dietary needs. That could be a strong B2B2C strategy.\n",
      "\n",
      "Also, considering the pandemic's impact, more people are used to cooking at home but want convenience. This could be a lasting trend. However, as life normalizes, some might return to eating out, so the service needs to maintain appeal through convenience and quality.\n",
      "\n",
      "In summary, the idea has potential due to clear market demand and differentiation through specialized diets and local sourcing. However, operational challenges, high costs, and competition are significant hurdles. The success would depend on efficient supply chain management, effective customer acquisition and retention strategies, and maintaining a balance between cost and quality.\n",
      "</think>\n",
      "\n",
      "The idea has merit given the rising demand for personalized, convenient nutrition solutions. Strengths include tapping into the growing health-conscious market, differentiation through niche dietary focus, and leveraging local sourcing for sustainability appeal. The subscription model offers recurring revenue potential. However, challenges are significant: operational complexity in managing diverse dietary menus and local supply chains, high customer acquisition costs in a competitive space, potential price sensitivity due to premium pricing, and scalability issues when expanding beyond local farms. Success hinges on efficient logistics, strategic partnerships, and maintaining strict quality control to build trust. Retention strategies and balancing cost without compromising the local sourcing USP are critical.\n",
      "\n",
      "--- HAWK REASONING ---\n",
      "\n",
      "<think> Alright, let's dive deeper into whether Reasoned Capital should invest.   **Market Validation**: The demand for specialized diets is real, but how saturated is the niche? Competitors like Green Chef and Sun Basket already offer gluten-free, vegan, and keto options. Is there enough white space, or would this startup be a \"me-too\" player? The local farm angle could differentiate, but does that resonate strongly enough with the target audience to justify higher costs? Surveys or pilot data showing customer willingness to pay a premium for hyper-local, diet-specific kits would be critical.  **Operational Feasibility**: Managing multiple dietary lines with locally sourced ingredients introduces supply chain fragility. Local farms may lack the scale or reliability of industrial suppliers, risking ingredient shortages. How will the startup handle seasonal variability? A hybrid model (local + regional suppliers) might mitigate this but could dilute the USP. Also, cross-contamination risks for allergens require dedicated facilities/processes, increasing overhead. Are the founders experienced in food logistics or supply chain management? Without that expertise, execution risk skyrockets.  **Unit Economics**: Meal kits often struggle with profitability due to high packaging and shipping costs. Adding local sourcing (potentially more expensive) and niche customization could erode margins further. What’s the projected CAC vs. LTV? If CAC is $100+ (industry average) and churn is high (30-50% annually), the model might only work with very high order values or upsells (e.g., supplements, wellness content). Need to see detailed financials with sensitivity analysis on ingredient costs and retention rates.  **Scalability**: Local sourcing ties growth to regional farm partnerships. Expanding to new markets would require replicating these relationships, which is time-intensive. Alternatively, pivoting to a centralized supply chain later would alienate early adopters drawn to the local promise. Is the team prepared to navigate this tension, or is the plan to remain hyper-local as a premium niche player?  **Regulatory and Liability Risks**: Mislabeling allergens or cross-contamination could lead to lawsuits. Does the startup have legal counsel and QA processes in place? Insurance costs for food liability could also impact margins.  **Founder Readiness**: Do the founders have domain expertise in food service, nutrition, or logistics? A strong team with prior experience in meal kits or dietary-focused ventures would lower risk. Alternatively, if they’re first-time entrepreneurs, their ability to navigate FDA regulations, supplier negotiations, and high-touch customer service demands is questionable.  **Exit Potential**: The meal kit space is consolidating (e.g., HelloFresh acquiring rivals). Could this startup become an acquisition target for a larger player seeking niche market share? Or is the goal to dominate a specific dietary vertical independently? The exit strategy needs clarity to justify investment in a competitive, low-margin industry.  **Conclusion**: The idea taps into valid trends, but execution risks are steep. Without a defensible differentiator (beyond \"local + diets\"), proven unit economics, and a team capable of managing complex logistics, the risk/reward ratio may tilt unfavorably. Further due diligence on pilot metrics, supplier contracts, and the team’s operational expertise is essential before committing. </think>\n",
      "\n",
      "--- FIN REASONING ---\n",
      "\n",
      "<think> Alright, let's dive deeper into whether Reasoned Capital should invest.   **Market Validation**: The demand for specialized diets is real and growing. Reports show the global meal kit market is projected to grow at a CAGR of ~12-15%, with niche segments like gluten-free and vegan expanding even faster. However, saturation is a risk. Competitors like Green Chef (already offering keto/vegan) and Sun Basket (organic/gluten-free) have carved out similar niches. The startup’s local farm angle could differentiate it, but only if consumers prioritize \"local\" over convenience or price. Surveys or pilot data showing willingness to pay a premium for hyper-local, diet-specific kits would strengthen the case.  **Unit Economics**: Meal kits typically have thin margins (~30-35% gross margin) due to high ingredient, packaging, and shipping costs. Local sourcing might increase ingredient costs by 10-20% compared to bulk suppliers. If the startup prices at a 15-20% premium to competitors (e.g., $12-15/serving vs. $8-10), will the target audience bite? Churn is another concern—industry averages hover around 50% annually. Retention strategies (e.g., dynamic menus, loyalty discounts) must be baked into the model. CAC could be $100+ per customer given niche targeting; LTV needs to exceed this, which requires >12-month average subscriber lifespan.   **Operational Feasibility**: Managing multiple dietary SKUs with locally variable supply chains is complex. For example, a gluten-free meal might require dedicated prep areas to avoid cross-contamination—adding facility costs. Local farms may lack consistency in yield, risking shortages. The startup would need backup suppliers, which could dilute the \"local\" promise. Scalability is a hurdle: expanding to new regions means replicating local partnerships, which is time-intensive. Automation in meal prep/packaging could mitigate some costs, but upfront CAPEX would be high.  **Regulatory and Liability Risks**: Mislabeling allergens (e.g., gluten) could lead to lawsuits. Compliance with FDA/USDA regulations, especially for cross-contamination controls, is non-negotiable. Insurance costs will be higher than standard meal kits.   **Exit Potential**: Acquisition by a larger player (e.g., HelloFresh, Nestlé) is plausible if the startup captures a loyal niche. However, valuation multiples in foodtech are lower than SaaS; a 3-5x revenue multiple would require rapid scaling. Alternatively, vertical integration (e.g., acquiring local farms) could improve margins but demand significant capital.  **Founder Readiness**: The team’s experience in food logistics, supply chain management, and nutrition is critical. A founder with prior experience in meal kits or CPG would de-risk execution. Without this, the operational challenges could overwhelm them.  **Conclusion**: The idea is viable but high-risk. Success depends on flawless execution in supply chain, a compelling CAC:LTV ratio, and carving out a defensible niche. If the team has expertise and early traction (e.g., 70% retention after 3 months, partnerships with regional farms), it’s worth a seed investment with milestones tied to unit economics. Otherwise, pass. </think>\n",
      "\n",
      "--- FIT REASONING ---\n",
      "\n",
      "<think>  **Founder-Market Fit Analysis:**  1. **Domain Expertise:**      - Do the founders have experience in nutrition, dietary restrictions, or food science? Expertise here is critical to curate meals that genuinely meet diverse needs (e.g., avoiding cross-contamination for gluten-free, accurate keto macros).      - Have they worked in meal kits, food logistics, or subscription models? Operational knowledge is vital to navigate perishable supply chains, portioning, and delivery challenges.    2. **Local Sourcing Network:**      - Do the founders have existing relationships with local farms or suppliers? Securing reliable, scalable partnerships will determine ingredient quality and cost efficiency. Without this, the \"local\" USP becomes a liability.    3. **Customer Empathy:**      - Are the founders personally connected to the problem (e.g., managing dietary restrictions themselves or within their network)? Deep understanding of user pain points (e.g., time constraints, allergy anxiety) would drive better product-market alignment.    4. **Operational Rigor:**      - Can they demonstrate experience in managing complex logistics (e.g., multi-SKU perishables, cold-chain delivery)? Weakness here could lead to waste, delays, or inconsistent quality—key failure points for meal kits.    5. **Scalability vs. Authenticity Balance:**      - How do they plan to expand beyond local farms without diluting the sustainability narrative? Founders need a roadmap for regional growth that maintains quality and local ties, possibly through a hub-and-spoke model.    6. **Regulatory and Safety Acumen:**      - Do they have experience with food safety certifications (e.g., gluten-free, vegan labeling) and allergen protocols? Missteps here could erode trust and lead to legal risks.    7. **Customer Acquisition Strategy:**      - Have they identified niche communities (e.g., keto forums, celiac support groups) for targeted marketing? Founders need creativity to lower CAC through partnerships (e.g., dietitians, influencers) rather than costly broad campaigns.    **Key Risks if Founders Lack Fit:**   - Inability to manage supply chain complexity → inconsistent delivery → churn.   - Poor dietary customization → negative reviews from niche audiences → reputational damage.   - Overreliance on premium pricing without unique execution → losing to larger competitors (e.g., Green Chef).    **Conclusion:**   If the founders lack direct experience in food logistics, dietary compliance, or community-driven marketing, the operational and trust barriers may be insurmountable. However, a team with strong local farm partnerships, a member with nutrition expertise, and a track record in scaling perishable goods could turn this into a defensible niche player. </think>\n"
     ]
    }
   ],
   "source": [
    "sample_idx = random.randint(0, len(startup_ideas) - 1)\n",
    "\n",
    "print(f\"Startup Idea #{startup_ideas[sample_idx]['index']}:\\n\\n{startup_ideas[sample_idx]['idea']}\")\n",
    "print(\"\\n--- JUNIOR PARTNER THOUGHTS ---\\n\")\n",
    "print(junior_partner_reasonings[sample_idx])\n",
    "print(\"\\n--- HAWK REASONING ---\\n\")\n",
    "print(hawk_reasonings[sample_idx])\n",
    "print(\"\\n--- FIN REASONING ---\\n\")\n",
    "print(fin_reasonings[sample_idx])\n",
    "print(\"\\n--- FIT REASONING ---\\n\")\n",
    "print(fit_reasonings[sample_idx])\n"
   ]
  },
  {
   "cell_type": "code",
   "execution_count": null,
   "id": "55a7582e",
   "metadata": {},
   "outputs": [
    {
     "data": {
      "text/html": [
       "<div>\n",
       "<style scoped>\n",
       "    .dataframe tbody tr th:only-of-type {\n",
       "        vertical-align: middle;\n",
       "    }\n",
       "\n",
       "    .dataframe tbody tr th {\n",
       "        vertical-align: top;\n",
       "    }\n",
       "\n",
       "    .dataframe thead th {\n",
       "        text-align: right;\n",
       "    }\n",
       "</style>\n",
       "<table border=\"1\" class=\"dataframe\">\n",
       "  <thead>\n",
       "    <tr style=\"text-align: right;\">\n",
       "      <th></th>\n",
       "      <th>index</th>\n",
       "      <th>idea</th>\n",
       "      <th>junior_partner_pitch</th>\n",
       "      <th>hawk_reasoning</th>\n",
       "      <th>fin_reasoning</th>\n",
       "      <th>fit_reasoning</th>\n",
       "    </tr>\n",
       "  </thead>\n",
       "  <tbody>\n",
       "    <tr>\n",
       "      <th>0</th>\n",
       "      <td>1</td>\n",
       "      <td>A subscription-based meal plan service that sp...</td>\n",
       "      <td>&lt;think&gt;\\nOkay, let's start by breaking down th...</td>\n",
       "      <td>&lt;think&gt;  **Market Validation:** While the dema...</td>\n",
       "      <td>&lt;think&gt;  **Market Demand &amp; Differentiation**: ...</td>\n",
       "      <td>&lt;think&gt; Alright, let's dive deeper into the fo...</td>\n",
       "    </tr>\n",
       "    <tr>\n",
       "      <th>1</th>\n",
       "      <td>2</td>\n",
       "      <td>A subscription-based service providing tailore...</td>\n",
       "      <td>&lt;think&gt;\\nOkay, let's start by breaking down th...</td>\n",
       "      <td>&lt;think&gt;  **Market Validation:**   - **Niche De...</td>\n",
       "      <td>&lt;think&gt;  **Market Validation**: The growing pr...</td>\n",
       "      <td>&lt;think&gt;  **Founder-Market Fit Analysis:**  1. ...</td>\n",
       "    </tr>\n",
       "    <tr>\n",
       "      <th>2</th>\n",
       "      <td>3</td>\n",
       "      <td>A subscription-based service that delivers per...</td>\n",
       "      <td>&lt;think&gt;\\nOkay, let's start by understanding th...</td>\n",
       "      <td>&lt;think&gt;  **Market Validation:** The target mar...</td>\n",
       "      <td>&lt;think&gt;  Alright, let's break this down. The m...</td>\n",
       "      <td>&lt;think&gt;  Alright, let's break this down. The s...</td>\n",
       "    </tr>\n",
       "    <tr>\n",
       "      <th>3</th>\n",
       "      <td>4</td>\n",
       "      <td>A subscription-based service that provides per...</td>\n",
       "      <td>&lt;think&gt;\\nOkay, let's start by looking at the s...</td>\n",
       "      <td>&lt;think&gt;  **Market Validation**: While the dema...</td>\n",
       "      <td>&lt;think&gt;  **Market Validation**: The increasing...</td>\n",
       "      <td>&lt;think&gt; Alright, let's dive deeper into the fo...</td>\n",
       "    </tr>\n",
       "    <tr>\n",
       "      <th>4</th>\n",
       "      <td>5</td>\n",
       "      <td>A subscription service called \"MealMatch\" that...</td>\n",
       "      <td>&lt;think&gt;\\nOkay, let me start by breaking down t...</td>\n",
       "      <td>&lt;think&gt;  **Market Validation:** The target aud...</td>\n",
       "      <td>&lt;think&gt;  **Market Validation:** The target dem...</td>\n",
       "      <td>&lt;think&gt;  **Founder-Market Fit Analysis:**  1. ...</td>\n",
       "    </tr>\n",
       "  </tbody>\n",
       "</table>\n",
       "</div>"
      ],
      "text/plain": [
       "   index                                               idea  \\\n",
       "0      1  A subscription-based meal plan service that sp...   \n",
       "1      2  A subscription-based service providing tailore...   \n",
       "2      3  A subscription-based service that delivers per...   \n",
       "3      4  A subscription-based service that provides per...   \n",
       "4      5  A subscription service called \"MealMatch\" that...   \n",
       "\n",
       "                                junior_partner_pitch  \\\n",
       "0  <think>\\nOkay, let's start by breaking down th...   \n",
       "1  <think>\\nOkay, let's start by breaking down th...   \n",
       "2  <think>\\nOkay, let's start by understanding th...   \n",
       "3  <think>\\nOkay, let's start by looking at the s...   \n",
       "4  <think>\\nOkay, let me start by breaking down t...   \n",
       "\n",
       "                                      hawk_reasoning  \\\n",
       "0  <think>  **Market Validation:** While the dema...   \n",
       "1  <think>  **Market Validation:**   - **Niche De...   \n",
       "2  <think>  **Market Validation:** The target mar...   \n",
       "3  <think>  **Market Validation**: While the dema...   \n",
       "4  <think>  **Market Validation:** The target aud...   \n",
       "\n",
       "                                       fin_reasoning  \\\n",
       "0  <think>  **Market Demand & Differentiation**: ...   \n",
       "1  <think>  **Market Validation**: The growing pr...   \n",
       "2  <think>  Alright, let's break this down. The m...   \n",
       "3  <think>  **Market Validation**: The increasing...   \n",
       "4  <think>  **Market Validation:** The target dem...   \n",
       "\n",
       "                                       fit_reasoning  \n",
       "0  <think> Alright, let's dive deeper into the fo...  \n",
       "1  <think>  **Founder-Market Fit Analysis:**  1. ...  \n",
       "2  <think>  Alright, let's break this down. The s...  \n",
       "3  <think> Alright, let's dive deeper into the fo...  \n",
       "4  <think>  **Founder-Market Fit Analysis:**  1. ...  "
      ]
     },
     "execution_count": 52,
     "metadata": {},
     "output_type": "execute_result"
    }
   ],
   "source": [
    "import pandas as pd\n",
    "\n",
    "final_dataset = pd.DataFrame({\n",
    "    \"index\": [startup[\"index\"] for startup in startup_ideas],\n",
    "    \"idea\": [startup[\"idea\"] for startup in startup_ideas],\n",
    "    \"junior_partner_pitch\": junior_partner_reasonings,\n",
    "    \"hawk_reasoning\": hawk_reasonings,\n",
    "    \"fin_reasoning\": fin_reasonings,\n",
    "    \"fit_reasoning\": fit_reasonings,\n",
    "})\n",
    "\n",
    "final_dataset.head()\n"
   ]
  },
  {
   "cell_type": "code",
   "execution_count": null,
   "id": "750495ff",
   "metadata": {},
   "outputs": [
    {
     "name": "stderr",
     "output_type": "stream",
     "text": [
      "Generating Manager Partner Reasoning:   4%|▍         | 9/200 [04:50<1:43:40, 32.57s/it]"
     ]
    },
    {
     "name": "stdout",
     "output_type": "stream",
     "text": [
      "⚠️ Error on idea 10 (manager partner): Error code: 429 - {\"message\": \"You are on tier Build Tier 1, which offers 3 queries and 180000 tokens per minute for this model. Please upgrade to higher tier for higher rate limit at https://api.together.xyz/settings/billing.\", \"type_\": \"model_rate_limit\"}\n",
      "⏱️ Retrying after 60 seconds...\n"
     ]
    },
    {
     "name": "stderr",
     "output_type": "stream",
     "text": [
      "Generating Manager Partner Reasoning:  16%|█▌        | 31/200 [18:09<1:20:19, 28.51s/it]"
     ]
    },
    {
     "name": "stdout",
     "output_type": "stream",
     "text": [
      "⚠️ Error on idea 32 (manager partner): Error code: 503 - The server is overloaded or not ready yet.\n",
      "⏱️ Retrying after 60 seconds...\n"
     ]
    },
    {
     "name": "stderr",
     "output_type": "stream",
     "text": [
      "Generating Manager Partner Reasoning:  36%|███▌      | 71/200 [41:19<1:11:03, 33.05s/it]"
     ]
    },
    {
     "name": "stdout",
     "output_type": "stream",
     "text": [
      "⚠️ Error on idea 72 (manager partner): Error code: 429 - {\"message\": \"You are on tier Build Tier 1, which offers 3 queries and 180000 tokens per minute for this model. Please upgrade to higher tier for higher rate limit at https://api.together.xyz/settings/billing.\", \"type_\": \"model_rate_limit\"}\n",
      "⏱️ Retrying after 60 seconds...\n"
     ]
    },
    {
     "name": "stderr",
     "output_type": "stream",
     "text": [
      "Generating Manager Partner Reasoning:  36%|███▌      | 72/200 [42:47<1:46:02, 49.71s/it]"
     ]
    },
    {
     "name": "stdout",
     "output_type": "stream",
     "text": [
      "⚠️ Error on idea 73 (manager partner): Error code: 429 - {\"message\": \"You are on tier Build Tier 1, which offers 3 queries and 180000 tokens per minute for this model. Please upgrade to higher tier for higher rate limit at https://api.together.xyz/settings/billing.\", \"type_\": \"model_rate_limit\"}\n",
      "⏱️ Retrying after 60 seconds...\n"
     ]
    },
    {
     "name": "stderr",
     "output_type": "stream",
     "text": [
      "Generating Manager Partner Reasoning:  38%|███▊      | 76/200 [45:59<1:27:11, 42.19s/it]"
     ]
    },
    {
     "name": "stdout",
     "output_type": "stream",
     "text": [
      "⚠️ Error on idea 77 (manager partner): Error code: 429 - {\"message\": \"You are on tier Build Tier 1, which offers 3 queries and 180000 tokens per minute for this model. Please upgrade to higher tier for higher rate limit at https://api.together.xyz/settings/billing.\", \"type_\": \"model_rate_limit\"}\n",
      "⏱️ Retrying after 60 seconds...\n"
     ]
    },
    {
     "name": "stderr",
     "output_type": "stream",
     "text": [
      "Generating Manager Partner Reasoning:  42%|████▏     | 84/200 [51:21<1:06:03, 34.17s/it]"
     ]
    },
    {
     "name": "stdout",
     "output_type": "stream",
     "text": [
      "⚠️ Error on idea 85 (manager partner): Error code: 429 - {\"message\": \"You are on tier Build Tier 1, which offers 3 queries and 180000 tokens per minute for this model. Please upgrade to higher tier for higher rate limit at https://api.together.xyz/settings/billing.\", \"type_\": \"model_rate_limit\"}\n",
      "⏱️ Retrying after 60 seconds...\n"
     ]
    },
    {
     "name": "stderr",
     "output_type": "stream",
     "text": [
      "Generating Manager Partner Reasoning:  50%|█████     | 100/200 [1:01:04<50:02, 30.03s/it]"
     ]
    },
    {
     "name": "stdout",
     "output_type": "stream",
     "text": [
      "⚠️ Error on idea 101 (manager partner): Error code: 429 - {\"message\": \"You are on tier Build Tier 1, which offers 3 queries and 180000 tokens per minute for this model. Please upgrade to higher tier for higher rate limit at https://api.together.xyz/settings/billing.\", \"type_\": \"model_rate_limit\"}\n",
      "⏱️ Retrying after 60 seconds...\n"
     ]
    },
    {
     "name": "stderr",
     "output_type": "stream",
     "text": [
      "Generating Manager Partner Reasoning:  58%|█████▊    | 116/200 [1:11:05<40:44, 29.11s/it]  "
     ]
    },
    {
     "name": "stdout",
     "output_type": "stream",
     "text": [
      "⚠️ Error on idea 117 (manager partner): Error code: 429 - {\"message\": \"You are on tier Build Tier 1, which offers 3 queries and 180000 tokens per minute for this model. Please upgrade to higher tier for higher rate limit at https://api.together.xyz/settings/billing.\", \"type_\": \"model_rate_limit\"}\n",
      "⏱️ Retrying after 60 seconds...\n"
     ]
    },
    {
     "name": "stderr",
     "output_type": "stream",
     "text": [
      "Generating Manager Partner Reasoning:  69%|██████▉   | 138/200 [1:24:24<32:56, 31.88s/it]  "
     ]
    },
    {
     "name": "stdout",
     "output_type": "stream",
     "text": [
      "⚠️ Error on idea 139 (manager partner): Error code: 429 - {\"message\": \"You are on tier Build Tier 1, which offers 3 queries and 180000 tokens per minute for this model. Please upgrade to higher tier for higher rate limit at https://api.together.xyz/settings/billing.\", \"type_\": \"model_rate_limit\"}\n",
      "⏱️ Retrying after 60 seconds...\n"
     ]
    },
    {
     "name": "stderr",
     "output_type": "stream",
     "text": [
      "Generating Manager Partner Reasoning:  79%|███████▉  | 158/200 [1:36:37<23:05, 32.99s/it]"
     ]
    },
    {
     "name": "stdout",
     "output_type": "stream",
     "text": [
      "⚠️ Error on idea 159 (manager partner): Error code: 429 - {\"message\": \"You are on tier Build Tier 1, which offers 3 queries and 180000 tokens per minute for this model. Please upgrade to higher tier for higher rate limit at https://api.together.xyz/settings/billing.\", \"type_\": \"model_rate_limit\"}\n",
      "⏱️ Retrying after 60 seconds...\n"
     ]
    },
    {
     "name": "stderr",
     "output_type": "stream",
     "text": [
      "Generating Manager Partner Reasoning:  98%|█████████▊| 197/200 [1:59:54<01:34, 31.60s/it]"
     ]
    },
    {
     "name": "stdout",
     "output_type": "stream",
     "text": [
      "⚠️ Error on idea 198 (manager partner): Error code: 429 - {\"message\": \"You are on tier Build Tier 1, which offers 3 queries and 180000 tokens per minute for this model. Please upgrade to higher tier for higher rate limit at https://api.together.xyz/settings/billing.\", \"type_\": \"model_rate_limit\"}\n",
      "⏱️ Retrying after 60 seconds...\n"
     ]
    },
    {
     "name": "stderr",
     "output_type": "stream",
     "text": [
      "Generating Manager Partner Reasoning: 100%|██████████| 200/200 [2:02:37<00:00, 36.79s/it]\n"
     ]
    }
   ],
   "source": [
    "import time\n",
    "from tqdm import tqdm\n",
    "from collections import deque\n",
    "import re\n",
    "\n",
    "manager_partner_thinks = []\n",
    "manager_partner_decisions = []\n",
    "manager_partner_explanations = []\n",
    "\n",
    "request_timestamps = deque()\n",
    "\n",
    "def parse_manager_output(full_text):\n",
    "    \"\"\"Parse manager partner output into think, decision, explanation.\"\"\"\n",
    "    think_text = \"\"\n",
    "    decision_text = \"\"\n",
    "    explanation_text = \"\"\n",
    "\n",
    "    try:\n",
    "        think_match = re.search(r\"<think>(.*?)</think>\", full_text, re.DOTALL | re.IGNORECASE)\n",
    "        if think_match:\n",
    "            think_text = think_match.group(1).strip()\n",
    "        else:\n",
    "            think_text = \"Missing <think> block\"\n",
    "\n",
    "        decision_match = re.search(r\"DECISION:\\s*(.+)\", full_text, re.IGNORECASE)\n",
    "        if decision_match:\n",
    "            decision_text = decision_match.group(1).strip()\n",
    "\n",
    "        explanation_match = re.search(r\"EXPLANATION:\\s*(.+)\", full_text, re.IGNORECASE)\n",
    "        if explanation_match:\n",
    "            explanation_text = explanation_match.group(1).strip()\n",
    "\n",
    "    except Exception as e:\n",
    "        print(f\"⚠️ Parsing error: {e}\")\n",
    "        think_text = \"Parse error\"\n",
    "        decision_text = \"Parse error\"\n",
    "        explanation_text = \"Parse error\"\n",
    "\n",
    "    return think_text, decision_text, explanation_text\n",
    "\n",
    "# Reasoning loop\n",
    "for i, row in tqdm(final_dataset.iterrows(), total=len(final_dataset), desc=\"Generating Manager Partner Reasoning\"):\n",
    "    idea = row[\"idea\"]\n",
    "    junior_pitch = row[\"junior_partner_pitch\"]\n",
    "    hawk = row[\"hawk_reasoning\"]\n",
    "    fin = row[\"fin_reasoning\"]\n",
    "    fit = row[\"fit_reasoning\"]\n",
    "\n",
    "    manager_prompt = f\"\"\"\n",
    "You are the MANAGING PARTNER at Reasoned Capital.\n",
    "\n",
    "You are evaluating whether to invest in the following startup. You have the following information:\n",
    "\n",
    "Startup Idea:\n",
    "{idea}\n",
    "\n",
    "Junior Partner Thoughts:\n",
    "{junior_pitch}\n",
    "\n",
    "General Partner Reasonings:\n",
    "- Hawk: {hawk}\n",
    "- Fin: {fin}\n",
    "- Fit: {fit}\n",
    "\n",
    "TASK:\n",
    "1. FIRST, REASON internally inside a <think>...</think> block. DO NOT include any decision or explanation here.\n",
    "2. AFTER the </think> block, WRITE:\n",
    "\n",
    "DECISION: [Invest] or [Do not invest]\n",
    "\n",
    "EXPLANATION: A very short 1–2 sentence explanation why you decided to invest or not.\n",
    "\n",
    "IMPORTANT: \n",
    "- Keep DECISION and EXPLANATION outside the <think> block.\n",
    "- Follow the exact format shown.\n",
    "\"\"\".strip()\n",
    "\n",
    "    # Rate limit management\n",
    "    now = time.time()\n",
    "    while request_timestamps and now - request_timestamps[0] > 60:\n",
    "        request_timestamps.popleft()\n",
    "    if len(request_timestamps) >= 60:\n",
    "        sleep_time = 60 - (now - request_timestamps[0])\n",
    "        print(f\"⏳ Rate limit hit — sleeping {sleep_time:.1f}s...\")\n",
    "        time.sleep(sleep_time)\n",
    "    request_timestamps.append(time.time())\n",
    "\n",
    "    try:\n",
    "        response = client.chat.completions.create(\n",
    "            model=\"deepseek-ai/DeepSeek-R1\",\n",
    "            messages=[{\"role\": \"user\", \"content\": manager_prompt}],\n",
    "            max_tokens=2048\n",
    "        )\n",
    "        full_text = response.choices[0].message.content.strip()\n",
    "\n",
    "    except Exception as e:\n",
    "        print(f\"⚠️ Error on idea {row['index']} (manager partner): {e}\")\n",
    "        print(\"⏱️ Retrying after 60 seconds...\")\n",
    "        time.sleep(60)\n",
    "        try:\n",
    "            response = client.chat.completions.create(\n",
    "                model=\"deepseek-ai/DeepSeek-R1\",\n",
    "                messages=[{\"role\": \"user\", \"content\": manager_prompt}],\n",
    "                max_tokens=2048\n",
    "            )\n",
    "            full_text = response.choices[0].message.content.strip()\n",
    "\n",
    "        except Exception as e2:\n",
    "            print(f\"❌ Retry failed on idea {row['index']} (manager partner): {e2}\")\n",
    "            full_text = \"<think>Error generating manager partner reasoning</think>\\nDECISION: Do not invest\\nEXPLANATION: Error.\"\n",
    "\n",
    "    think_text, decision_text, explanation_text = parse_manager_output(full_text)\n",
    "\n",
    "    manager_partner_thinks.append(think_text)\n",
    "    manager_partner_decisions.append(decision_text)\n",
    "    manager_partner_explanations.append(explanation_text)\n"
   ]
  },
  {
   "cell_type": "code",
   "execution_count": null,
   "id": "2782daed",
   "metadata": {},
   "outputs": [
    {
     "data": {
      "text/html": [
       "<div>\n",
       "<style scoped>\n",
       "    .dataframe tbody tr th:only-of-type {\n",
       "        vertical-align: middle;\n",
       "    }\n",
       "\n",
       "    .dataframe tbody tr th {\n",
       "        vertical-align: top;\n",
       "    }\n",
       "\n",
       "    .dataframe thead th {\n",
       "        text-align: right;\n",
       "    }\n",
       "</style>\n",
       "<table border=\"1\" class=\"dataframe\">\n",
       "  <thead>\n",
       "    <tr style=\"text-align: right;\">\n",
       "      <th></th>\n",
       "      <th>index</th>\n",
       "      <th>idea</th>\n",
       "      <th>junior_partner_pitch</th>\n",
       "      <th>hawk_reasoning</th>\n",
       "      <th>fin_reasoning</th>\n",
       "      <th>fit_reasoning</th>\n",
       "      <th>manager_partner_think</th>\n",
       "      <th>manager_partner_decision</th>\n",
       "      <th>manager_partner_explanation</th>\n",
       "    </tr>\n",
       "  </thead>\n",
       "  <tbody>\n",
       "    <tr>\n",
       "      <th>0</th>\n",
       "      <td>1</td>\n",
       "      <td>A subscription-based meal plan service that sp...</td>\n",
       "      <td>&lt;think&gt;\\nOkay, let's start by breaking down th...</td>\n",
       "      <td>&lt;think&gt;  **Market Validation:** While the dema...</td>\n",
       "      <td>&lt;think&gt;  **Market Demand &amp; Differentiation**: ...</td>\n",
       "      <td>&lt;think&gt; Alright, let's dive deeper into the fo...</td>\n",
       "      <td>Okay, let's start by considering the market po...</td>\n",
       "      <td>Invest</td>\n",
       "      <td>The startup addresses a growing niche with str...</td>\n",
       "    </tr>\n",
       "    <tr>\n",
       "      <th>1</th>\n",
       "      <td>2</td>\n",
       "      <td>A subscription-based service providing tailore...</td>\n",
       "      <td>&lt;think&gt;\\nOkay, let's start by breaking down th...</td>\n",
       "      <td>&lt;think&gt;  **Market Validation:**   - **Niche De...</td>\n",
       "      <td>&lt;think&gt;  **Market Validation**: The growing pr...</td>\n",
       "      <td>&lt;think&gt;  **Founder-Market Fit Analysis:**  1. ...</td>\n",
       "      <td>Okay, let's start by considering the market ne...</td>\n",
       "      <td>Do not invest</td>\n",
       "      <td>High operational complexity and regulatory ris...</td>\n",
       "    </tr>\n",
       "    <tr>\n",
       "      <th>2</th>\n",
       "      <td>3</td>\n",
       "      <td>A subscription-based service that delivers per...</td>\n",
       "      <td>&lt;think&gt;\\nOkay, let's start by understanding th...</td>\n",
       "      <td>&lt;think&gt;  **Market Validation:** The target mar...</td>\n",
       "      <td>&lt;think&gt;  Alright, let's break this down. The m...</td>\n",
       "      <td>&lt;think&gt;  Alright, let's break this down. The s...</td>\n",
       "      <td>Okay, let's start by considering the key facto...</td>\n",
       "      <td>Do not invest</td>\n",
       "      <td>High operational complexity and regulatory ris...</td>\n",
       "    </tr>\n",
       "    <tr>\n",
       "      <th>3</th>\n",
       "      <td>4</td>\n",
       "      <td>A subscription-based service that provides per...</td>\n",
       "      <td>&lt;think&gt;\\nOkay, let's start by looking at the s...</td>\n",
       "      <td>&lt;think&gt;  **Market Validation**: While the dema...</td>\n",
       "      <td>&lt;think&gt;  **Market Validation**: The increasing...</td>\n",
       "      <td>&lt;think&gt; Alright, let's dive deeper into the fo...</td>\n",
       "      <td>Okay, let's break this down. The startup is ta...</td>\n",
       "      <td>Do not invest</td>\n",
       "      <td>High operational complexity and thin margins i...</td>\n",
       "    </tr>\n",
       "    <tr>\n",
       "      <th>4</th>\n",
       "      <td>5</td>\n",
       "      <td>A subscription service called \"MealMatch\" that...</td>\n",
       "      <td>&lt;think&gt;\\nOkay, let me start by breaking down t...</td>\n",
       "      <td>&lt;think&gt;  **Market Validation:** The target aud...</td>\n",
       "      <td>&lt;think&gt;  **Market Validation:** The target dem...</td>\n",
       "      <td>&lt;think&gt;  **Founder-Market Fit Analysis:**  1. ...</td>\n",
       "      <td>Okay, let's start by synthesizing all the inpu...</td>\n",
       "      <td>Do not invest</td>\n",
       "      <td>While the concept addresses a valid market nee...</td>\n",
       "    </tr>\n",
       "  </tbody>\n",
       "</table>\n",
       "</div>"
      ],
      "text/plain": [
       "   index                                               idea  \\\n",
       "0      1  A subscription-based meal plan service that sp...   \n",
       "1      2  A subscription-based service providing tailore...   \n",
       "2      3  A subscription-based service that delivers per...   \n",
       "3      4  A subscription-based service that provides per...   \n",
       "4      5  A subscription service called \"MealMatch\" that...   \n",
       "\n",
       "                                junior_partner_pitch  \\\n",
       "0  <think>\\nOkay, let's start by breaking down th...   \n",
       "1  <think>\\nOkay, let's start by breaking down th...   \n",
       "2  <think>\\nOkay, let's start by understanding th...   \n",
       "3  <think>\\nOkay, let's start by looking at the s...   \n",
       "4  <think>\\nOkay, let me start by breaking down t...   \n",
       "\n",
       "                                      hawk_reasoning  \\\n",
       "0  <think>  **Market Validation:** While the dema...   \n",
       "1  <think>  **Market Validation:**   - **Niche De...   \n",
       "2  <think>  **Market Validation:** The target mar...   \n",
       "3  <think>  **Market Validation**: While the dema...   \n",
       "4  <think>  **Market Validation:** The target aud...   \n",
       "\n",
       "                                       fin_reasoning  \\\n",
       "0  <think>  **Market Demand & Differentiation**: ...   \n",
       "1  <think>  **Market Validation**: The growing pr...   \n",
       "2  <think>  Alright, let's break this down. The m...   \n",
       "3  <think>  **Market Validation**: The increasing...   \n",
       "4  <think>  **Market Validation:** The target dem...   \n",
       "\n",
       "                                       fit_reasoning  \\\n",
       "0  <think> Alright, let's dive deeper into the fo...   \n",
       "1  <think>  **Founder-Market Fit Analysis:**  1. ...   \n",
       "2  <think>  Alright, let's break this down. The s...   \n",
       "3  <think> Alright, let's dive deeper into the fo...   \n",
       "4  <think>  **Founder-Market Fit Analysis:**  1. ...   \n",
       "\n",
       "                               manager_partner_think manager_partner_decision  \\\n",
       "0  Okay, let's start by considering the market po...                   Invest   \n",
       "1  Okay, let's start by considering the market ne...            Do not invest   \n",
       "2  Okay, let's start by considering the key facto...            Do not invest   \n",
       "3  Okay, let's break this down. The startup is ta...            Do not invest   \n",
       "4  Okay, let's start by synthesizing all the inpu...            Do not invest   \n",
       "\n",
       "                         manager_partner_explanation  \n",
       "0  The startup addresses a growing niche with str...  \n",
       "1  High operational complexity and regulatory ris...  \n",
       "2  High operational complexity and regulatory ris...  \n",
       "3  High operational complexity and thin margins i...  \n",
       "4  While the concept addresses a valid market nee...  "
      ]
     },
     "execution_count": 54,
     "metadata": {},
     "output_type": "execute_result"
    }
   ],
   "source": [
    "final_dataset[\"manager_partner_think\"] = manager_partner_thinks\n",
    "final_dataset[\"manager_partner_decision\"] = manager_partner_decisions\n",
    "final_dataset[\"manager_partner_explanation\"] = manager_partner_explanations\n",
    "\n",
    "final_dataset.head()\n"
   ]
  },
  {
   "cell_type": "code",
   "execution_count": null,
   "id": "55d580a4",
   "metadata": {},
   "outputs": [],
   "source": [
    "from huggingface_hub import HfApi, HfFolder, Repository, create_repo\n"
   ]
  },
  {
   "cell_type": "code",
   "execution_count": null,
   "id": "10cf1a0b",
   "metadata": {},
   "outputs": [],
   "source": [
    "HF_TOKEN = os.getenv(\"HF_API_KEY\")\n",
    "\n",
    "if not HF_TOKEN:\n",
    "    raise ValueError(\"❌ No Hugging Face token found. Please set HF_TOKEN in your .env file.\")\n",
    "\n",
    "HfFolder.save_token(HF_TOKEN)\n",
    "api = HfApi()\n"
   ]
  },
  {
   "cell_type": "code",
   "execution_count": null,
   "id": "c75cbe01",
   "metadata": {},
   "outputs": [
    {
     "name": "stdout",
     "output_type": "stream",
     "text": [
      "✅ Dataset saved to ./synthetic_vc_financial_decisions_reasoning_dataset/data.parquet\n"
     ]
    }
   ],
   "source": [
    "dataset_name = \"synthetic_vc_financial_decisions_reasoning_dataset\"\n",
    "save_dir = f\"./{dataset_name}\"\n",
    "\n",
    "os.makedirs(save_dir, exist_ok=True)\n",
    "final_dataset.to_parquet(f\"{save_dir}/data.parquet\", index=False)\n",
    "\n",
    "print(f\"✅ Dataset saved to {save_dir}/data.parquet\")\n"
   ]
  },
  {
   "cell_type": "code",
   "execution_count": null,
   "id": "4eb880ba",
   "metadata": {},
   "outputs": [
    {
     "name": "stdout",
     "output_type": "stream",
     "text": [
      "✅ Public dataset repo ZennyKenny/synthetic_vc_financial_decisions_reasoning_dataset created successfully.\n"
     ]
    }
   ],
   "source": [
    "from huggingface_hub import create_repo\n",
    "\n",
    "repo_id = \"ZennyKenny/synthetic_vc_financial_decisions_reasoning_dataset\"\n",
    "\n",
    "create_repo(\n",
    "    repo_id, \n",
    "    repo_type=\"dataset\",\n",
    "    private=False,\n",
    "    exist_ok=True,\n",
    "    token=HF_TOKEN\n",
    ")\n",
    "\n",
    "print(f\"✅ Public dataset repo {repo_id} created successfully.\")\n"
   ]
  },
  {
   "cell_type": "code",
   "execution_count": null,
   "id": "b07de1a4",
   "metadata": {},
   "outputs": [
    {
     "data": {
      "application/vnd.jupyter.widget-view+json": {
       "model_id": "3ab18fc0144d4de080987b8792f6db58",
       "version_major": 2,
       "version_minor": 0
      },
      "text/plain": [
       "data.parquet:   0%|          | 0.00/1.66M [00:00<?, ?B/s]"
      ]
     },
     "metadata": {},
     "output_type": "display_data"
    },
    {
     "name": "stdout",
     "output_type": "stream",
     "text": [
      "✅ Uploaded data.parquet to https://huggingface.co/datasets/ZennyKenny/synthetic_vc_financial_decisions_reasoning_dataset\n"
     ]
    }
   ],
   "source": [
    "from huggingface_hub import upload_file\n",
    "\n",
    "# Define repo ID\n",
    "repo_id = \"ZennyKenny/synthetic_vc_financial_decisions_reasoning_dataset\"\n",
    "\n",
    "upload_file(\n",
    "    path_or_fileobj=f\"{save_dir}/data.parquet\",\n",
    "    path_in_repo=\"data/data.parquet\",\n",
    "    repo_id=repo_id,\n",
    "    repo_type=\"dataset\",\n",
    "    token=HF_TOKEN\n",
    ")\n",
    "\n",
    "print(f\"✅ Uploaded data.parquet to https://huggingface.co/datasets/{repo_id}\")\n"
   ]
  }
 ],
 "metadata": {
  "kernelspec": {
   "display_name": "gen",
   "language": "python",
   "name": "python3"
  },
  "language_info": {
   "codemirror_mode": {
    "name": "ipython",
    "version": 3
   },
   "file_extension": ".py",
   "mimetype": "text/x-python",
   "name": "python",
   "nbconvert_exporter": "python",
   "pygments_lexer": "ipython3",
   "version": "3.13.3"
  }
 },
 "nbformat": 4,
 "nbformat_minor": 5
}
