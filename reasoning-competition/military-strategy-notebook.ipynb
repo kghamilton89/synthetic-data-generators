{
 "cells": [
  {
   "cell_type": "code",
   "execution_count": 1,
   "id": "82274b7f",
   "metadata": {},
   "outputs": [],
   "source": [
    "# Load your OpenAI API key from a .env file\n",
    "from dotenv import load_dotenv\n",
    "import os\n",
    "\n",
    "load_dotenv()\n",
    "os.environ[\"OPENAI_API_KEY\"] = os.getenv(\"OPENAI_API_KEY\")\n"
   ]
  },
  {
   "cell_type": "code",
   "execution_count": 2,
   "id": "4576aedd",
   "metadata": {},
   "outputs": [],
   "source": [
    "import logging\n",
    "import random\n",
    "from bespokelabs import curator\n",
    "\n",
    "# Enable batch logging to monitor how scenarios are processed\n",
    "logger = logging.getLogger(\"bespokelabs.curator\")\n",
    "logger.setLevel(logging.INFO)\n"
   ]
  },
  {
   "cell_type": "code",
   "execution_count": 3,
   "id": "171d7b76",
   "metadata": {},
   "outputs": [],
   "source": [
    "from pydantic import BaseModel, Field\n",
    "\n",
    "class MilitaryScenario(BaseModel):\n",
    "    scenario: str = Field(description=\"A comprehensive tactical military scenario.\")\n",
    "\n",
    "class MilitaryScenarioGenerator(curator.LLM):\n",
    "    \"\"\"LLM-based generator for comprehensive tactical military scenarios.\"\"\"\n",
    "    response_format = MilitaryScenario\n",
    "\n",
    "    def prompt(self, input: dict) -> str:\n",
    "        index = input[\"index\"]\n",
    "        return (\n",
    "            f\"Generate a comprehensive tactical military scenario #{index} with the following structure and details:\\n\\n\"\n",
    "            \"1. SCENARIO OVERVIEW:\\n\"\n",
    "            \"- Brief narrative context (geopolitical background, conflict type, strategic objectives)\\n\"\n",
    "            \"- Time parameters (year/era, time of day, season)\\n\"\n",
    "            \"- Duration of engagement (expected or ongoing)\\n\\n\"\n",
    "            \"2. TERRAIN ANALYSIS:\\n\"\n",
    "            \"- Primary terrain type (urban, mountainous, jungle, desert, arctic, littoral, etc.)\\n\"\n",
    "            \"- Key terrain features (elevation changes, choke points, cover/concealment)\\n\"\n",
    "            \"- Mobility corridors and obstacles\\n\"\n",
    "            \"- Weather conditions and visibility\\n\"\n",
    "            \"- Civilian presence and infrastructure\\n\\n\"\n",
    "            \"3. FORCE COMPOSITION:\\n\"\n",
    "            \"BLUE FORCE (Friendly/Attacker):\\n\"\n",
    "            \"- Unit type/size/organization\\n\"\n",
    "            \"- Weapons systems (small arms, crew-served, armored, air support, artillery)\\n\"\n",
    "            \"- Logistics status (supply lines, ammunition, fuel, medical)\\n\"\n",
    "            \"- Communications capabilities\\n\"\n",
    "            \"- Training level and experience\\n\"\n",
    "            \"- Morale and emotional state\\n\\n\"\n",
    "            \"RED FORCE (Enemy/Defender):\\n\"\n",
    "            \"- Unit type/size/organization\\n\"\n",
    "            \"- Weapons systems and capabilities\\n\"\n",
    "            \"- Defensive preparations (fortifications, obstacles, ambush positions)\\n\"\n",
    "            \"- Known logistics status\\n\"\n",
    "            \"- Training level and experience\\n\"\n",
    "            \"- Morale and emotional state\\n\\n\"\n",
    "            \"4. TACTICAL PARAMETERS:\\n\"\n",
    "            \"- Current phase of operation (approach, attack, defense, withdrawal)\\n\"\n",
    "            \"- Known intelligence on enemy positions/dispositions\\n\"\n",
    "            \"- Rules of Engagement constraints\\n\"\n",
    "            \"- Potential COA (Courses of Action) for both sides\\n\\n\"\n",
    "            \"5. DECISION POINTS:\\n\"\n",
    "            \"- Identify 2-3 critical tactical decisions required\\n\"\n",
    "            \"- Highlight key variables affecting outcomes\\n\"\n",
    "            \"- Note potential second-order effects\\n\\n\"\n",
    "            \"SPECIAL REQUIREMENTS:\\n\"\n",
    "            \"- Maintain realistic force ratios and capabilities\\n\"\n",
    "            \"- Include plausible fog of war elements\\n\"\n",
    "            \"- Consider combined arms effects where applicable\\n\"\n",
    "            \"- Allow for multiple valid solutions to tactical problems\\n\"\n",
    "            \"- Format with clear section headers for easy parsing\\n\"\n",
    "            \"- Include quantifiable metrics where possible (distances, time estimates, force sizes)\\n\\n\"\n",
    "            \"The scenario should enable rigorous analysis of:\\n\"\n",
    "            \"- Relative combat power calculation\\n\"\n",
    "            \"- Terrain exploitation\\n\"\n",
    "            \"- Force employment options\\n\"\n",
    "            \"- Risk assessment\\n\"\n",
    "            \"- Decision advantage opportunities\"\n",
    "        )\n",
    "\n",
    "    def parse(self, input: dict, response: MilitaryScenario) -> dict:\n",
    "        return {\n",
    "            \"index\": input[\"index\"],\n",
    "            \"scenario_description\": response.scenario\n",
    "        }\n",
    "\n",
    "generator = MilitaryScenarioGenerator(\n",
    "    model_name=\"gpt-4o-mini\",\n",
    "    backend=\"openai\",\n",
    "    batch=False\n",
    ")\n"
   ]
  },
  {
   "cell_type": "code",
   "execution_count": 4,
   "id": "0bb047a6",
   "metadata": {},
   "outputs": [
    {
     "data": {
      "text/html": [
       "<pre style=\"white-space:pre;overflow-x:auto;line-height:normal;font-family:Menlo,'DejaVu Sans Mono',consolas,'Courier New',monospace\"><span style=\"color: #7fbfbf; text-decoration-color: #7fbfbf\">[04/25/25 10:20:00] </span><span style=\"color: #000080; text-decoration-color: #000080\">INFO    </span> Running OpenAIOnlineRequestProcessor completions with    <a href=\"file:///opt/anaconda3/envs/gen/lib/python3.13/site-packages/bespokelabs/curator/request_processor/base_request_processor.py\" target=\"_blank\"><span style=\"color: #7f7f7f; text-decoration-color: #7f7f7f\">base_request_processor.py</span></a><span style=\"color: #7f7f7f; text-decoration-color: #7f7f7f\">:</span><a href=\"file:///opt/anaconda3/envs/gen/lib/python3.13/site-packages/bespokelabs/curator/request_processor/base_request_processor.py#131\" target=\"_blank\"><span style=\"color: #7f7f7f; text-decoration-color: #7f7f7f\">131</span></a>\n",
       "<span style=\"color: #7fbfbf; text-decoration-color: #7fbfbf\">                    </span>         model: gpt-4o-mini                                       <span style=\"color: #7f7f7f; text-decoration-color: #7f7f7f\">                             </span>\n",
       "</pre>\n"
      ],
      "text/plain": [
       "\u001b[2;36m[04/25/25 10:20:00]\u001b[0m\u001b[2;36m \u001b[0m\u001b[34mINFO    \u001b[0m Running OpenAIOnlineRequestProcessor completions with    \u001b]8;id=376507;file:///opt/anaconda3/envs/gen/lib/python3.13/site-packages/bespokelabs/curator/request_processor/base_request_processor.py\u001b\\\u001b[2mbase_request_processor.py\u001b[0m\u001b]8;;\u001b\\\u001b[2m:\u001b[0m\u001b]8;id=106482;file:///opt/anaconda3/envs/gen/lib/python3.13/site-packages/bespokelabs/curator/request_processor/base_request_processor.py#131\u001b\\\u001b[2m131\u001b[0m\u001b]8;;\u001b\\\n",
       "\u001b[2;36m                    \u001b[0m         model: gpt-4o-mini                                       \u001b[2m                             \u001b[0m\n"
      ]
     },
     "metadata": {},
     "output_type": "display_data"
    },
    {
     "data": {
      "text/html": [
       "<pre style=\"white-space:pre;overflow-x:auto;line-height:normal;font-family:Menlo,'DejaVu Sans Mono',consolas,'Courier New',monospace\"><span style=\"color: #7fbfbf; text-decoration-color: #7fbfbf\">                    </span><span style=\"color: #000080; text-decoration-color: #000080\">INFO    </span> Preparing request <span style=\"color: #800080; text-decoration-color: #800080; font-weight: bold\">file</span><span style=\"font-weight: bold\">(</span>s<span style=\"font-weight: bold\">)</span> in                             <a href=\"file:///opt/anaconda3/envs/gen/lib/python3.13/site-packages/bespokelabs/curator/request_processor/base_request_processor.py\" target=\"_blank\"><span style=\"color: #7f7f7f; text-decoration-color: #7f7f7f\">base_request_processor.py</span></a><span style=\"color: #7f7f7f; text-decoration-color: #7f7f7f\">:</span><a href=\"file:///opt/anaconda3/envs/gen/lib/python3.13/site-packages/bespokelabs/curator/request_processor/base_request_processor.py#231\" target=\"_blank\"><span style=\"color: #7f7f7f; text-decoration-color: #7f7f7f\">231</span></a>\n",
       "<span style=\"color: #7fbfbf; text-decoration-color: #7fbfbf\">                    </span>         <span style=\"color: #800080; text-decoration-color: #800080\">/Users/kenneth.hamilton/.cache/curator/</span><span style=\"color: #ff00ff; text-decoration-color: #ff00ff\">5d1062ce9b8d99fe</span>  <span style=\"color: #7f7f7f; text-decoration-color: #7f7f7f\">                             </span>\n",
       "</pre>\n"
      ],
      "text/plain": [
       "\u001b[2;36m                   \u001b[0m\u001b[2;36m \u001b[0m\u001b[34mINFO    \u001b[0m Preparing request \u001b[1;35mfile\u001b[0m\u001b[1m(\u001b[0ms\u001b[1m)\u001b[0m in                             \u001b]8;id=44955;file:///opt/anaconda3/envs/gen/lib/python3.13/site-packages/bespokelabs/curator/request_processor/base_request_processor.py\u001b\\\u001b[2mbase_request_processor.py\u001b[0m\u001b]8;;\u001b\\\u001b[2m:\u001b[0m\u001b]8;id=932533;file:///opt/anaconda3/envs/gen/lib/python3.13/site-packages/bespokelabs/curator/request_processor/base_request_processor.py#231\u001b\\\u001b[2m231\u001b[0m\u001b]8;;\u001b\\\n",
       "\u001b[2;36m                    \u001b[0m         \u001b[35m/Users/kenneth.hamilton/.cache/curator/\u001b[0m\u001b[95m5d1062ce9b8d99fe\u001b[0m  \u001b[2m                             \u001b[0m\n"
      ]
     },
     "metadata": {},
     "output_type": "display_data"
    },
    {
     "data": {
      "text/html": [
       "<pre style=\"white-space:pre;overflow-x:auto;line-height:normal;font-family:Menlo,'DejaVu Sans Mono',consolas,'Courier New',monospace\"><span style=\"color: #7fbfbf; text-decoration-color: #7fbfbf\">                    </span><span style=\"color: #000080; text-decoration-color: #000080\">INFO    </span> Wrote <span style=\"color: #008080; text-decoration-color: #008080; font-weight: bold\">150</span> requests to                                    <a href=\"file:///opt/anaconda3/envs/gen/lib/python3.13/site-packages/bespokelabs/curator/request_processor/base_request_processor.py\" target=\"_blank\"><span style=\"color: #7f7f7f; text-decoration-color: #7f7f7f\">base_request_processor.py</span></a><span style=\"color: #7f7f7f; text-decoration-color: #7f7f7f\">:</span><a href=\"file:///opt/anaconda3/envs/gen/lib/python3.13/site-packages/bespokelabs/curator/request_processor/base_request_processor.py#313\" target=\"_blank\"><span style=\"color: #7f7f7f; text-decoration-color: #7f7f7f\">313</span></a>\n",
       "<span style=\"color: #7fbfbf; text-decoration-color: #7fbfbf\">                    </span>         <span style=\"color: #800080; text-decoration-color: #800080\">/Users/kenneth.hamilton/.cache/curator/5d1062ce9b8d99fe/</span> <span style=\"color: #7f7f7f; text-decoration-color: #7f7f7f\">                             </span>\n",
       "<span style=\"color: #7fbfbf; text-decoration-color: #7fbfbf\">                    </span>         <span style=\"color: #ff00ff; text-decoration-color: #ff00ff\">requests_0.jsonl.</span>                                        <span style=\"color: #7f7f7f; text-decoration-color: #7f7f7f\">                             </span>\n",
       "</pre>\n"
      ],
      "text/plain": [
       "\u001b[2;36m                   \u001b[0m\u001b[2;36m \u001b[0m\u001b[34mINFO    \u001b[0m Wrote \u001b[1;36m150\u001b[0m requests to                                    \u001b]8;id=831928;file:///opt/anaconda3/envs/gen/lib/python3.13/site-packages/bespokelabs/curator/request_processor/base_request_processor.py\u001b\\\u001b[2mbase_request_processor.py\u001b[0m\u001b]8;;\u001b\\\u001b[2m:\u001b[0m\u001b]8;id=827218;file:///opt/anaconda3/envs/gen/lib/python3.13/site-packages/bespokelabs/curator/request_processor/base_request_processor.py#313\u001b\\\u001b[2m313\u001b[0m\u001b]8;;\u001b\\\n",
       "\u001b[2;36m                    \u001b[0m         \u001b[35m/Users/kenneth.hamilton/.cache/curator/5d1062ce9b8d99fe/\u001b[0m \u001b[2m                             \u001b[0m\n",
       "\u001b[2;36m                    \u001b[0m         \u001b[95mrequests_0.jsonl.\u001b[0m                                        \u001b[2m                             \u001b[0m\n"
      ]
     },
     "metadata": {},
     "output_type": "display_data"
    },
    {
     "data": {
      "text/html": [
       "<pre style=\"white-space:pre;overflow-x:auto;line-height:normal;font-family:Menlo,'DejaVu Sans Mono',consolas,'Courier New',monospace\"><span style=\"color: #7fbfbf; text-decoration-color: #7fbfbf\">                    </span><span style=\"color: #000080; text-decoration-color: #000080\">INFO    </span> Automatically set max_requests_per_minute to      <a href=\"file:///opt/anaconda3/envs/gen/lib/python3.13/site-packages/bespokelabs/curator/request_processor/online/base_online_request_processor.py\" target=\"_blank\"><span style=\"color: #7f7f7f; text-decoration-color: #7f7f7f\">base_online_request_processor.py</span></a><span style=\"color: #7f7f7f; text-decoration-color: #7f7f7f\">:</span><a href=\"file:///opt/anaconda3/envs/gen/lib/python3.13/site-packages/bespokelabs/curator/request_processor/online/base_online_request_processor.py#194\" target=\"_blank\"><span style=\"color: #7f7f7f; text-decoration-color: #7f7f7f\">194</span></a>\n",
       "<span style=\"color: #7fbfbf; text-decoration-color: #7fbfbf\">                    </span>         <span style=\"color: #008080; text-decoration-color: #008080; font-weight: bold\">10000</span>                                             <span style=\"color: #7f7f7f; text-decoration-color: #7f7f7f\">                                    </span>\n",
       "</pre>\n"
      ],
      "text/plain": [
       "\u001b[2;36m                   \u001b[0m\u001b[2;36m \u001b[0m\u001b[34mINFO    \u001b[0m Automatically set max_requests_per_minute to      \u001b]8;id=971690;file:///opt/anaconda3/envs/gen/lib/python3.13/site-packages/bespokelabs/curator/request_processor/online/base_online_request_processor.py\u001b\\\u001b[2mbase_online_request_processor.py\u001b[0m\u001b]8;;\u001b\\\u001b[2m:\u001b[0m\u001b]8;id=808319;file:///opt/anaconda3/envs/gen/lib/python3.13/site-packages/bespokelabs/curator/request_processor/online/base_online_request_processor.py#194\u001b\\\u001b[2m194\u001b[0m\u001b]8;;\u001b\\\n",
       "\u001b[2;36m                    \u001b[0m         \u001b[1;36m10000\u001b[0m                                             \u001b[2m                                    \u001b[0m\n"
      ]
     },
     "metadata": {},
     "output_type": "display_data"
    },
    {
     "data": {
      "text/html": [
       "<pre style=\"white-space:pre;overflow-x:auto;line-height:normal;font-family:Menlo,'DejaVu Sans Mono',consolas,'Courier New',monospace\"><span style=\"color: #7fbfbf; text-decoration-color: #7fbfbf\">                    </span><span style=\"color: #000080; text-decoration-color: #000080\">INFO    </span> Automatically set max_tokens_per_minute to <span style=\"color: #008080; text-decoration-color: #008080; font-weight: bold\">200000</span> <a href=\"file:///opt/anaconda3/envs/gen/lib/python3.13/site-packages/bespokelabs/curator/request_processor/online/base_online_request_processor.py\" target=\"_blank\"><span style=\"color: #7f7f7f; text-decoration-color: #7f7f7f\">base_online_request_processor.py</span></a><span style=\"color: #7f7f7f; text-decoration-color: #7f7f7f\">:</span><a href=\"file:///opt/anaconda3/envs/gen/lib/python3.13/site-packages/bespokelabs/curator/request_processor/online/base_online_request_processor.py#213\" target=\"_blank\"><span style=\"color: #7f7f7f; text-decoration-color: #7f7f7f\">213</span></a>\n",
       "</pre>\n"
      ],
      "text/plain": [
       "\u001b[2;36m                   \u001b[0m\u001b[2;36m \u001b[0m\u001b[34mINFO    \u001b[0m Automatically set max_tokens_per_minute to \u001b[1;36m200000\u001b[0m \u001b]8;id=942682;file:///opt/anaconda3/envs/gen/lib/python3.13/site-packages/bespokelabs/curator/request_processor/online/base_online_request_processor.py\u001b\\\u001b[2mbase_online_request_processor.py\u001b[0m\u001b]8;;\u001b\\\u001b[2m:\u001b[0m\u001b]8;id=61067;file:///opt/anaconda3/envs/gen/lib/python3.13/site-packages/bespokelabs/curator/request_processor/online/base_online_request_processor.py#213\u001b\\\u001b[2m213\u001b[0m\u001b]8;;\u001b\\\n"
      ]
     },
     "metadata": {},
     "output_type": "display_data"
    },
    {
     "data": {
      "application/vnd.jupyter.widget-view+json": {
       "model_id": "2b94841acb1e4c43a9b94935653831c7",
       "version_major": 2,
       "version_minor": 0
      },
      "text/plain": [
       "Output()"
      ]
     },
     "metadata": {},
     "output_type": "display_data"
    },
    {
     "data": {
      "text/html": [
       "<pre style=\"white-space:pre;overflow-x:auto;line-height:normal;font-family:Menlo,'DejaVu Sans Mono',consolas,'Courier New',monospace\"><span style=\"color: #7fbfbf; text-decoration-color: #7fbfbf\">[04/25/25 10:21:51] </span><span style=\"color: #808000; text-decoration-color: #808000\">WARNING </span> Encountered <span style=\"color: #008000; text-decoration-color: #008000\">'ServerDisconnectedError: Server </span>     <a href=\"file:///opt/anaconda3/envs/gen/lib/python3.13/site-packages/bespokelabs/curator/request_processor/online/base_online_request_processor.py\" target=\"_blank\"><span style=\"color: #7f7f7f; text-decoration-color: #7f7f7f\">base_online_request_processor.py</span></a><span style=\"color: #7f7f7f; text-decoration-color: #7f7f7f\">:</span><a href=\"file:///opt/anaconda3/envs/gen/lib/python3.13/site-packages/bespokelabs/curator/request_processor/online/base_online_request_processor.py#522\" target=\"_blank\"><span style=\"color: #7f7f7f; text-decoration-color: #7f7f7f\">522</span></a>\n",
       "<span style=\"color: #7fbfbf; text-decoration-color: #7fbfbf\">                    </span>         <span style=\"color: #008000; text-decoration-color: #008000\">disconnected'</span> during attempt <span style=\"color: #008080; text-decoration-color: #008080; font-weight: bold\">1</span> of <span style=\"color: #008080; text-decoration-color: #008080; font-weight: bold\">10</span> while        <span style=\"color: #7f7f7f; text-decoration-color: #7f7f7f\">                                    </span>\n",
       "<span style=\"color: #7fbfbf; text-decoration-color: #7fbfbf\">                    </span>         processing request <span style=\"color: #008080; text-decoration-color: #008080; font-weight: bold\">111</span>                            <span style=\"color: #7f7f7f; text-decoration-color: #7f7f7f\">                                    </span>\n",
       "</pre>\n"
      ],
      "text/plain": [
       "\u001b[2;36m[04/25/25 10:21:51]\u001b[0m\u001b[2;36m \u001b[0m\u001b[33mWARNING \u001b[0m Encountered \u001b[32m'ServerDisconnectedError: Server \u001b[0m     \u001b]8;id=491053;file:///opt/anaconda3/envs/gen/lib/python3.13/site-packages/bespokelabs/curator/request_processor/online/base_online_request_processor.py\u001b\\\u001b[2mbase_online_request_processor.py\u001b[0m\u001b]8;;\u001b\\\u001b[2m:\u001b[0m\u001b]8;id=768826;file:///opt/anaconda3/envs/gen/lib/python3.13/site-packages/bespokelabs/curator/request_processor/online/base_online_request_processor.py#522\u001b\\\u001b[2m522\u001b[0m\u001b]8;;\u001b\\\n",
       "\u001b[2;36m                    \u001b[0m         \u001b[32mdisconnected'\u001b[0m during attempt \u001b[1;36m1\u001b[0m of \u001b[1;36m10\u001b[0m while        \u001b[2m                                    \u001b[0m\n",
       "\u001b[2;36m                    \u001b[0m         processing request \u001b[1;36m111\u001b[0m                            \u001b[2m                                    \u001b[0m\n"
      ]
     },
     "metadata": {},
     "output_type": "display_data"
    },
    {
     "data": {
      "text/html": [
       "<pre style=\"white-space:pre;overflow-x:auto;line-height:normal;font-family:Menlo,'DejaVu Sans Mono',consolas,'Courier New',monospace\"></pre>\n"
      ],
      "text/plain": []
     },
     "metadata": {},
     "output_type": "display_data"
    },
    {
     "data": {
      "text/html": [
       "<pre style=\"white-space:pre;overflow-x:auto;line-height:normal;font-family:Menlo,'DejaVu Sans Mono',consolas,'Courier New',monospace\"><span style=\"color: #729c1f; text-decoration-color: #729c1f\">━━━━━━━━━━━━━━━━━━━━━━━━━━━━━━━━━━━━━━━━━━━━━━━━━━━━━━━━━━━━━━</span> <span style=\"color: #800080; text-decoration-color: #800080\">100%</span> <span style=\"color: #c0c0c0; text-decoration-color: #c0c0c0; font-weight: bold\">•</span> Time Elapsed <span style=\"color: #808000; text-decoration-color: #808000\">0:02:19</span> <span style=\"color: #c0c0c0; text-decoration-color: #c0c0c0; font-weight: bold\">•</span> Time Remaining <span style=\"color: #008080; text-decoration-color: #008080\">0:00:00</span>\n",
       "</pre>\n"
      ],
      "text/plain": [
       "\u001b[38;2;114;156;31m━━━━━━━━━━━━━━━━━━━━━━━━━━━━━━━━━━━━━━━━━━━━━━━━━━━━━━━━━━━━━━\u001b[0m \u001b[35m100%\u001b[0m \u001b[1;37m•\u001b[0m Time Elapsed \u001b[33m0:02:19\u001b[0m \u001b[1;37m•\u001b[0m Time Remaining \u001b[36m0:00:00\u001b[0m\n"
      ]
     },
     "metadata": {},
     "output_type": "display_data"
    },
    {
     "data": {
      "text/html": [
       "<pre style=\"white-space:pre;overflow-x:auto;line-height:normal;font-family:Menlo,'DejaVu Sans Mono',consolas,'Courier New',monospace\"><span style=\"color: #c0c0c0; text-decoration-color: #c0c0c0; font-weight: bold\">Curator Viewer:</span> <span style=\"color: #808000; text-decoration-color: #808000\">Disabled</span>                                                                        \n",
       "Set <span style=\"color: #808000; text-decoration-color: #808000\">CURATOR_VIEWER=</span><span style=\"color: #008080; text-decoration-color: #008080\">1</span> to view your data live at <span style=\"color: #000080; text-decoration-color: #000080\">https://curator.bespokelabs.ai</span>                   \n",
       "<span style=\"color: #c0c0c0; text-decoration-color: #c0c0c0; font-weight: bold\">Requests:</span> <span style=\"color: #c0c0c0; text-decoration-color: #c0c0c0\">Total:</span> <span style=\"color: #000080; text-decoration-color: #000080\">150</span> <span style=\"color: #c0c0c0; text-decoration-color: #c0c0c0\">•</span> <span style=\"color: #c0c0c0; text-decoration-color: #c0c0c0\">Cached:</span> <span style=\"color: #008000; text-decoration-color: #008000\">0✓</span> <span style=\"color: #c0c0c0; text-decoration-color: #c0c0c0\">•</span> <span style=\"color: #c0c0c0; text-decoration-color: #c0c0c0\">Success:</span> <span style=\"color: #008000; text-decoration-color: #008000\">150✓</span> <span style=\"color: #c0c0c0; text-decoration-color: #c0c0c0\">•</span> <span style=\"color: #c0c0c0; text-decoration-color: #c0c0c0\">Failed:</span> <span style=\"color: #800000; text-decoration-color: #800000\">0✗</span> <span style=\"color: #c0c0c0; text-decoration-color: #c0c0c0\">•</span> <span style=\"color: #c0c0c0; text-decoration-color: #c0c0c0\">In Progress:</span> <span style=\"color: #808000; text-decoration-color: #808000\">0⋯</span> <span style=\"color: #c0c0c0; text-decoration-color: #c0c0c0\">•</span> <span style=\"color: #c0c0c0; text-decoration-color: #c0c0c0\">RPM:</span> <span style=\"color: #000080; text-decoration-color: #000080\">64.4</span>    \n",
       "<span style=\"color: #c0c0c0; text-decoration-color: #c0c0c0; font-weight: bold\">Tokens:</span> <span style=\"color: #c0c0c0; text-decoration-color: #c0c0c0\">Avg Input:</span> <span style=\"color: #000080; text-decoration-color: #000080\">0</span> <span style=\"color: #c0c0c0; text-decoration-color: #c0c0c0\">•</span> <span style=\"color: #c0c0c0; text-decoration-color: #c0c0c0\">Input TPM:</span> <span style=\"color: #000080; text-decoration-color: #000080\">0</span> <span style=\"color: #c0c0c0; text-decoration-color: #c0c0c0\">•</span> <span style=\"color: #c0c0c0; text-decoration-color: #c0c0c0\">Avg Output:</span> <span style=\"color: #000080; text-decoration-color: #000080\">0</span> <span style=\"color: #c0c0c0; text-decoration-color: #c0c0c0\">•</span> <span style=\"color: #c0c0c0; text-decoration-color: #c0c0c0\">Output TPM:</span> <span style=\"color: #000080; text-decoration-color: #000080\">0</span>                             \n",
       "<span style=\"color: #c0c0c0; text-decoration-color: #c0c0c0; font-weight: bold\">Cost:</span> <span style=\"color: #c0c0c0; text-decoration-color: #c0c0c0\">Current:</span> <span style=\"color: #800080; text-decoration-color: #800080\">$0.125</span> <span style=\"color: #c0c0c0; text-decoration-color: #c0c0c0\">•</span> <span style=\"color: #c0c0c0; text-decoration-color: #c0c0c0\">Projected Remaining:</span> <span style=\"color: #800080; text-decoration-color: #800080\">$0.000</span> <span style=\"color: #c0c0c0; text-decoration-color: #c0c0c0\">•</span> <span style=\"color: #c0c0c0; text-decoration-color: #c0c0c0\">Projected Total:</span> <span style=\"color: #800080; text-decoration-color: #800080\">$0.125</span> <span style=\"color: #c0c0c0; text-decoration-color: #c0c0c0\">•</span> <span style=\"color: #c0c0c0; text-decoration-color: #c0c0c0\">Rate:</span> <span style=\"color: #800080; text-decoration-color: #800080\">$0.053/min</span>\n",
       "<span style=\"color: #c0c0c0; text-decoration-color: #c0c0c0; font-weight: bold\">Rate Limits:</span> <span style=\"color: #c0c0c0; text-decoration-color: #c0c0c0\">RPM:</span> <span style=\"color: #000080; text-decoration-color: #000080\">10000</span> <span style=\"color: #c0c0c0; text-decoration-color: #c0c0c0\">•</span> <span style=\"color: #c0c0c0; text-decoration-color: #c0c0c0\">TPM:</span> <span style=\"color: #000080; text-decoration-color: #000080\">200000</span> <span style=\"color: #c0c0c0; text-decoration-color: #c0c0c0\">•</span> <span style=\"color: #c0c0c0; text-decoration-color: #c0c0c0\">TPM Strategy:</span> <span style=\"color: #000080; text-decoration-color: #000080\">TokenLimitStrategy.combined token limit</span>   \n",
       "<span style=\"color: #c0c0c0; text-decoration-color: #c0c0c0; font-weight: bold\">Model:</span> <span style=\"color: #c0c0c0; text-decoration-color: #c0c0c0\">Name:</span> <span style=\"color: #000080; text-decoration-color: #000080\">gpt-4o-mini</span>                                                                        \n",
       "<span style=\"color: #c0c0c0; text-decoration-color: #c0c0c0; font-weight: bold\">Model Pricing:</span> <span style=\"color: #c0c0c0; text-decoration-color: #c0c0c0\">Per 1M tokens:</span> <span style=\"color: #c0c0c0; text-decoration-color: #c0c0c0\">Input:</span> <span style=\"color: #800000; text-decoration-color: #800000\">$0.150</span> <span style=\"color: #c0c0c0; text-decoration-color: #c0c0c0\">•</span> <span style=\"color: #c0c0c0; text-decoration-color: #c0c0c0\">Output:</span> <span style=\"color: #800000; text-decoration-color: #800000\">$0.600</span>                                    \n",
       "</pre>\n"
      ],
      "text/plain": [
       "\u001b[1;37mCurator Viewer:\u001b[0m \u001b[33mDisabled\u001b[0m                                                                        \n",
       "Set \u001b[33mCURATOR_VIEWER=\u001b[0m\u001b[36m1\u001b[0m to view your data live at \u001b[34mhttps://curator.bespokelabs.ai\u001b[0m                   \n",
       "\u001b[1;37mRequests:\u001b[0m \u001b[37mTotal:\u001b[0m \u001b[34m150\u001b[0m \u001b[37m•\u001b[0m \u001b[37mCached:\u001b[0m \u001b[32m0✓\u001b[0m \u001b[37m•\u001b[0m \u001b[37mSuccess:\u001b[0m \u001b[32m150✓\u001b[0m \u001b[37m•\u001b[0m \u001b[37mFailed:\u001b[0m \u001b[31m0✗\u001b[0m \u001b[37m•\u001b[0m \u001b[37mIn Progress:\u001b[0m \u001b[33m0⋯\u001b[0m \u001b[37m•\u001b[0m \u001b[37mRPM:\u001b[0m \u001b[34m64.4\u001b[0m    \n",
       "\u001b[1;37mTokens:\u001b[0m \u001b[37mAvg Input:\u001b[0m \u001b[34m0\u001b[0m \u001b[37m•\u001b[0m \u001b[37mInput TPM:\u001b[0m \u001b[34m0\u001b[0m \u001b[37m•\u001b[0m \u001b[37mAvg Output:\u001b[0m \u001b[34m0\u001b[0m \u001b[37m•\u001b[0m \u001b[37mOutput TPM:\u001b[0m \u001b[34m0\u001b[0m                             \n",
       "\u001b[1;37mCost:\u001b[0m \u001b[37mCurrent:\u001b[0m \u001b[35m$0.125\u001b[0m \u001b[37m•\u001b[0m \u001b[37mProjected Remaining:\u001b[0m \u001b[35m$0.000\u001b[0m \u001b[37m•\u001b[0m \u001b[37mProjected Total:\u001b[0m \u001b[35m$0.125\u001b[0m \u001b[37m•\u001b[0m \u001b[37mRate:\u001b[0m \u001b[35m$0.053/min\u001b[0m\n",
       "\u001b[1;37mRate Limits:\u001b[0m \u001b[37mRPM:\u001b[0m \u001b[34m10000\u001b[0m \u001b[37m•\u001b[0m \u001b[37mTPM:\u001b[0m \u001b[34m200000\u001b[0m \u001b[37m•\u001b[0m \u001b[37mTPM Strategy:\u001b[0m \u001b[34mTokenLimitStrategy.combined token limit\u001b[0m   \n",
       "\u001b[1;37mModel:\u001b[0m \u001b[37mName:\u001b[0m \u001b[34mgpt-4o-mini\u001b[0m                                                                        \n",
       "\u001b[1;37mModel Pricing:\u001b[0m \u001b[37mPer 1M tokens:\u001b[0m \u001b[37mInput:\u001b[0m \u001b[31m$0.150\u001b[0m \u001b[37m•\u001b[0m \u001b[37mOutput:\u001b[0m \u001b[31m$0.600\u001b[0m                                    \n"
      ]
     },
     "metadata": {},
     "output_type": "display_data"
    },
    {
     "data": {
      "text/html": [
       "<pre style=\"white-space:pre;overflow-x:auto;line-height:normal;font-family:Menlo,'DejaVu Sans Mono',consolas,'Courier New',monospace\"><span style=\"font-style: italic\">          Final Curator Statistics          </span>\n",
       "╭────────────────────────────┬─────────────╮\n",
       "│<span style=\"font-weight: bold\"> Section/Metric             </span>│<span style=\"font-weight: bold\"> Value       </span>│\n",
       "├────────────────────────────┼─────────────┤\n",
       "│<span style=\"color: #800080; text-decoration-color: #800080; font-weight: bold\"> Model                      </span>│<span style=\"color: #800080; text-decoration-color: #800080; font-weight: bold\">             </span>│\n",
       "│<span style=\"color: #008080; text-decoration-color: #008080\"> Name                       </span>│<span style=\"color: #808000; text-decoration-color: #808000\"> </span><span style=\"color: #000080; text-decoration-color: #000080\">gpt-4o-mini</span><span style=\"color: #808000; text-decoration-color: #808000\"> </span>│\n",
       "│<span style=\"color: #008080; text-decoration-color: #008080\"> Rate Limit (RPM)           </span>│<span style=\"color: #808000; text-decoration-color: #808000\"> </span><span style=\"color: #000080; text-decoration-color: #000080\">10000</span><span style=\"color: #808000; text-decoration-color: #808000\">       </span>│\n",
       "│<span style=\"color: #008080; text-decoration-color: #008080\"> Rate Limit (TPM)           </span>│<span style=\"color: #808000; text-decoration-color: #808000\"> </span><span style=\"color: #000080; text-decoration-color: #000080\">200000</span><span style=\"color: #808000; text-decoration-color: #808000\">      </span>│\n",
       "│<span style=\"color: #800080; text-decoration-color: #800080; font-weight: bold\"> Requests                   </span>│<span style=\"color: #800080; text-decoration-color: #800080; font-weight: bold\">             </span>│\n",
       "│<span style=\"color: #008080; text-decoration-color: #008080\"> Total Processed            </span>│<span style=\"color: #808000; text-decoration-color: #808000\"> 150         </span>│\n",
       "│<span style=\"color: #008080; text-decoration-color: #008080\"> Successful                 </span>│<span style=\"color: #808000; text-decoration-color: #808000\"> </span><span style=\"color: #008000; text-decoration-color: #008000\">150</span><span style=\"color: #808000; text-decoration-color: #808000\">         </span>│\n",
       "│<span style=\"color: #008080; text-decoration-color: #008080\"> Failed                     </span>│<span style=\"color: #808000; text-decoration-color: #808000\"> </span><span style=\"color: #800000; text-decoration-color: #800000\">0</span><span style=\"color: #808000; text-decoration-color: #808000\">           </span>│\n",
       "│<span style=\"color: #800080; text-decoration-color: #800080; font-weight: bold\"> Tokens                     </span>│<span style=\"color: #800080; text-decoration-color: #800080; font-weight: bold\">             </span>│\n",
       "│<span style=\"color: #008080; text-decoration-color: #008080\"> Total Tokens Used          </span>│<span style=\"color: #808000; text-decoration-color: #808000\"> 0           </span>│\n",
       "│<span style=\"color: #008080; text-decoration-color: #008080\"> Total Input Tokens         </span>│<span style=\"color: #808000; text-decoration-color: #808000\"> 0           </span>│\n",
       "│<span style=\"color: #008080; text-decoration-color: #008080\"> Total Output Tokens        </span>│<span style=\"color: #808000; text-decoration-color: #808000\"> 0           </span>│\n",
       "│<span style=\"color: #008080; text-decoration-color: #008080\"> Average Tokens per Request </span>│<span style=\"color: #808000; text-decoration-color: #808000\"> 0           </span>│\n",
       "│<span style=\"color: #008080; text-decoration-color: #008080\"> Average Input Tokens       </span>│<span style=\"color: #808000; text-decoration-color: #808000\"> 0           </span>│\n",
       "│<span style=\"color: #008080; text-decoration-color: #008080\"> Average Output Tokens      </span>│<span style=\"color: #808000; text-decoration-color: #808000\"> 0           </span>│\n",
       "│<span style=\"color: #800080; text-decoration-color: #800080; font-weight: bold\"> Costs                      </span>│<span style=\"color: #800080; text-decoration-color: #800080; font-weight: bold\">             </span>│\n",
       "│<span style=\"color: #008080; text-decoration-color: #008080\"> Total Cost                 </span>│<span style=\"color: #808000; text-decoration-color: #808000\"> </span><span style=\"color: #800000; text-decoration-color: #800000\">$0.125</span><span style=\"color: #808000; text-decoration-color: #808000\">      </span>│\n",
       "│<span style=\"color: #008080; text-decoration-color: #008080\"> Average Cost per Request   </span>│<span style=\"color: #808000; text-decoration-color: #808000\"> </span><span style=\"color: #800000; text-decoration-color: #800000\">$0.001</span><span style=\"color: #808000; text-decoration-color: #808000\">      </span>│\n",
       "│<span style=\"color: #008080; text-decoration-color: #008080\"> Input Cost per 1M Tokens   </span>│<span style=\"color: #808000; text-decoration-color: #808000\"> </span><span style=\"color: #800000; text-decoration-color: #800000\">$0.150</span><span style=\"color: #808000; text-decoration-color: #808000\">      </span>│\n",
       "│<span style=\"color: #008080; text-decoration-color: #008080\"> Output Cost per 1M Tokens  </span>│<span style=\"color: #808000; text-decoration-color: #808000\"> </span><span style=\"color: #800000; text-decoration-color: #800000\">$0.600</span><span style=\"color: #808000; text-decoration-color: #808000\">      </span>│\n",
       "│<span style=\"color: #800080; text-decoration-color: #800080; font-weight: bold\"> Performance                </span>│<span style=\"color: #800080; text-decoration-color: #800080; font-weight: bold\">             </span>│\n",
       "│<span style=\"color: #008080; text-decoration-color: #008080\"> Total Time                 </span>│<span style=\"color: #808000; text-decoration-color: #808000\"> 139.77s     </span>│\n",
       "│<span style=\"color: #008080; text-decoration-color: #008080\"> Average Time per Request   </span>│<span style=\"color: #808000; text-decoration-color: #808000\"> 0.93s       </span>│\n",
       "│<span style=\"color: #008080; text-decoration-color: #008080\"> Requests per Minute        </span>│<span style=\"color: #808000; text-decoration-color: #808000\"> 64.4        </span>│\n",
       "│<span style=\"color: #008080; text-decoration-color: #008080\"> Max Concurrent Requests    </span>│<span style=\"color: #808000; text-decoration-color: #808000\"> 66          </span>│\n",
       "│<span style=\"color: #008080; text-decoration-color: #008080\"> Input Tokens per Minute    </span>│<span style=\"color: #808000; text-decoration-color: #808000\"> 0.0         </span>│\n",
       "│<span style=\"color: #008080; text-decoration-color: #008080\"> Output Tokens per Minute   </span>│<span style=\"color: #808000; text-decoration-color: #808000\"> 0.0         </span>│\n",
       "╰────────────────────────────┴─────────────╯\n",
       "</pre>\n"
      ],
      "text/plain": [
       "\u001b[3m          Final Curator Statistics          \u001b[0m\n",
       "╭────────────────────────────┬─────────────╮\n",
       "│\u001b[1m \u001b[0m\u001b[1mSection/Metric            \u001b[0m\u001b[1m \u001b[0m│\u001b[1m \u001b[0m\u001b[1mValue      \u001b[0m\u001b[1m \u001b[0m│\n",
       "├────────────────────────────┼─────────────┤\n",
       "│\u001b[1;35m \u001b[0m\u001b[1;35mModel                     \u001b[0m\u001b[1;35m \u001b[0m│\u001b[1;35m \u001b[0m\u001b[1;35m           \u001b[0m\u001b[1;35m \u001b[0m│\n",
       "│\u001b[36m \u001b[0m\u001b[36mName                      \u001b[0m\u001b[36m \u001b[0m│\u001b[33m \u001b[0m\u001b[34mgpt-4o-mini\u001b[0m\u001b[33m \u001b[0m│\n",
       "│\u001b[36m \u001b[0m\u001b[36mRate Limit (RPM)          \u001b[0m\u001b[36m \u001b[0m│\u001b[33m \u001b[0m\u001b[34m10000\u001b[0m\u001b[33m      \u001b[0m\u001b[33m \u001b[0m│\n",
       "│\u001b[36m \u001b[0m\u001b[36mRate Limit (TPM)          \u001b[0m\u001b[36m \u001b[0m│\u001b[33m \u001b[0m\u001b[34m200000\u001b[0m\u001b[33m     \u001b[0m\u001b[33m \u001b[0m│\n",
       "│\u001b[1;35m \u001b[0m\u001b[1;35mRequests                  \u001b[0m\u001b[1;35m \u001b[0m│\u001b[1;35m \u001b[0m\u001b[1;35m           \u001b[0m\u001b[1;35m \u001b[0m│\n",
       "│\u001b[36m \u001b[0m\u001b[36mTotal Processed           \u001b[0m\u001b[36m \u001b[0m│\u001b[33m \u001b[0m\u001b[33m150        \u001b[0m\u001b[33m \u001b[0m│\n",
       "│\u001b[36m \u001b[0m\u001b[36mSuccessful                \u001b[0m\u001b[36m \u001b[0m│\u001b[33m \u001b[0m\u001b[32m150\u001b[0m\u001b[33m        \u001b[0m\u001b[33m \u001b[0m│\n",
       "│\u001b[36m \u001b[0m\u001b[36mFailed                    \u001b[0m\u001b[36m \u001b[0m│\u001b[33m \u001b[0m\u001b[31m0\u001b[0m\u001b[33m          \u001b[0m\u001b[33m \u001b[0m│\n",
       "│\u001b[1;35m \u001b[0m\u001b[1;35mTokens                    \u001b[0m\u001b[1;35m \u001b[0m│\u001b[1;35m \u001b[0m\u001b[1;35m           \u001b[0m\u001b[1;35m \u001b[0m│\n",
       "│\u001b[36m \u001b[0m\u001b[36mTotal Tokens Used         \u001b[0m\u001b[36m \u001b[0m│\u001b[33m \u001b[0m\u001b[33m0          \u001b[0m\u001b[33m \u001b[0m│\n",
       "│\u001b[36m \u001b[0m\u001b[36mTotal Input Tokens        \u001b[0m\u001b[36m \u001b[0m│\u001b[33m \u001b[0m\u001b[33m0          \u001b[0m\u001b[33m \u001b[0m│\n",
       "│\u001b[36m \u001b[0m\u001b[36mTotal Output Tokens       \u001b[0m\u001b[36m \u001b[0m│\u001b[33m \u001b[0m\u001b[33m0          \u001b[0m\u001b[33m \u001b[0m│\n",
       "│\u001b[36m \u001b[0m\u001b[36mAverage Tokens per Request\u001b[0m\u001b[36m \u001b[0m│\u001b[33m \u001b[0m\u001b[33m0          \u001b[0m\u001b[33m \u001b[0m│\n",
       "│\u001b[36m \u001b[0m\u001b[36mAverage Input Tokens      \u001b[0m\u001b[36m \u001b[0m│\u001b[33m \u001b[0m\u001b[33m0          \u001b[0m\u001b[33m \u001b[0m│\n",
       "│\u001b[36m \u001b[0m\u001b[36mAverage Output Tokens     \u001b[0m\u001b[36m \u001b[0m│\u001b[33m \u001b[0m\u001b[33m0          \u001b[0m\u001b[33m \u001b[0m│\n",
       "│\u001b[1;35m \u001b[0m\u001b[1;35mCosts                     \u001b[0m\u001b[1;35m \u001b[0m│\u001b[1;35m \u001b[0m\u001b[1;35m           \u001b[0m\u001b[1;35m \u001b[0m│\n",
       "│\u001b[36m \u001b[0m\u001b[36mTotal Cost                \u001b[0m\u001b[36m \u001b[0m│\u001b[33m \u001b[0m\u001b[31m$0.125\u001b[0m\u001b[33m     \u001b[0m\u001b[33m \u001b[0m│\n",
       "│\u001b[36m \u001b[0m\u001b[36mAverage Cost per Request  \u001b[0m\u001b[36m \u001b[0m│\u001b[33m \u001b[0m\u001b[31m$0.001\u001b[0m\u001b[33m     \u001b[0m\u001b[33m \u001b[0m│\n",
       "│\u001b[36m \u001b[0m\u001b[36mInput Cost per 1M Tokens  \u001b[0m\u001b[36m \u001b[0m│\u001b[33m \u001b[0m\u001b[31m$0.150\u001b[0m\u001b[33m     \u001b[0m\u001b[33m \u001b[0m│\n",
       "│\u001b[36m \u001b[0m\u001b[36mOutput Cost per 1M Tokens \u001b[0m\u001b[36m \u001b[0m│\u001b[33m \u001b[0m\u001b[31m$0.600\u001b[0m\u001b[33m     \u001b[0m\u001b[33m \u001b[0m│\n",
       "│\u001b[1;35m \u001b[0m\u001b[1;35mPerformance               \u001b[0m\u001b[1;35m \u001b[0m│\u001b[1;35m \u001b[0m\u001b[1;35m           \u001b[0m\u001b[1;35m \u001b[0m│\n",
       "│\u001b[36m \u001b[0m\u001b[36mTotal Time                \u001b[0m\u001b[36m \u001b[0m│\u001b[33m \u001b[0m\u001b[33m139.77s    \u001b[0m\u001b[33m \u001b[0m│\n",
       "│\u001b[36m \u001b[0m\u001b[36mAverage Time per Request  \u001b[0m\u001b[36m \u001b[0m│\u001b[33m \u001b[0m\u001b[33m0.93s      \u001b[0m\u001b[33m \u001b[0m│\n",
       "│\u001b[36m \u001b[0m\u001b[36mRequests per Minute       \u001b[0m\u001b[36m \u001b[0m│\u001b[33m \u001b[0m\u001b[33m64.4       \u001b[0m\u001b[33m \u001b[0m│\n",
       "│\u001b[36m \u001b[0m\u001b[36mMax Concurrent Requests   \u001b[0m\u001b[36m \u001b[0m│\u001b[33m \u001b[0m\u001b[33m66         \u001b[0m\u001b[33m \u001b[0m│\n",
       "│\u001b[36m \u001b[0m\u001b[36mInput Tokens per Minute   \u001b[0m\u001b[36m \u001b[0m│\u001b[33m \u001b[0m\u001b[33m0.0        \u001b[0m\u001b[33m \u001b[0m│\n",
       "│\u001b[36m \u001b[0m\u001b[36mOutput Tokens per Minute  \u001b[0m\u001b[36m \u001b[0m│\u001b[33m \u001b[0m\u001b[33m0.0        \u001b[0m\u001b[33m \u001b[0m│\n",
       "╰────────────────────────────┴─────────────╯\n"
      ]
     },
     "metadata": {},
     "output_type": "display_data"
    },
    {
     "data": {
      "text/html": [
       "<pre style=\"white-space:pre;overflow-x:auto;line-height:normal;font-family:Menlo,'DejaVu Sans Mono',consolas,'Courier New',monospace\"><span style=\"color: #7fbfbf; text-decoration-color: #7fbfbf\">[04/25/25 10:22:20] </span><span style=\"color: #000080; text-decoration-color: #000080\">INFO    </span> Processing complete. Results saved to             <a href=\"file:///opt/anaconda3/envs/gen/lib/python3.13/site-packages/bespokelabs/curator/request_processor/online/base_online_request_processor.py\" target=\"_blank\"><span style=\"color: #7f7f7f; text-decoration-color: #7f7f7f\">base_online_request_processor.py</span></a><span style=\"color: #7f7f7f; text-decoration-color: #7f7f7f\">:</span><a href=\"file:///opt/anaconda3/envs/gen/lib/python3.13/site-packages/bespokelabs/curator/request_processor/online/base_online_request_processor.py#451\" target=\"_blank\"><span style=\"color: #7f7f7f; text-decoration-color: #7f7f7f\">451</span></a>\n",
       "<span style=\"color: #7fbfbf; text-decoration-color: #7fbfbf\">                    </span>         <span style=\"color: #800080; text-decoration-color: #800080\">/Users/kenneth.hamilton/.cache/curator/5d1062ce9b</span> <span style=\"color: #7f7f7f; text-decoration-color: #7f7f7f\">                                    </span>\n",
       "<span style=\"color: #7fbfbf; text-decoration-color: #7fbfbf\">                    </span>         <span style=\"color: #800080; text-decoration-color: #800080\">8d99fe/</span><span style=\"color: #ff00ff; text-decoration-color: #ff00ff\">responses_0.jsonl</span>                          <span style=\"color: #7f7f7f; text-decoration-color: #7f7f7f\">                                    </span>\n",
       "</pre>\n"
      ],
      "text/plain": [
       "\u001b[2;36m[04/25/25 10:22:20]\u001b[0m\u001b[2;36m \u001b[0m\u001b[34mINFO    \u001b[0m Processing complete. Results saved to             \u001b]8;id=953042;file:///opt/anaconda3/envs/gen/lib/python3.13/site-packages/bespokelabs/curator/request_processor/online/base_online_request_processor.py\u001b\\\u001b[2mbase_online_request_processor.py\u001b[0m\u001b]8;;\u001b\\\u001b[2m:\u001b[0m\u001b]8;id=918690;file:///opt/anaconda3/envs/gen/lib/python3.13/site-packages/bespokelabs/curator/request_processor/online/base_online_request_processor.py#451\u001b\\\u001b[2m451\u001b[0m\u001b]8;;\u001b\\\n",
       "\u001b[2;36m                    \u001b[0m         \u001b[35m/Users/kenneth.hamilton/.cache/curator/5d1062ce9b\u001b[0m \u001b[2m                                    \u001b[0m\n",
       "\u001b[2;36m                    \u001b[0m         \u001b[35m8d99fe/\u001b[0m\u001b[95mresponses_0.jsonl\u001b[0m                          \u001b[2m                                    \u001b[0m\n"
      ]
     },
     "metadata": {},
     "output_type": "display_data"
    },
    {
     "data": {
      "text/html": [
       "<pre style=\"white-space:pre;overflow-x:auto;line-height:normal;font-family:Menlo,'DejaVu Sans Mono',consolas,'Courier New',monospace\"><span style=\"color: #7fbfbf; text-decoration-color: #7fbfbf\">                    </span><span style=\"color: #000080; text-decoration-color: #000080\">INFO    </span> Status tracker: Tasks - Started: <span style=\"color: #008080; text-decoration-color: #008080; font-weight: bold\">150</span>, In          <a href=\"file:///opt/anaconda3/envs/gen/lib/python3.13/site-packages/bespokelabs/curator/request_processor/online/base_online_request_processor.py\" target=\"_blank\"><span style=\"color: #7f7f7f; text-decoration-color: #7f7f7f\">base_online_request_processor.py</span></a><span style=\"color: #7f7f7f; text-decoration-color: #7f7f7f\">:</span><a href=\"file:///opt/anaconda3/envs/gen/lib/python3.13/site-packages/bespokelabs/curator/request_processor/online/base_online_request_processor.py#452\" target=\"_blank\"><span style=\"color: #7f7f7f; text-decoration-color: #7f7f7f\">452</span></a>\n",
       "<span style=\"color: #7fbfbf; text-decoration-color: #7fbfbf\">                    </span>         Progress: <span style=\"color: #008080; text-decoration-color: #008080; font-weight: bold\">0</span>, Succeeded: <span style=\"color: #008080; text-decoration-color: #008080; font-weight: bold\">150</span>, Failed: <span style=\"color: #008080; text-decoration-color: #008080; font-weight: bold\">0</span>, Already   <span style=\"color: #7f7f7f; text-decoration-color: #7f7f7f\">                                    </span>\n",
       "<span style=\"color: #7fbfbf; text-decoration-color: #7fbfbf\">                    </span>         Completed: <span style=\"color: #008080; text-decoration-color: #008080; font-weight: bold\">0</span>                                      <span style=\"color: #7f7f7f; text-decoration-color: #7f7f7f\">                                    </span>\n",
       "<span style=\"color: #7fbfbf; text-decoration-color: #7fbfbf\">                    </span>         Errors - API: <span style=\"color: #008080; text-decoration-color: #008080; font-weight: bold\">0</span>, Rate Limit: <span style=\"color: #008080; text-decoration-color: #008080; font-weight: bold\">0</span>, Other: <span style=\"color: #008080; text-decoration-color: #008080; font-weight: bold\">1</span>, Total:  <span style=\"color: #7f7f7f; text-decoration-color: #7f7f7f\">                                    </span>\n",
       "<span style=\"color: #7fbfbf; text-decoration-color: #7fbfbf\">                    </span>         <span style=\"color: #008080; text-decoration-color: #008080; font-weight: bold\">1</span>                                                 <span style=\"color: #7f7f7f; text-decoration-color: #7f7f7f\">                                    </span>\n",
       "</pre>\n"
      ],
      "text/plain": [
       "\u001b[2;36m                   \u001b[0m\u001b[2;36m \u001b[0m\u001b[34mINFO    \u001b[0m Status tracker: Tasks - Started: \u001b[1;36m150\u001b[0m, In          \u001b]8;id=451083;file:///opt/anaconda3/envs/gen/lib/python3.13/site-packages/bespokelabs/curator/request_processor/online/base_online_request_processor.py\u001b\\\u001b[2mbase_online_request_processor.py\u001b[0m\u001b]8;;\u001b\\\u001b[2m:\u001b[0m\u001b]8;id=975106;file:///opt/anaconda3/envs/gen/lib/python3.13/site-packages/bespokelabs/curator/request_processor/online/base_online_request_processor.py#452\u001b\\\u001b[2m452\u001b[0m\u001b]8;;\u001b\\\n",
       "\u001b[2;36m                    \u001b[0m         Progress: \u001b[1;36m0\u001b[0m, Succeeded: \u001b[1;36m150\u001b[0m, Failed: \u001b[1;36m0\u001b[0m, Already   \u001b[2m                                    \u001b[0m\n",
       "\u001b[2;36m                    \u001b[0m         Completed: \u001b[1;36m0\u001b[0m                                      \u001b[2m                                    \u001b[0m\n",
       "\u001b[2;36m                    \u001b[0m         Errors - API: \u001b[1;36m0\u001b[0m, Rate Limit: \u001b[1;36m0\u001b[0m, Other: \u001b[1;36m1\u001b[0m, Total:  \u001b[2m                                    \u001b[0m\n",
       "\u001b[2;36m                    \u001b[0m         \u001b[1;36m1\u001b[0m                                                 \u001b[2m                                    \u001b[0m\n"
      ]
     },
     "metadata": {},
     "output_type": "display_data"
    },
    {
     "data": {
      "text/html": [
       "<pre style=\"white-space:pre;overflow-x:auto;line-height:normal;font-family:Menlo,'DejaVu Sans Mono',consolas,'Courier New',monospace\"><span style=\"color: #7fbfbf; text-decoration-color: #7fbfbf\">                    </span><span style=\"color: #000080; text-decoration-color: #000080\">INFO    </span> Read <span style=\"color: #008080; text-decoration-color: #008080; font-weight: bold\">150</span> responses.                                      <a href=\"file:///opt/anaconda3/envs/gen/lib/python3.13/site-packages/bespokelabs/curator/request_processor/base_request_processor.py\" target=\"_blank\"><span style=\"color: #7f7f7f; text-decoration-color: #7f7f7f\">base_request_processor.py</span></a><span style=\"color: #7f7f7f; text-decoration-color: #7f7f7f\">:</span><a href=\"file:///opt/anaconda3/envs/gen/lib/python3.13/site-packages/bespokelabs/curator/request_processor/base_request_processor.py#442\" target=\"_blank\"><span style=\"color: #7f7f7f; text-decoration-color: #7f7f7f\">442</span></a>\n",
       "</pre>\n"
      ],
      "text/plain": [
       "\u001b[2;36m                   \u001b[0m\u001b[2;36m \u001b[0m\u001b[34mINFO    \u001b[0m Read \u001b[1;36m150\u001b[0m responses.                                      \u001b]8;id=40625;file:///opt/anaconda3/envs/gen/lib/python3.13/site-packages/bespokelabs/curator/request_processor/base_request_processor.py\u001b\\\u001b[2mbase_request_processor.py\u001b[0m\u001b]8;;\u001b\\\u001b[2m:\u001b[0m\u001b]8;id=738144;file:///opt/anaconda3/envs/gen/lib/python3.13/site-packages/bespokelabs/curator/request_processor/base_request_processor.py#442\u001b\\\u001b[2m442\u001b[0m\u001b]8;;\u001b\\\n"
      ]
     },
     "metadata": {},
     "output_type": "display_data"
    },
    {
     "data": {
      "text/html": [
       "<pre style=\"white-space:pre;overflow-x:auto;line-height:normal;font-family:Menlo,'DejaVu Sans Mono',consolas,'Courier New',monospace\"><span style=\"color: #7fbfbf; text-decoration-color: #7fbfbf\">                    </span><span style=\"color: #000080; text-decoration-color: #000080\">INFO    </span> Finalizing writer                                        <a href=\"file:///opt/anaconda3/envs/gen/lib/python3.13/site-packages/bespokelabs/curator/request_processor/base_request_processor.py\" target=\"_blank\"><span style=\"color: #7f7f7f; text-decoration-color: #7f7f7f\">base_request_processor.py</span></a><span style=\"color: #7f7f7f; text-decoration-color: #7f7f7f\">:</span><a href=\"file:///opt/anaconda3/envs/gen/lib/python3.13/site-packages/bespokelabs/curator/request_processor/base_request_processor.py#451\" target=\"_blank\"><span style=\"color: #7f7f7f; text-decoration-color: #7f7f7f\">451</span></a>\n",
       "</pre>\n"
      ],
      "text/plain": [
       "\u001b[2;36m                   \u001b[0m\u001b[2;36m \u001b[0m\u001b[34mINFO    \u001b[0m Finalizing writer                                        \u001b]8;id=44532;file:///opt/anaconda3/envs/gen/lib/python3.13/site-packages/bespokelabs/curator/request_processor/base_request_processor.py\u001b\\\u001b[2mbase_request_processor.py\u001b[0m\u001b]8;;\u001b\\\u001b[2m:\u001b[0m\u001b]8;id=411694;file:///opt/anaconda3/envs/gen/lib/python3.13/site-packages/bespokelabs/curator/request_processor/base_request_processor.py#451\u001b\\\u001b[2m451\u001b[0m\u001b]8;;\u001b\\\n"
      ]
     },
     "metadata": {},
     "output_type": "display_data"
    },
    {
     "data": {
      "text/html": [
       "<pre style=\"white-space:pre;overflow-x:auto;line-height:normal;font-family:Menlo,'DejaVu Sans Mono',consolas,'Courier New',monospace\"><span style=\"color: #7fbfbf; text-decoration-color: #7fbfbf\">                    </span><span style=\"color: #000080; text-decoration-color: #000080\">INFO    </span> Creating a file with all failed requests                 <a href=\"file:///opt/anaconda3/envs/gen/lib/python3.13/site-packages/bespokelabs/curator/request_processor/base_request_processor.py\" target=\"_blank\"><span style=\"color: #7f7f7f; text-decoration-color: #7f7f7f\">base_request_processor.py</span></a><span style=\"color: #7f7f7f; text-decoration-color: #7f7f7f\">:</span><a href=\"file:///opt/anaconda3/envs/gen/lib/python3.13/site-packages/bespokelabs/curator/request_processor/base_request_processor.py#460\" target=\"_blank\"><span style=\"color: #7f7f7f; text-decoration-color: #7f7f7f\">460</span></a>\n",
       "</pre>\n"
      ],
      "text/plain": [
       "\u001b[2;36m                   \u001b[0m\u001b[2;36m \u001b[0m\u001b[34mINFO    \u001b[0m Creating a file with all failed requests                 \u001b]8;id=463757;file:///opt/anaconda3/envs/gen/lib/python3.13/site-packages/bespokelabs/curator/request_processor/base_request_processor.py\u001b\\\u001b[2mbase_request_processor.py\u001b[0m\u001b]8;;\u001b\\\u001b[2m:\u001b[0m\u001b]8;id=858530;file:///opt/anaconda3/envs/gen/lib/python3.13/site-packages/bespokelabs/curator/request_processor/base_request_processor.py#460\u001b\\\u001b[2m460\u001b[0m\u001b]8;;\u001b\\\n"
      ]
     },
     "metadata": {},
     "output_type": "display_data"
    },
    {
     "data": {
      "text/html": [
       "<pre style=\"white-space:pre;overflow-x:auto;line-height:normal;font-family:Menlo,'DejaVu Sans Mono',consolas,'Courier New',monospace\"><span style=\"color: #7fbfbf; text-decoration-color: #7fbfbf\">                    </span><span style=\"color: #000080; text-decoration-color: #000080\">INFO    </span> Created file with failed requests at                     <a href=\"file:///opt/anaconda3/envs/gen/lib/python3.13/site-packages/bespokelabs/curator/request_processor/base_request_processor.py\" target=\"_blank\"><span style=\"color: #7f7f7f; text-decoration-color: #7f7f7f\">base_request_processor.py</span></a><span style=\"color: #7f7f7f; text-decoration-color: #7f7f7f\">:</span><a href=\"file:///opt/anaconda3/envs/gen/lib/python3.13/site-packages/bespokelabs/curator/request_processor/base_request_processor.py#488\" target=\"_blank\"><span style=\"color: #7f7f7f; text-decoration-color: #7f7f7f\">488</span></a>\n",
       "<span style=\"color: #7fbfbf; text-decoration-color: #7fbfbf\">                    </span>         <span style=\"color: #800080; text-decoration-color: #800080\">/Users/kenneth.hamilton/.cache/curator/5d1062ce9b8d99fe/</span> <span style=\"color: #7f7f7f; text-decoration-color: #7f7f7f\">                             </span>\n",
       "<span style=\"color: #7fbfbf; text-decoration-color: #7fbfbf\">                    </span>         <span style=\"color: #ff00ff; text-decoration-color: #ff00ff\">failed_requests.jsonl</span>                                    <span style=\"color: #7f7f7f; text-decoration-color: #7f7f7f\">                             </span>\n",
       "</pre>\n"
      ],
      "text/plain": [
       "\u001b[2;36m                   \u001b[0m\u001b[2;36m \u001b[0m\u001b[34mINFO    \u001b[0m Created file with failed requests at                     \u001b]8;id=32442;file:///opt/anaconda3/envs/gen/lib/python3.13/site-packages/bespokelabs/curator/request_processor/base_request_processor.py\u001b\\\u001b[2mbase_request_processor.py\u001b[0m\u001b]8;;\u001b\\\u001b[2m:\u001b[0m\u001b]8;id=797406;file:///opt/anaconda3/envs/gen/lib/python3.13/site-packages/bespokelabs/curator/request_processor/base_request_processor.py#488\u001b\\\u001b[2m488\u001b[0m\u001b]8;;\u001b\\\n",
       "\u001b[2;36m                    \u001b[0m         \u001b[35m/Users/kenneth.hamilton/.cache/curator/5d1062ce9b8d99fe/\u001b[0m \u001b[2m                             \u001b[0m\n",
       "\u001b[2;36m                    \u001b[0m         \u001b[95mfailed_requests.jsonl\u001b[0m                                    \u001b[2m                             \u001b[0m\n"
      ]
     },
     "metadata": {},
     "output_type": "display_data"
    }
   ],
   "source": [
    "# Generate 150 scenario prompts with unique indices\n",
    "inputs = [{\"index\": i + 1} for i in range(150)]\n",
    "\n",
    "# Use the generator to process all inputs\n",
    "scenarios = generator(inputs)\n"
   ]
  },
  {
   "cell_type": "code",
   "execution_count": 5,
   "id": "1484bc51",
   "metadata": {},
   "outputs": [
    {
     "name": "stdout",
     "output_type": "stream",
     "text": [
      "Scenario #101:\n",
      "\n",
      "#101 - Tactical Military Scenario\n",
      "\n",
      "## SCENARIO OVERVIEW:\n",
      "- **Narrative Context:** In 2024, tensions escalate in the Baltics as a major political rift opens between NATO member states and a resurgent Russia. Following a border skirmish, Russian forces have established a fortified foothold in Estonia, threatening the sovereignty of neighboring NATO allies. The blue force (NATO) aims to reclaim territory and deter further incursions while ensuring regional stability.\n",
      "- **Time Parameters:** Year: 2024, Time of Day: early morning (0600 hours), Season: early spring.\n",
      "- **Duration of Engagement:** Expected duration is 72 hours, with immediate engagements anticipated as forces close in \n",
      "\n",
      "## TERRAIN ANALYSIS:\n",
      "- **Primary Terrain Type:** Mixed urban/wooded terrain transitioning towards open fields.\n",
      "- **Key Terrain Features:** \n",
      "   - Elevation change at a hillock near the town of Tartu, providing overwatch.\n",
      "   - Choke points identified on the main access routes to the city, particularly narrow bridges over rivers and wooded paths prone to ambush.\n",
      "   - Casual concealment in the urban areas with buildings providing cover and firing positions.\n",
      "- **Mobility Corridors and Obstacles:** Main roads from Tallinn to Tartu serve as mobility corridors; however, multiple river tributaries and dense forests create obstacles that will necessitate route planning.\n",
      "- **Weather Conditions and Visibility:** Morning fog reducing visibility to approximately 200 meters; temperatures close to 5 degrees Celsius, with wet conditions affecting mobility and potential for vehicles to become bogged down.\n",
      "- **Civilian Presence and Infrastructure:** The area has a civilian population concentrated in urban centers with major transport infrastructure (bridges, roads), which may complicate tactical maneuvers due to potential collateral damage concerns.\n",
      "\n",
      "## FORCE COMPOSITION:\n",
      "### BLUE FORCE (Friendly/Attacker):\n",
      "- **Unit Type/Size/Organization:** 2,000 NATO troops, composed of a mechanized infantry brigade (3 battalions, 1 armored company). \n",
      "- **Weapons Systems:** Small arms (M4, SCAR), crew-served (TOW missile systems, MG3 machine guns), armored (Leopard 2 tanks), air support (A-10 airstrikes, drone reconnaissance), artillery (M777 howitzers) deployed behind the lines.\n",
      "- **Logistics Status:** Supply lines established from Tallinn are secure for the initial phases; ammunition is adequate, but fuel levels are tracking low due to delayed resupply. Medical facilities are set up at field bases.\n",
      "- **Communications Capabilities:** Secured communications with some reliance on satellite; encryption is in place to prevent enemy interception.\n",
      "- **Training Level and Experience:** Forces are well-trained with recent NATO integration exercises; high combat readiness is exhibited. \n",
      "- **Morale and Emotional State:** Morale is high at the outset due to the presence of NATO allies, though concern exists about prolonged engagement and casualty risks.\n",
      "\n",
      "### RED FORCE (Enemy/Defender):\n",
      "- **Unit Type/Size/Organization:** 1,000 Russian troops with a battalion-level structure, including unsupported special operations forces (Spetsnaz) employed in flank roles.\n",
      "- **Weapons Systems and Capabilities:** Small arms (AK-74M), crew-served (PKM machine guns), armored (T-72B tanks), artillery (2S19 self-propelled howitzers), limited air support (MIG-29 fighters).\n",
      "- **Defensive Preparations:** Extensive fortifications established around urban centers; use of IEDs and obstacles in choke points; ambush positions set in the wooded areas, covering the routes between nodes.\n",
      "- **Known Logistics Status:** Supplies are reported sufficient but vulnerable to isolation if NATO forces secure key terrain.\n",
      "- **Training Level and Experience:** Soldiers have recent combat experience in hybrid warfare; mixed proficiency levels noted among regular troops versus elite Spetsnaz. \n",
      "- **Morale and Emotional State:** Morale among regular troops is low, with a decline in confidence following recent setbacks against NATO exercises but high among Spetsnaz forces.\n",
      "\n",
      "## TACTICAL PARAMETERS:\n",
      "- **Current Phase of Operation:** NATO forces are in the approach phase, preparing for an attack on fortified positions in Tartu. \n",
      "- **Known Intelligence on Enemy Positions/Dispositions:** Satellite imagery indicates strong defensive preparations; however, troop numbers appear fewer than expected, with some units reported overstretched.\n",
      "- **Rules of Engagement Constraints:** ROE mandates minimal collateral damage to civilians; any strike on urban areas requires direct authorization.\n",
      "- **Potential COA (Courses of Action) for Both Sides:** \n",
      "  - **Blue Force COA:** Conduct a two-pronged attack with mechanized units using terrain to advantage; deploy air support to suppress regional enemy capabilities.\n",
      "  - **Red Force COA:** Focus on delaying actions, use of ambushes at choke points to inflict attrition on attacking forces.\n",
      "\n",
      "## DECISION POINTS:\n",
      "- **Critical Tactical Decisions Required:** \n",
      "  1. Determine the timing and execution of the main assault vs. diversionary actions to stretch enemy defenses.\n",
      "  2. Decision whether to utilize air strikes early to soften defenses or proceed with ground engagement to maintain a lower operational footprint.\n",
      "  3. Establish whether to attempt civilian evacuations, potentially plummeting morale among troops and complicating operations.\n",
      "- **Key Variables Affecting Outcomes:** Enemy troop movements (dispersal/concentration), civilian presence affecting ROE, weather conditions impacting visibility and mobility.\n",
      "- **Potential Second-Order Effects:** Striking civilian infrastructure may lead to international condemnation and impact regional support for NATO forces; heavy losses on either side could shift public support and political resolve.\n"
     ]
    }
   ],
   "source": [
    "# Pick and print one scenario at random for review\n",
    "random_scenario = random.choice(scenarios)\n",
    "print(f\"Scenario #{random_scenario['index']}:\\n\\n{random_scenario['scenario_description']}\")\n"
   ]
  },
  {
   "cell_type": "code",
   "execution_count": 6,
   "id": "1fc6d29c",
   "metadata": {},
   "outputs": [],
   "source": [
    "from together import Together\n",
    "\n",
    "load_dotenv()\n",
    "os.environ[\"TOGETHER_API_KEY\"] = os.getenv(\"TOGETHER_API_KEY\")\n",
    "\n",
    "client = Together(api_key=os.environ[\"TOGETHER_API_KEY\"])\n"
   ]
  },
  {
   "cell_type": "code",
   "execution_count": 7,
   "id": "7d935b5b",
   "metadata": {},
   "outputs": [
    {
     "name": "stderr",
     "output_type": "stream",
     "text": [
      "Generating Reasoning with DeepSeek:  42%|████▏     | 63/150 [1:28:59<2:11:14, 90.52s/it] "
     ]
    },
    {
     "name": "stdout",
     "output_type": "stream",
     "text": [
      "⚠️ Error on scenario 64 (attacker): Error communicating with API: ('Connection aborted.', RemoteDisconnected('Remote end closed connection without response'))\n",
      "⏱️ Retrying after 60 seconds...\n"
     ]
    },
    {
     "name": "stderr",
     "output_type": "stream",
     "text": [
      "Generating Reasoning with DeepSeek:  81%|████████▏ | 122/150 [2:57:23<31:29, 67.47s/it]  "
     ]
    },
    {
     "name": "stdout",
     "output_type": "stream",
     "text": [
      "⚠️ Error on scenario 123 (defender): Error code: 429 - {\"message\": \"You are on tier Build Tier 1, which offers 3 queries and 180000 tokens per minute for this model. Please upgrade to higher tier for higher rate limit at https://api.together.xyz/settings/billing.\", \"type_\": \"model_rate_limit\"}\n",
      "⏱️ Retrying after 60 seconds...\n"
     ]
    },
    {
     "name": "stderr",
     "output_type": "stream",
     "text": [
      "Generating Reasoning with DeepSeek:  82%|████████▏ | 123/150 [2:59:51<41:16, 91.70s/it]"
     ]
    },
    {
     "name": "stdout",
     "output_type": "stream",
     "text": [
      "⚠️ Error on scenario 124 (attacker): Error code: 429 - {\"message\": \"You are on tier Build Tier 1, which offers 3 queries and 180000 tokens per minute for this model. Please upgrade to higher tier for higher rate limit at https://api.together.xyz/settings/billing.\", \"type_\": \"model_rate_limit\"}\n",
      "⏱️ Retrying after 60 seconds...\n",
      "❌ Retry failed on scenario 124 (attacker): Error code: 429 - {\"message\": \"You are on tier Build Tier 1, which offers 3 queries and 180000 tokens per minute for this model. Please upgrade to higher tier for higher rate limit at https://api.together.xyz/settings/billing.\", \"type_\": \"model_rate_limit\"}\n"
     ]
    },
    {
     "name": "stderr",
     "output_type": "stream",
     "text": [
      "Generating Reasoning with DeepSeek: 100%|██████████| 150/150 [3:31:41<00:00, 84.68s/it] \n"
     ]
    }
   ],
   "source": [
    "import time\n",
    "from tqdm import tqdm\n",
    "from collections import deque\n",
    "\n",
    "# Together rate limiting setup\n",
    "max_qpm = 60\n",
    "window_seconds = 60\n",
    "request_timestamps = deque()\n",
    "\n",
    "# Optional performance logging\n",
    "response_times = []\n",
    "token_lengths = []\n",
    "token_limit_hits = []\n",
    "error_count = 0\n",
    "max_tokens = 2048\n",
    "\n",
    "# Output storage\n",
    "attack_reasonings = []\n",
    "defense_reasonings = []\n",
    "\n",
    "# Loop through all scenarios\n",
    "for scenario in tqdm(scenarios, desc=\"Generating Reasoning with DeepSeek\"):\n",
    "    idx = scenario[\"index\"]\n",
    "    description = scenario[\"scenario_description\"]\n",
    "\n",
    "    for side in [\"attacker\", \"defender\"]:\n",
    "        prompt = f\"\"\"\n",
    "<think>\n",
    "You are a tactical reasoning model. Do not provide final strategies. Only explain the internal tactical reasoning process for the {side.upper()} in the scenario below.\n",
    "\n",
    "Scenario:\n",
    "{description}\n",
    "\n",
    "Do not describe the other side. Think only from the perspective of the {side.upper()}.\n",
    "\n",
    "</think>\n",
    "\"\"\".strip()\n",
    "\n",
    "        # Rate limit enforcement\n",
    "        now = time.time()\n",
    "        request_timestamps.append(now)\n",
    "        while len(request_timestamps) > max_qpm:\n",
    "            if now - request_timestamps[0] < window_seconds:\n",
    "                sleep_time = window_seconds - (now - request_timestamps[0])\n",
    "                print(f\"⏳ Rate limit hit — sleeping {sleep_time:.1f}s...\")\n",
    "                time.sleep(sleep_time)\n",
    "            else:\n",
    "                request_timestamps.popleft()\n",
    "\n",
    "        # Primary attempt\n",
    "        try:\n",
    "            req_start = time.time()\n",
    "            response = client.chat.completions.create(\n",
    "                model=\"deepseek-ai/DeepSeek-R1\",\n",
    "                messages=[{\"role\": \"user\", \"content\": prompt}],\n",
    "                stop=[\"</think>\"],\n",
    "                max_tokens=max_tokens\n",
    "            )\n",
    "            req_end = time.time()\n",
    "            response_times.append(req_end - req_start)\n",
    "\n",
    "            text = response.choices[0].message.content.strip()\n",
    "            clean_text = text.replace(\"\\n\", \" \").replace(\"\\r\", \" \").strip() + \" </think>\"\n",
    "\n",
    "        # Retry on error\n",
    "        except Exception as e:\n",
    "            error_count += 1\n",
    "            print(f\"⚠️ Error on scenario {idx} ({side}): {e}\")\n",
    "            print(\"⏱️ Retrying after 60 seconds...\")\n",
    "            time.sleep(60)\n",
    "            try:\n",
    "                retry_start = time.time()\n",
    "                response = client.chat.completions.create(\n",
    "                    model=\"deepseek-ai/DeepSeek-R1\",\n",
    "                    messages=[{\"role\": \"user\", \"content\": prompt}],\n",
    "                    stop=[\"</think>\"],\n",
    "                    max_tokens=max_tokens\n",
    "                )\n",
    "                retry_end = time.time()\n",
    "                response_times.append(retry_end - retry_start)\n",
    "\n",
    "                text = response.choices[0].message.content.strip()\n",
    "                clean_text = text.replace(\"\\n\", \" \").replace(\"\\r\", \" \").strip() + \" </think>\"\n",
    "\n",
    "            except Exception as e2:\n",
    "                error_count += 1\n",
    "                print(f\"❌ Retry failed on scenario {idx} ({side}): {e2}\")\n",
    "                clean_text = \"<think>Error generating reasoning</think>\"\n",
    "                response_times.append(0.0)\n",
    "\n",
    "        # Save result\n",
    "        if side == \"attacker\":\n",
    "            attack_reasonings.append(clean_text)\n",
    "        else:\n",
    "            defense_reasonings.append(clean_text)\n"
   ]
  },
  {
   "cell_type": "code",
   "execution_count": 10,
   "id": "d01565f0",
   "metadata": {},
   "outputs": [
    {
     "name": "stdout",
     "output_type": "stream",
     "text": [
      "Scenario #101:\n",
      "\n",
      "#101 - Tactical Military Scenario\n",
      "\n",
      "## SCENARIO OVERVIEW:\n",
      "- **Narrative Context:** In 2024, tensions escalate in the Baltics as a major political rift opens between NATO member states and a resurgent Russia. Following a border skirmish, Russian forces have established a fortified foothold in Estonia, threatening the sovereignty of neighboring NATO allies. The blue force (NATO) aims to reclaim territory and deter further incursions while ensuring regional stability.\n",
      "- **Time Parameters:** Year: 2024, Time of Day: early morning (0600 hours), Season: early spring.\n",
      "- **Duration of Engagement:** Expected duration is 72 hours, with immediate engagements anticipated as forces close in \n",
      "\n",
      "## TERRAIN ANALYSIS:\n",
      "- **Primary Terrain Type:** Mixed urban/wooded terrain transitioning towards open fields.\n",
      "- **Key Terrain Features:** \n",
      "   - Elevation change at a hillock near the town of Tartu, providing overwatch.\n",
      "   - Choke points identified on the main access routes to the city, particularly narrow bridges over rivers and wooded paths prone to ambush.\n",
      "   - Casual concealment in the urban areas with buildings providing cover and firing positions.\n",
      "- **Mobility Corridors and Obstacles:** Main roads from Tallinn to Tartu serve as mobility corridors; however, multiple river tributaries and dense forests create obstacles that will necessitate route planning.\n",
      "- **Weather Conditions and Visibility:** Morning fog reducing visibility to approximately 200 meters; temperatures close to 5 degrees Celsius, with wet conditions affecting mobility and potential for vehicles to become bogged down.\n",
      "- **Civilian Presence and Infrastructure:** The area has a civilian population concentrated in urban centers with major transport infrastructure (bridges, roads), which may complicate tactical maneuvers due to potential collateral damage concerns.\n",
      "\n",
      "## FORCE COMPOSITION:\n",
      "### BLUE FORCE (Friendly/Attacker):\n",
      "- **Unit Type/Size/Organization:** 2,000 NATO troops, composed of a mechanized infantry brigade (3 battalions, 1 armored company). \n",
      "- **Weapons Systems:** Small arms (M4, SCAR), crew-served (TOW missile systems, MG3 machine guns), armored (Leopard 2 tanks), air support (A-10 airstrikes, drone reconnaissance), artillery (M777 howitzers) deployed behind the lines.\n",
      "- **Logistics Status:** Supply lines established from Tallinn are secure for the initial phases; ammunition is adequate, but fuel levels are tracking low due to delayed resupply. Medical facilities are set up at field bases.\n",
      "- **Communications Capabilities:** Secured communications with some reliance on satellite; encryption is in place to prevent enemy interception.\n",
      "- **Training Level and Experience:** Forces are well-trained with recent NATO integration exercises; high combat readiness is exhibited. \n",
      "- **Morale and Emotional State:** Morale is high at the outset due to the presence of NATO allies, though concern exists about prolonged engagement and casualty risks.\n",
      "\n",
      "### RED FORCE (Enemy/Defender):\n",
      "- **Unit Type/Size/Organization:** 1,000 Russian troops with a battalion-level structure, including unsupported special operations forces (Spetsnaz) employed in flank roles.\n",
      "- **Weapons Systems and Capabilities:** Small arms (AK-74M), crew-served (PKM machine guns), armored (T-72B tanks), artillery (2S19 self-propelled howitzers), limited air support (MIG-29 fighters).\n",
      "- **Defensive Preparations:** Extensive fortifications established around urban centers; use of IEDs and obstacles in choke points; ambush positions set in the wooded areas, covering the routes between nodes.\n",
      "- **Known Logistics Status:** Supplies are reported sufficient but vulnerable to isolation if NATO forces secure key terrain.\n",
      "- **Training Level and Experience:** Soldiers have recent combat experience in hybrid warfare; mixed proficiency levels noted among regular troops versus elite Spetsnaz. \n",
      "- **Morale and Emotional State:** Morale among regular troops is low, with a decline in confidence following recent setbacks against NATO exercises but high among Spetsnaz forces.\n",
      "\n",
      "## TACTICAL PARAMETERS:\n",
      "- **Current Phase of Operation:** NATO forces are in the approach phase, preparing for an attack on fortified positions in Tartu. \n",
      "- **Known Intelligence on Enemy Positions/Dispositions:** Satellite imagery indicates strong defensive preparations; however, troop numbers appear fewer than expected, with some units reported overstretched.\n",
      "- **Rules of Engagement Constraints:** ROE mandates minimal collateral damage to civilians; any strike on urban areas requires direct authorization.\n",
      "- **Potential COA (Courses of Action) for Both Sides:** \n",
      "  - **Blue Force COA:** Conduct a two-pronged attack with mechanized units using terrain to advantage; deploy air support to suppress regional enemy capabilities.\n",
      "  - **Red Force COA:** Focus on delaying actions, use of ambushes at choke points to inflict attrition on attacking forces.\n",
      "\n",
      "## DECISION POINTS:\n",
      "- **Critical Tactical Decisions Required:** \n",
      "  1. Determine the timing and execution of the main assault vs. diversionary actions to stretch enemy defenses.\n",
      "  2. Decision whether to utilize air strikes early to soften defenses or proceed with ground engagement to maintain a lower operational footprint.\n",
      "  3. Establish whether to attempt civilian evacuations, potentially plummeting morale among troops and complicating operations.\n",
      "- **Key Variables Affecting Outcomes:** Enemy troop movements (dispersal/concentration), civilian presence affecting ROE, weather conditions impacting visibility and mobility.\n",
      "- **Potential Second-Order Effects:** Striking civilian infrastructure may lead to international condemnation and impact regional support for NATO forces; heavy losses on either side could shift public support and political resolve.\n",
      "\n",
      "--- ATTACK REASONING ---\n",
      "\n",
      "<think> Okay, let's start by understanding the scenario. The attacker is NATO forces trying to reclaim territory in Estonia from Russian forces. The main goal is to take back Tartu, which is fortified. The time is early morning with fog, which affects visibility. The terrain is mixed urban and wooded, with some open fields. There are choke points like bridges and wooded paths that could be ambush sites. Civilians are present, so collateral damage is a concern.  First, the attacker needs to consider the fog. It limits visibility to 200 meters, which can be both a challenge and an opportunity. On one hand, moving troops and vehicles might be harder to detect by the enemy. On the other hand, it could also make coordination and target acquisition difficult. Maybe using thermal imaging or drones could help mitigate this. The fog might lift as the day progresses, so timing the attack to exploit the fog's cover before it dissipates could be crucial.  Next, the terrain. The hillock near Tartu offers overwatch. Securing that high ground early would give NATO a vantage point for artillery or reconnaissance. But the enemy might have anticipated this and fortified it. The urban areas provide cover but also limit vehicle movement. Maybe a combined arms approach: use tanks and mechanized infantry in open areas where they can maneuver, while dismounted infantry clears urban zones. The wooded areas are risky due to potential ambushes. Sending scouts or drones to clear those paths first would be necessary.  Choke points like bridges are a problem. The attacker needs to decide whether to secure them quickly or bypass them. If the bridges are the only viable routes, they might have to deal with IEDs and ambushes. Engineers could be sent ahead to clear obstacles, but that takes time. Alternatively, using smoke screens or suppressive fire while crossing could reduce casualties. But bypassing might involve moving through less predictable terrain, which could slow down the advance.  The enemy has Spetsnaz units on the flanks. The attacker must protect their flanks to prevent encirclement. Maybe dedicating a rapid reaction force or setting up defensive positions on the flanks while the main force advances. Using drones for continuous surveillance could help detect any flanking maneuvers early.  Logistics are a concern. Fuel is low, so the attack needs to be efficient. Prolonged engagements could strain resources. Securing supply routes early, maybe by capturing key logistical points held by the enemy, would help. Also, coordinating with air support to interdict enemy supply lines might reduce their ability to resupply.  Air support is a big asset. Using A-10s for close air support against enemy armor and artillery positions could soften defenses. However, the ROE requires authorization for strikes in urban areas. If the enemy is using urban centers as shields, the attacker might have to rely more on ground forces to avoid civilian casualties. Drone reconnaissance could identify valid military targets away from civilians to justify strikes.  The two-pronged attack plan mentioned in the COA needs to be fleshed out. One prong could be a feint to draw enemy forces, while the main assault focuses on a weaker point. The diversion would stretch enemy defenses, making them commit reserves. But if the enemy doesn't take the bait, the diversion could waste resources. Timing is key here—synchronizing the diversion and main attack to maximize confusion.  Civilian evacuations are a dilemma. Evacuating might reduce collateral damage but could slow the attack and signal the impending assault, giving the enemy time to prepare. Alternatively, proceeding without evacuation risks civilian casualties, which has political ramifications. Maybe covertly encouraging civilians to leave certain areas through local channels without an official evacuation order.  Morale is high initially, but casualties could lower it. Ensuring quick medical evacuation routes and maintaining communication about objectives could help sustain morale. Also, achieving early objectives, like securing the hillock or a key bridge, would boost confidence.  Weather and terrain affecting mobility: Wet ground might bog down vehicles. Using tracked vehicles like the Leopard 2 tanks could handle mud better than wheeled ones. Planning routes that avoid soft ground or having recovery vehicles on standby would be prudent.  In summary, the attacker needs to balance speed with caution, use terrain and weather to their advantage, protect supply lines, manage ROE constraints, and maintain the element of surprise where possible. Decisions on when to commit air power, how to handle choke points, and whether to evacuate civilians will significantly impact the operation's success. </think>\n",
      "\n",
      "--- DEFENSE REASONING ---\n",
      "\n",
      "<think> Okay, so I need to figure out the tactical reasoning for the defender, which is the Red Force (Russian troops) in this scenario. Let me start by understanding the scenario thoroughly. The defender is holding a fortified position in Estonia, specifically around Tartu. The terrain is mixed urban and wooded, transitioning to open fields. There's a hillock near Tartu that provides overwatch, which is probably a key point. The main roads from Tallinn to Tartu are mobility corridors, but there are rivers and forests creating obstacles. The weather is foggy, reducing visibility to 200 meters, and the ground is wet, which might slow down vehicles.  The Red Force has 1,000 troops, including Spetsnaz. They have T-72B tanks, some artillery, and limited air support. Their defenses include fortifications, IEDs, obstacles at choke points, and ambush positions in wooded areas. Their logistics are okay but vulnerable if NATO cuts them off. Morale is low among regular troops but high with Spetsnaz. NATO is attacking with 2,000 troops, better equipment, and air support. The ROE for NATO restricts collateral damage, so they can't just bomb urban areas without approval.  The main goal for the defender is to delay and inflict attrition on NATO forces. They need to hold their positions, use the terrain to their advantage, and exploit NATO's constraints like ROE and potential fuel shortages. Let's break down the tactical reasoning step by step.  First, the defender needs to maximize the use of terrain. The hillock near Tartu is crucial for overwatch. Positioning artillery or observers there could help direct fire. But since it's a key point, NATO might target it early. Maybe the defender should have decoy positions or use the fog to conceal their actual artillery locations. The wooded areas and urban centers are good for ambushes. Spetsnaz can be deployed in these areas to launch surprise attacks, especially in the fog where visibility is low. The choke points, like bridges and narrow paths, are ideal for IEDs and obstacles to slow down NATO's mechanized units. They can funnel NATO into kill zones where pre-sighted artillery or machine guns can hit them.  The urban areas provide cover, but civilians are present. The defender might use this to their advantage by positioning troops near civilian infrastructure, knowing NATO's ROE restricts strikes there. However, this could backfire if civilians are harmed, leading to international backlash. The defender has to balance using urban cover without causing too much collateral damage that would turn the population against them.  Weather is a factor. The fog limits visibility, so the defender can set up ambushes closer without being detected. However, it also affects their own ability to spot incoming forces. Maybe using thermal imaging or other sensors could help, but the defender's equipment might not be as advanced as NATO's. They might rely more on human intelligence and spotters in hidden positions.  Logistics are a concern. The defender's supplies are vulnerable if NATO secures key terrain. They need to protect their supply lines, maybe by keeping reserves to counter any NATO attempts to flank and cut them off. The Spetsnaz could be used to harass NATO supply lines as well, but since the defender is in a fortified position, maybe their focus is more on static defense.  The defender's artillery (2S19 howitzers) should be positioned to cover the expected avenues of approach. Pre-registered fire zones on choke points and likely assembly areas for NATO forces. But they need to avoid being targeted by NATO counter-battery fire. Maybe shoot-and-scoot tactics, moving artillery after firing a few rounds. The limited air support (MIG-29s) could be used to disrupt NATO air strikes or drone reconnaissance, but they have to be careful since NATO likely has superior air defenses.  Morale is an issue. Regular troops have low morale, so the defender needs to keep them in positions where they feel secure, maybe in fortified urban areas where they have cover. Spetsnaz can be used for more aggressive actions to boost overall morale through successful ambushes. Command and control is crucial; leaders need to maintain discipline and communication, especially if NATO jamming is a possibility.  The defender knows NATO has fuel shortages. Delaying tactics could exacerbate this. If NATO's mechanized units get bogged down in the terrain or have to take longer routes due to obstacles, their fuel consumption increases. The defender might prioritize targeting fuel trucks or logistics units if possible, but that requires intelligence on NATO's supply routes.  Civilian evacuations: If the defender can prevent civilians from leaving, it complicates NATO's ROE. But if they force civilians to stay, it might lead to higher casualties and negative propaganda. Alternatively, allowing controlled evacuations might reduce collateral damage concerns but could also allow NATO more freedom to operate in urban areas. The defender has to decide whether to manipulate civilian presence as part of their defense.  Timing of the assault: The defender needs to anticipate whether NATO will go for a direct assault or use feints. Preparing reserves to reinforce threatened sectors once the main axis of attack is identified. Using dummy positions or fake obstacles to mislead NATO about their defensive strength.  In summary, the defender's tactical reasoning revolves around using terrain for ambushes and delaying actions, exploiting NATO's ROE constraints by positioning near civilians, leveraging fog and obstacles to slow NATO's advance, maintaining artillery effectiveness while avoiding counter-battery, managing morale through secure positions and successful Spetsnaz operations, and targeting NATO's logistical weaknesses like fuel. They must balance the use of urban areas for cover without causing excessive collateral damage and decide how to handle civilian presence to their advantage. </think>\n"
     ]
    }
   ],
   "source": [
    "import random\n",
    "\n",
    "sample = random.choice(list(zip(scenarios, attack_reasonings, defense_reasonings)))\n",
    "\n",
    "print(f\"Scenario #{sample[0]['index']}:\\n\\n{sample[0]['scenario_description']}\")\n",
    "print(\"\\n--- ATTACK REASONING ---\\n\")\n",
    "print(sample[1])\n",
    "print(\"\\n--- DEFENSE REASONING ---\\n\")\n",
    "print(sample[2])\n"
   ]
  },
  {
   "cell_type": "code",
   "execution_count": 17,
   "id": "7178ee2f",
   "metadata": {},
   "outputs": [],
   "source": [
    "from huggingface_hub import HfApi, HfFolder\n",
    "from datasets import Dataset\n",
    "\n",
    "load_dotenv()\n",
    "\n",
    "# Load HF API key\n",
    "hf_api_key = os.getenv(\"HF_API_KEY\")\n",
    "\n",
    "# Save token to local Hugging Face config\n",
    "HfFolder.save_token(hf_api_key)\n",
    "\n",
    "# Create a Hugging Face API client\n",
    "api = HfApi()\n"
   ]
  },
  {
   "cell_type": "code",
   "execution_count": 12,
   "id": "92d8e279",
   "metadata": {},
   "outputs": [],
   "source": [
    "# Merge scenarios and generated reasonings\n",
    "final_dataset = []\n",
    "\n",
    "for i in range(len(scenarios)):\n",
    "    final_dataset.append({\n",
    "        \"index\": scenarios[i][\"index\"],\n",
    "        \"scenario_description\": scenarios[i][\"scenario_description\"],\n",
    "        \"attack_reasoning\": attack_reasonings[i],\n",
    "        \"defense_reasoning\": defense_reasonings[i]\n",
    "    })\n"
   ]
  },
  {
   "cell_type": "code",
   "execution_count": 13,
   "id": "6e538b92",
   "metadata": {},
   "outputs": [
    {
     "name": "stdout",
     "output_type": "stream",
     "text": [
      "   index                               scenario_description  \\\n",
      "0      1  ### SCENARIO OVERVIEW:\\n- **Narrative Context:...   \n",
      "1      2  ### SCENARIO OVERVIEW:\\n\\n- **Narrative Contex...   \n",
      "2      3  ### SCENARIO OVERVIEW:\\n- **Context**: The yea...   \n",
      "\n",
      "                                    attack_reasoning  \\\n",
      "0  <think> Okay, so I need to figure out the tact...   \n",
      "1  <think> Okay, let's break down the tactical re...   \n",
      "2  <think> Okay, so I need to figure out the tact...   \n",
      "\n",
      "                                   defense_reasoning  \n",
      "0  <think> Okay, so I need to figure out the tact...  \n",
      "1  <think> Okay, so I need to figure out the tact...  \n",
      "2  <think> Okay, so I need to figure out the tact...  \n",
      "\n",
      "Dataset columns: ['index', 'scenario_description', 'attack_reasoning', 'defense_reasoning']\n"
     ]
    }
   ],
   "source": [
    "import pandas as pd\n",
    "\n",
    "df_preview = pd.DataFrame(final_dataset)\n",
    "\n",
    "print(df_preview.head(3))\n",
    "print(\"\\nDataset columns:\", df_preview.columns.tolist())\n"
   ]
  },
  {
   "cell_type": "code",
   "execution_count": 14,
   "id": "0cc52e57",
   "metadata": {},
   "outputs": [
    {
     "data": {
      "text/plain": [
       "Dataset({\n",
       "    features: ['index', 'scenario_description', 'attack_reasoning', 'defense_reasoning'],\n",
       "    num_rows: 150\n",
       "})"
      ]
     },
     "execution_count": 14,
     "metadata": {},
     "output_type": "execute_result"
    }
   ],
   "source": [
    "from datasets import Dataset\n",
    "\n",
    "# Turn the list of dictionaries into a Hugging Face Dataset object\n",
    "dataset = Dataset.from_list(final_dataset)\n",
    "\n",
    "# Preview it quickly\n",
    "dataset\n"
   ]
  },
  {
   "cell_type": "code",
   "execution_count": 19,
   "id": "afa6a9e2",
   "metadata": {},
   "outputs": [
    {
     "data": {
      "application/vnd.jupyter.widget-view+json": {
       "model_id": "12551db2a5ac4b019e823dba5daa37f4",
       "version_major": 2,
       "version_minor": 0
      },
      "text/plain": [
       "Uploading the dataset shards:   0%|          | 0/1 [00:00<?, ?it/s]"
      ]
     },
     "metadata": {},
     "output_type": "display_data"
    },
    {
     "data": {
      "application/vnd.jupyter.widget-view+json": {
       "model_id": "b599d22b0b86493eb7af23b831552812",
       "version_major": 2,
       "version_minor": 0
      },
      "text/plain": [
       "Creating parquet from Arrow format:   0%|          | 0/1 [00:00<?, ?ba/s]"
      ]
     },
     "metadata": {},
     "output_type": "display_data"
    },
    {
     "data": {
      "text/plain": [
       "CommitInfo(commit_url='https://huggingface.co/datasets/ZennyKenny/tactical-military-reasoning-v.1.0/commit/5e032b94f78de6abcd96462067b7410c0620d28b', commit_message='Upload dataset', commit_description='', oid='5e032b94f78de6abcd96462067b7410c0620d28b', pr_url=None, repo_url=RepoUrl('https://huggingface.co/datasets/ZennyKenny/tactical-military-reasoning-v.1.0', endpoint='https://huggingface.co', repo_type='dataset', repo_id='ZennyKenny/tactical-military-reasoning-v.1.0'), pr_revision=None, pr_num=None)"
      ]
     },
     "execution_count": 19,
     "metadata": {},
     "output_type": "execute_result"
    }
   ],
   "source": [
    "# Push to Hugging Face Hub\n",
    "dataset.push_to_hub(\"ZennyKenny/tactical-military-reasoning-v.1.0\",\n",
    "                    token=os.getenv(\"HF_API_KEY\"))\n"
   ]
  }
 ],
 "metadata": {
  "kernelspec": {
   "display_name": "gen",
   "language": "python",
   "name": "python3"
  },
  "language_info": {
   "codemirror_mode": {
    "name": "ipython",
    "version": 3
   },
   "file_extension": ".py",
   "mimetype": "text/x-python",
   "name": "python",
   "nbconvert_exporter": "python",
   "pygments_lexer": "ipython3",
   "version": "3.13.3"
  }
 },
 "nbformat": 4,
 "nbformat_minor": 5
}
